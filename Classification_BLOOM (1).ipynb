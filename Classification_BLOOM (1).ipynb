{
  "cells": [
    {
      "cell_type": "code",
      "execution_count": 1,
      "metadata": {
        "colab": {
          "base_uri": "https://localhost:8080/"
        },
        "id": "s3NRLXJsQ0PI",
        "outputId": "f516926d-2f6e-43a1-93f2-8ce5135ee6c7"
      },
      "outputs": [
        {
          "output_type": "stream",
          "name": "stdout",
          "text": [
            "Mounted at /content/drive\n"
          ]
        }
      ],
      "source": [
        "from google.colab import drive\n",
        "drive.mount('/content/drive')\n",
        "import os\n",
        "os.chdir('/content/drive/My Drive/Colab Notebooks/code/data/train/subtask_1/en/')"
      ]
    },
    {
      "cell_type": "code",
      "execution_count": 2,
      "metadata": {
        "id": "VhgULtgkQ_2d"
      },
      "outputs": [],
      "source": [
        "import pandas as pd\n",
        "import numpy as np\n",
        "import transformers\n",
        "import random\n",
        "import re\n",
        "from sklearn.metrics import f1_score, classification_report, confusion_matrix\n",
        "from transformers import AutoTokenizer, AutoModelForCausalLM"
      ]
    },
    {
      "cell_type": "code",
      "execution_count": 3,
      "metadata": {
        "id": "JompZyBXLrcw"
      },
      "outputs": [],
      "source": [
        "df_human = pd.read_csv(\"human.csv\")\n",
        "df_bloom1b7 = pd.read_csv(\"bloom1b7.csv\")\n",
        "df_bloom3b = pd.read_csv(\"bloom3b.csv\")\n",
        "df_bloom7b1 = pd.read_csv(\"bloom7b1.csv\")\n",
        "df_gpt = pd.read_csv(\"gpt.csv\")"
      ]
    },
    {
      "cell_type": "code",
      "execution_count": null,
      "metadata": {
        "colab": {
          "base_uri": "https://localhost:8080/",
          "height": 423
        },
        "id": "PWKd89Vk3_fA",
        "outputId": "f9f2aba5-dd7a-44d6-f228-7f952678c178"
      },
      "outputs": [
        {
          "data": {
            "application/vnd.google.colaboratory.intrinsic+json": {
              "summary": "{\n  \"name\": \"df_human\",\n  \"rows\": 1000,\n  \"fields\": [\n    {\n      \"column\": \"id\",\n      \"properties\": {\n        \"dtype\": \"number\",\n        \"std\": 9508,\n        \"min\": 2519,\n        \"max\": 31464,\n        \"num_unique_values\": 1000,\n        \"samples\": [\n          3830,\n          5438,\n          19484\n        ],\n        \"semantic_type\": \"\",\n        \"description\": \"\"\n      }\n    },\n    {\n      \"column\": \"prompt\",\n      \"properties\": {\n        \"dtype\": \"category\",\n        \"num_unique_values\": 1,\n        \"samples\": [\n          \"NO-PROMPT\"\n        ],\n        \"semantic_type\": \"\",\n        \"description\": \"\"\n      }\n    },\n    {\n      \"column\": \"text\",\n      \"properties\": {\n        \"dtype\": \"string\",\n        \"num_unique_values\": 1000,\n        \"samples\": [\n          \"HAS ADOPTED THIS DECISION: Article 1. The regulations and administrative provisions set out in the recitals to this Decision and which concern the implementation of Regulation (EEC) No 797/85 in the GrandDuchy of Luxembourg satisfy the conditions for a Community financial contribution towards the common measure referred to in Article 1 of the said Regulation. Article 2. This Decision is addressed to the Grand Duchy of Luxembourg. Done at Brussels, 11 December 1986.\"\n        ],\n        \"semantic_type\": \"\",\n        \"description\": \"\"\n      }\n    },\n    {\n      \"column\": \"label\",\n      \"properties\": {\n        \"dtype\": \"category\",\n        \"num_unique_values\": 1,\n        \"samples\": [\n          \"human\"\n        ],\n        \"semantic_type\": \"\",\n        \"description\": \"\"\n      }\n    },\n    {\n      \"column\": \"model\",\n      \"properties\": {\n        \"dtype\": \"category\",\n        \"num_unique_values\": 1,\n        \"samples\": [\n          \"NO-MODEL\"\n        ],\n        \"semantic_type\": \"\",\n        \"description\": \"\"\n      }\n    },\n    {\n      \"column\": \"domain\",\n      \"properties\": {\n        \"dtype\": \"category\",\n        \"num_unique_values\": 3,\n        \"samples\": [\n          \"legal\"\n        ],\n        \"semantic_type\": \"\",\n        \"description\": \"\"\n      }\n    }\n  ]\n}",
              "type": "dataframe",
              "variable_name": "df_human"
            },
            "text/html": [
              "\n",
              "  <div id=\"df-628d395c-84a9-4a28-ab07-7e9bd33abc82\" class=\"colab-df-container\">\n",
              "    <div>\n",
              "<style scoped>\n",
              "    .dataframe tbody tr th:only-of-type {\n",
              "        vertical-align: middle;\n",
              "    }\n",
              "\n",
              "    .dataframe tbody tr th {\n",
              "        vertical-align: top;\n",
              "    }\n",
              "\n",
              "    .dataframe thead th {\n",
              "        text-align: right;\n",
              "    }\n",
              "</style>\n",
              "<table border=\"1\" class=\"dataframe\">\n",
              "  <thead>\n",
              "    <tr style=\"text-align: right;\">\n",
              "      <th></th>\n",
              "      <th>id</th>\n",
              "      <th>prompt</th>\n",
              "      <th>text</th>\n",
              "      <th>label</th>\n",
              "      <th>model</th>\n",
              "      <th>domain</th>\n",
              "    </tr>\n",
              "  </thead>\n",
              "  <tbody>\n",
              "    <tr>\n",
              "      <th>0</th>\n",
              "      <td>2782</td>\n",
              "      <td>NO-PROMPT</td>\n",
              "      <td>The date from which expenditure shall be eligi...</td>\n",
              "      <td>human</td>\n",
              "      <td>NO-MODEL</td>\n",
              "      <td>legal</td>\n",
              "    </tr>\n",
              "    <tr>\n",
              "      <th>1</th>\n",
              "      <td>3788</td>\n",
              "      <td>NO-PROMPT</td>\n",
              "      <td>Article 1. The standard import values referred...</td>\n",
              "      <td>human</td>\n",
              "      <td>NO-MODEL</td>\n",
              "      <td>legal</td>\n",
              "    </tr>\n",
              "    <tr>\n",
              "      <th>2</th>\n",
              "      <td>14414</td>\n",
              "      <td>NO-PROMPT</td>\n",
              "      <td>im probably more apprehensive about nm since s...</td>\n",
              "      <td>human</td>\n",
              "      <td>NO-MODEL</td>\n",
              "      <td>tweets</td>\n",
              "    </tr>\n",
              "    <tr>\n",
              "      <th>3</th>\n",
              "      <td>26585</td>\n",
              "      <td>NO-PROMPT</td>\n",
              "      <td>Say something like, I will continue to look fo...</td>\n",
              "      <td>human</td>\n",
              "      <td>NO-MODEL</td>\n",
              "      <td>wiki</td>\n",
              "    </tr>\n",
              "    <tr>\n",
              "      <th>4</th>\n",
              "      <td>7381</td>\n",
              "      <td>NO-PROMPT</td>\n",
              "      <td>The financial support and the payments shall b...</td>\n",
              "      <td>human</td>\n",
              "      <td>NO-MODEL</td>\n",
              "      <td>legal</td>\n",
              "    </tr>\n",
              "    <tr>\n",
              "      <th>...</th>\n",
              "      <td>...</td>\n",
              "      <td>...</td>\n",
              "      <td>...</td>\n",
              "      <td>...</td>\n",
              "      <td>...</td>\n",
              "      <td>...</td>\n",
              "    </tr>\n",
              "    <tr>\n",
              "      <th>995</th>\n",
              "      <td>7725</td>\n",
              "      <td>NO-PROMPT</td>\n",
              "      <td>The date 31 December 1994 is hereby replaced b...</td>\n",
              "      <td>human</td>\n",
              "      <td>NO-MODEL</td>\n",
              "      <td>legal</td>\n",
              "    </tr>\n",
              "    <tr>\n",
              "      <th>996</th>\n",
              "      <td>31383</td>\n",
              "      <td>NO-PROMPT</td>\n",
              "      <td>Your weight should shift from your front (left...</td>\n",
              "      <td>human</td>\n",
              "      <td>NO-MODEL</td>\n",
              "      <td>wiki</td>\n",
              "    </tr>\n",
              "    <tr>\n",
              "      <th>997</th>\n",
              "      <td>19081</td>\n",
              "      <td>NO-PROMPT</td>\n",
              "      <td>Parents STILL havent some back from the hospit...</td>\n",
              "      <td>human</td>\n",
              "      <td>NO-MODEL</td>\n",
              "      <td>tweets</td>\n",
              "    </tr>\n",
              "    <tr>\n",
              "      <th>998</th>\n",
              "      <td>14700</td>\n",
              "      <td>NO-PROMPT</td>\n",
              "      <td>andy roddick advances to ROUND 4! hes gonna me...</td>\n",
              "      <td>human</td>\n",
              "      <td>NO-MODEL</td>\n",
              "      <td>tweets</td>\n",
              "    </tr>\n",
              "    <tr>\n",
              "      <th>999</th>\n",
              "      <td>29986</td>\n",
              "      <td>NO-PROMPT</td>\n",
              "      <td>Look for overthecounter betasitosterol dietary...</td>\n",
              "      <td>human</td>\n",
              "      <td>NO-MODEL</td>\n",
              "      <td>wiki</td>\n",
              "    </tr>\n",
              "  </tbody>\n",
              "</table>\n",
              "<p>1000 rows × 6 columns</p>\n",
              "</div>\n",
              "    <div class=\"colab-df-buttons\">\n",
              "\n",
              "  <div class=\"colab-df-container\">\n",
              "    <button class=\"colab-df-convert\" onclick=\"convertToInteractive('df-628d395c-84a9-4a28-ab07-7e9bd33abc82')\"\n",
              "            title=\"Convert this dataframe to an interactive table.\"\n",
              "            style=\"display:none;\">\n",
              "\n",
              "  <svg xmlns=\"http://www.w3.org/2000/svg\" height=\"24px\" viewBox=\"0 -960 960 960\">\n",
              "    <path d=\"M120-120v-720h720v720H120Zm60-500h600v-160H180v160Zm220 220h160v-160H400v160Zm0 220h160v-160H400v160ZM180-400h160v-160H180v160Zm440 0h160v-160H620v160ZM180-180h160v-160H180v160Zm440 0h160v-160H620v160Z\"/>\n",
              "  </svg>\n",
              "    </button>\n",
              "\n",
              "  <style>\n",
              "    .colab-df-container {\n",
              "      display:flex;\n",
              "      gap: 12px;\n",
              "    }\n",
              "\n",
              "    .colab-df-convert {\n",
              "      background-color: #E8F0FE;\n",
              "      border: none;\n",
              "      border-radius: 50%;\n",
              "      cursor: pointer;\n",
              "      display: none;\n",
              "      fill: #1967D2;\n",
              "      height: 32px;\n",
              "      padding: 0 0 0 0;\n",
              "      width: 32px;\n",
              "    }\n",
              "\n",
              "    .colab-df-convert:hover {\n",
              "      background-color: #E2EBFA;\n",
              "      box-shadow: 0px 1px 2px rgba(60, 64, 67, 0.3), 0px 1px 3px 1px rgba(60, 64, 67, 0.15);\n",
              "      fill: #174EA6;\n",
              "    }\n",
              "\n",
              "    .colab-df-buttons div {\n",
              "      margin-bottom: 4px;\n",
              "    }\n",
              "\n",
              "    [theme=dark] .colab-df-convert {\n",
              "      background-color: #3B4455;\n",
              "      fill: #D2E3FC;\n",
              "    }\n",
              "\n",
              "    [theme=dark] .colab-df-convert:hover {\n",
              "      background-color: #434B5C;\n",
              "      box-shadow: 0px 1px 3px 1px rgba(0, 0, 0, 0.15);\n",
              "      filter: drop-shadow(0px 1px 2px rgba(0, 0, 0, 0.3));\n",
              "      fill: #FFFFFF;\n",
              "    }\n",
              "  </style>\n",
              "\n",
              "    <script>\n",
              "      const buttonEl =\n",
              "        document.querySelector('#df-628d395c-84a9-4a28-ab07-7e9bd33abc82 button.colab-df-convert');\n",
              "      buttonEl.style.display =\n",
              "        google.colab.kernel.accessAllowed ? 'block' : 'none';\n",
              "\n",
              "      async function convertToInteractive(key) {\n",
              "        const element = document.querySelector('#df-628d395c-84a9-4a28-ab07-7e9bd33abc82');\n",
              "        const dataTable =\n",
              "          await google.colab.kernel.invokeFunction('convertToInteractive',\n",
              "                                                    [key], {});\n",
              "        if (!dataTable) return;\n",
              "\n",
              "        const docLinkHtml = 'Like what you see? Visit the ' +\n",
              "          '<a target=\"_blank\" href=https://colab.research.google.com/notebooks/data_table.ipynb>data table notebook</a>'\n",
              "          + ' to learn more about interactive tables.';\n",
              "        element.innerHTML = '';\n",
              "        dataTable['output_type'] = 'display_data';\n",
              "        await google.colab.output.renderOutput(dataTable, element);\n",
              "        const docLink = document.createElement('div');\n",
              "        docLink.innerHTML = docLinkHtml;\n",
              "        element.appendChild(docLink);\n",
              "      }\n",
              "    </script>\n",
              "  </div>\n",
              "\n",
              "\n",
              "<div id=\"df-8cfba2bb-f763-40d9-b5aa-a99770021109\">\n",
              "  <button class=\"colab-df-quickchart\" onclick=\"quickchart('df-8cfba2bb-f763-40d9-b5aa-a99770021109')\"\n",
              "            title=\"Suggest charts\"\n",
              "            style=\"display:none;\">\n",
              "\n",
              "<svg xmlns=\"http://www.w3.org/2000/svg\" height=\"24px\"viewBox=\"0 0 24 24\"\n",
              "     width=\"24px\">\n",
              "    <g>\n",
              "        <path d=\"M19 3H5c-1.1 0-2 .9-2 2v14c0 1.1.9 2 2 2h14c1.1 0 2-.9 2-2V5c0-1.1-.9-2-2-2zM9 17H7v-7h2v7zm4 0h-2V7h2v10zm4 0h-2v-4h2v4z\"/>\n",
              "    </g>\n",
              "</svg>\n",
              "  </button>\n",
              "\n",
              "<style>\n",
              "  .colab-df-quickchart {\n",
              "      --bg-color: #E8F0FE;\n",
              "      --fill-color: #1967D2;\n",
              "      --hover-bg-color: #E2EBFA;\n",
              "      --hover-fill-color: #174EA6;\n",
              "      --disabled-fill-color: #AAA;\n",
              "      --disabled-bg-color: #DDD;\n",
              "  }\n",
              "\n",
              "  [theme=dark] .colab-df-quickchart {\n",
              "      --bg-color: #3B4455;\n",
              "      --fill-color: #D2E3FC;\n",
              "      --hover-bg-color: #434B5C;\n",
              "      --hover-fill-color: #FFFFFF;\n",
              "      --disabled-bg-color: #3B4455;\n",
              "      --disabled-fill-color: #666;\n",
              "  }\n",
              "\n",
              "  .colab-df-quickchart {\n",
              "    background-color: var(--bg-color);\n",
              "    border: none;\n",
              "    border-radius: 50%;\n",
              "    cursor: pointer;\n",
              "    display: none;\n",
              "    fill: var(--fill-color);\n",
              "    height: 32px;\n",
              "    padding: 0;\n",
              "    width: 32px;\n",
              "  }\n",
              "\n",
              "  .colab-df-quickchart:hover {\n",
              "    background-color: var(--hover-bg-color);\n",
              "    box-shadow: 0 1px 2px rgba(60, 64, 67, 0.3), 0 1px 3px 1px rgba(60, 64, 67, 0.15);\n",
              "    fill: var(--button-hover-fill-color);\n",
              "  }\n",
              "\n",
              "  .colab-df-quickchart-complete:disabled,\n",
              "  .colab-df-quickchart-complete:disabled:hover {\n",
              "    background-color: var(--disabled-bg-color);\n",
              "    fill: var(--disabled-fill-color);\n",
              "    box-shadow: none;\n",
              "  }\n",
              "\n",
              "  .colab-df-spinner {\n",
              "    border: 2px solid var(--fill-color);\n",
              "    border-color: transparent;\n",
              "    border-bottom-color: var(--fill-color);\n",
              "    animation:\n",
              "      spin 1s steps(1) infinite;\n",
              "  }\n",
              "\n",
              "  @keyframes spin {\n",
              "    0% {\n",
              "      border-color: transparent;\n",
              "      border-bottom-color: var(--fill-color);\n",
              "      border-left-color: var(--fill-color);\n",
              "    }\n",
              "    20% {\n",
              "      border-color: transparent;\n",
              "      border-left-color: var(--fill-color);\n",
              "      border-top-color: var(--fill-color);\n",
              "    }\n",
              "    30% {\n",
              "      border-color: transparent;\n",
              "      border-left-color: var(--fill-color);\n",
              "      border-top-color: var(--fill-color);\n",
              "      border-right-color: var(--fill-color);\n",
              "    }\n",
              "    40% {\n",
              "      border-color: transparent;\n",
              "      border-right-color: var(--fill-color);\n",
              "      border-top-color: var(--fill-color);\n",
              "    }\n",
              "    60% {\n",
              "      border-color: transparent;\n",
              "      border-right-color: var(--fill-color);\n",
              "    }\n",
              "    80% {\n",
              "      border-color: transparent;\n",
              "      border-right-color: var(--fill-color);\n",
              "      border-bottom-color: var(--fill-color);\n",
              "    }\n",
              "    90% {\n",
              "      border-color: transparent;\n",
              "      border-bottom-color: var(--fill-color);\n",
              "    }\n",
              "  }\n",
              "</style>\n",
              "\n",
              "  <script>\n",
              "    async function quickchart(key) {\n",
              "      const quickchartButtonEl =\n",
              "        document.querySelector('#' + key + ' button');\n",
              "      quickchartButtonEl.disabled = true;  // To prevent multiple clicks.\n",
              "      quickchartButtonEl.classList.add('colab-df-spinner');\n",
              "      try {\n",
              "        const charts = await google.colab.kernel.invokeFunction(\n",
              "            'suggestCharts', [key], {});\n",
              "      } catch (error) {\n",
              "        console.error('Error during call to suggestCharts:', error);\n",
              "      }\n",
              "      quickchartButtonEl.classList.remove('colab-df-spinner');\n",
              "      quickchartButtonEl.classList.add('colab-df-quickchart-complete');\n",
              "    }\n",
              "    (() => {\n",
              "      let quickchartButtonEl =\n",
              "        document.querySelector('#df-8cfba2bb-f763-40d9-b5aa-a99770021109 button');\n",
              "      quickchartButtonEl.style.display =\n",
              "        google.colab.kernel.accessAllowed ? 'block' : 'none';\n",
              "    })();\n",
              "  </script>\n",
              "</div>\n",
              "    </div>\n",
              "  </div>\n"
            ],
            "text/plain": [
              "        id     prompt                                               text  \\\n",
              "0     2782  NO-PROMPT  The date from which expenditure shall be eligi...   \n",
              "1     3788  NO-PROMPT  Article 1. The standard import values referred...   \n",
              "2    14414  NO-PROMPT  im probably more apprehensive about nm since s...   \n",
              "3    26585  NO-PROMPT  Say something like, I will continue to look fo...   \n",
              "4     7381  NO-PROMPT  The financial support and the payments shall b...   \n",
              "..     ...        ...                                                ...   \n",
              "995   7725  NO-PROMPT  The date 31 December 1994 is hereby replaced b...   \n",
              "996  31383  NO-PROMPT  Your weight should shift from your front (left...   \n",
              "997  19081  NO-PROMPT  Parents STILL havent some back from the hospit...   \n",
              "998  14700  NO-PROMPT  andy roddick advances to ROUND 4! hes gonna me...   \n",
              "999  29986  NO-PROMPT  Look for overthecounter betasitosterol dietary...   \n",
              "\n",
              "     label     model  domain  \n",
              "0    human  NO-MODEL   legal  \n",
              "1    human  NO-MODEL   legal  \n",
              "2    human  NO-MODEL  tweets  \n",
              "3    human  NO-MODEL    wiki  \n",
              "4    human  NO-MODEL   legal  \n",
              "..     ...       ...     ...  \n",
              "995  human  NO-MODEL   legal  \n",
              "996  human  NO-MODEL    wiki  \n",
              "997  human  NO-MODEL  tweets  \n",
              "998  human  NO-MODEL  tweets  \n",
              "999  human  NO-MODEL    wiki  \n",
              "\n",
              "[1000 rows x 6 columns]"
            ]
          },
          "execution_count": 6,
          "metadata": {},
          "output_type": "execute_result"
        }
      ],
      "source": [
        "df_human"
      ]
    },
    {
      "cell_type": "markdown",
      "metadata": {
        "id": "vLEG7YP9SqOe"
      },
      "source": [
        "# BLOOM-1B7"
      ]
    },
    {
      "cell_type": "code",
      "execution_count": null,
      "metadata": {
        "id": "onZwM1Ji3HeN"
      },
      "outputs": [],
      "source": [
        "def clean_generated_text(generated_text):\n",
        "    cleaned_text = re.search(r'Your prediction:\\n?(.+)', generated_text, re.DOTALL)\n",
        "    if cleaned_text:\n",
        "      response = cleaned_text.group(1).strip()\n",
        "      if 'machine' in response.lower() :\n",
        "          return 'generated'\n",
        "      elif 'LLM' in response:\n",
        "          return 'generated'\n",
        "      elif 'language model' in response.lower():\n",
        "          return 'generated'\n",
        "      elif 'human' in response.lower():\n",
        "          return 'human'\n",
        "      else:\n",
        "          return response\n",
        "    else:\n",
        "        return None"
      ]
    },
    {
      "cell_type": "code",
      "execution_count": null,
      "metadata": {
        "id": "Tub2p0ny_Hxj"
      },
      "outputs": [],
      "source": [
        "prompt_bloom1b7 = \"\"\"Your task is to evaluate the following text and determine whether it was written by a human or generated by a language model.\n",
        "        Text: {}\n",
        "\n",
        "Based on your analysis, please provide your judgment.\n",
        "If you believe the text was generated by a Large Language Model (LLM), answer '<s>The text is written by a machine.</s>'.\n",
        "If you believe the text was written by a human, answer '<s>The text is written by a human.</s>'.\n",
        "\n",
        "Your prediction: The text is\"\"\""
      ]
    },
    {
      "cell_type": "code",
      "execution_count": null,
      "metadata": {
        "id": "CcMyz41p8nln"
      },
      "outputs": [],
      "source": [
        "prompt_bloom3b = \"\"\"Text classification: Your task is to evaluate the following text and determine whether it was written by a human or generated by a language model.\n",
        "        Text: {}\n",
        "\n",
        "Choose the most likely option:\n",
        "If you believe the text was generated by a Large Language Model (LLM), answer '<s>The text is generated by a machine.</s>'.\n",
        "If you believe the text was written by a human, answer '<s>The text is written by a human.</s>'.\n",
        "\n",
        "Your prediction: The text is\"\"\""
      ]
    },
    {
      "cell_type": "code",
      "execution_count": null,
      "metadata": {
        "id": "Xo0iv4EMZJPk"
      },
      "outputs": [],
      "source": [
        "def classify_texts(df, output_path, model_name, prompt):\n",
        "\n",
        "\n",
        "    tokenizer = AutoTokenizer.from_pretrained(model_name)\n",
        "    model = AutoModelForCausalLM.from_pretrained(model_name)\n",
        "\n",
        "    # Initialize a list to store the results\n",
        "    classification_results = []\n",
        "\n",
        "    # Loop through each text in the dataset\n",
        "    for index, row in df.iterrows():\n",
        "\n",
        "        text_to_classify = row['text']\n",
        "        text_id = row['id']\n",
        "        text = row['text']\n",
        "        label = row['label']\n",
        "        domain = row['domain']\n",
        "\n",
        "        prompt_formatted = prompt.format(text_to_classify)\n",
        "\n",
        "        inputs = tokenizer(prompt_formatted, return_tensors=\"pt\")\n",
        "        input_length = inputs.input_ids.size(1)\n",
        "        max_length = max(50, input_length+25)\n",
        "        generated_ids = model.generate(inputs.input_ids, max_length=max_length, temperature = 0.5, do_sample = True) # change temperature accordingly\n",
        "        generated_text = tokenizer.decode(generated_ids[0])\n",
        "\n",
        "        cleaned_generated_text = clean_generated_text(generated_text)\n",
        "\n",
        "        classification_results.append({'id': text_id, 'text': text, 'domain': domain, 'label' : label,  'predicted_label': cleaned_generated_text})\n",
        "\n",
        "    # Convert the results to a DataFrame\n",
        "    print(classification_results)\n",
        "    classification_df = pd.DataFrame(classification_results)\n",
        "\n",
        "    # Save the DataFrame to a CSV file\n",
        "    classification_df.to_csv(output_path, index=False)"
      ]
    },
    {
      "cell_type": "code",
      "execution_count": 4,
      "metadata": {
        "id": "lE-74HpC_FIk"
      },
      "outputs": [],
      "source": [
        "def results_evaluation(file_path, correct_answer):\n",
        "    df = pd.read_csv(file_path)\n",
        "\n",
        "    df['predicted_label'] = df['predicted_label'].where(df['predicted_label'].isin(['generated', 'human']))\n",
        "\n",
        "    df.dropna(subset=['predicted_label'], inplace=True)\n",
        "\n",
        "    df['correct_answer'] = correct_answer\n",
        "\n",
        "    report = classification_report(df['correct_answer'], df['predicted_label'], zero_division=1)\n",
        "\n",
        "    micro_f1 = f1_score(df['correct_answer'], df['predicted_label'], average='micro')\n",
        "\n",
        "    print(df['predicted_label'].value_counts())\n",
        "\n",
        "    return micro_f1, report"
      ]
    },
    {
      "cell_type": "markdown",
      "metadata": {
        "id": "B-MtNfeWUpMt"
      },
      "source": [
        "## Human texts classification"
      ]
    },
    {
      "cell_type": "code",
      "execution_count": null,
      "metadata": {
        "id": "y25vIyXdcAm6"
      },
      "outputs": [],
      "source": [
        "classify_texts(df_human, \"classification_results_1b7_human-2.csv\", \"bigscience/bloom-1b7\", prompt_bloom1b7)"
      ]
    },
    {
      "cell_type": "code",
      "source": [
        "report, f1 = results_evaluation(\"classification_results_1b7_human.csv\", \"human\" )\n",
        "print(report)\n",
        "\n",
        "print(f1)\n",
        "\n",
        "#print(matrix)"
      ],
      "metadata": {
        "colab": {
          "base_uri": "https://localhost:8080/"
        },
        "id": "mhy7Rm8f_i0s",
        "outputId": "cd23aded-ebb9-47e3-ad8d-caec6dd141bc"
      },
      "execution_count": 5,
      "outputs": [
        {
          "output_type": "stream",
          "name": "stdout",
          "text": [
            "predicted_label\n",
            "generated    623\n",
            "human        376\n",
            "Name: count, dtype: int64\n",
            "0.3763763763763764\n",
            "              precision    recall  f1-score   support\n",
            "\n",
            "   generated       0.00      1.00      0.00         0\n",
            "       human       1.00      0.38      0.55       999\n",
            "\n",
            "    accuracy                           0.38       999\n",
            "   macro avg       0.50      0.69      0.27       999\n",
            "weighted avg       1.00      0.38      0.55       999\n",
            "\n"
          ]
        }
      ]
    },
    {
      "cell_type": "code",
      "execution_count": null,
      "metadata": {
        "id": "Z7sP-loYeydx"
      },
      "outputs": [],
      "source": [
        "classify_texts(df_human, \"classification_results_3b_human.csv\", \"bigscience/bloom-3b\", prompt_bloom3b)"
      ]
    },
    {
      "cell_type": "code",
      "execution_count": null,
      "metadata": {
        "colab": {
          "base_uri": "https://localhost:8080/"
        },
        "id": "tY3kN3XteziJ",
        "outputId": "e2cded2f-51e0-413b-d562-a71c26d7641b"
      },
      "outputs": [
        {
          "name": "stdout",
          "output_type": "stream",
          "text": [
            "predicted_label\n",
            "human        578\n",
            "generated    421\n",
            "Name: count, dtype: int64\n",
            "0.5785785785785785\n",
            "              precision    recall  f1-score   support\n",
            "\n",
            "   generated       0.00      1.00      0.00         0\n",
            "       human       1.00      0.58      0.73       999\n",
            "\n",
            "    accuracy                           0.58       999\n",
            "   macro avg       0.50      0.79      0.37       999\n",
            "weighted avg       1.00      0.58      0.73       999\n",
            "\n"
          ]
        }
      ],
      "source": [
        "report, f1 = results_evaluation(\"classification_results_3b_human.csv\", \"human\" )\n",
        "print(report)\n",
        "\n",
        "print(f1)"
      ]
    },
    {
      "cell_type": "markdown",
      "metadata": {
        "id": "jnIPyoS4UqI5"
      },
      "source": [
        "## BLOOM-1B7 texts classification"
      ]
    },
    {
      "cell_type": "code",
      "execution_count": null,
      "metadata": {
        "id": "6Vx38spkcgUz"
      },
      "outputs": [],
      "source": [
        "classify_texts(df_bloom1b7, \"classification_results_1b7_1b7.csv\", \"bigscience/bloom-1b7\", prompt_bloom_1b7)"
      ]
    },
    {
      "cell_type": "code",
      "source": [
        "report, f1 = results_evaluation(\"classification_results_1b7_1b7.csv\", \"generated\" )\n",
        "print(report)\n",
        "\n",
        "print(f1)"
      ],
      "metadata": {
        "colab": {
          "base_uri": "https://localhost:8080/"
        },
        "id": "-tAdmdSi_qY9",
        "outputId": "080e7c82-9295-4400-8763-a12d1143cf54"
      },
      "execution_count": 6,
      "outputs": [
        {
          "output_type": "stream",
          "name": "stdout",
          "text": [
            "predicted_label\n",
            "generated    639\n",
            "human        361\n",
            "Name: count, dtype: int64\n",
            "0.639\n",
            "              precision    recall  f1-score   support\n",
            "\n",
            "   generated       1.00      0.64      0.78      1000\n",
            "       human       0.00      1.00      0.00         0\n",
            "\n",
            "    accuracy                           0.64      1000\n",
            "   macro avg       0.50      0.82      0.39      1000\n",
            "weighted avg       1.00      0.64      0.78      1000\n",
            "\n"
          ]
        }
      ]
    },
    {
      "cell_type": "code",
      "execution_count": null,
      "metadata": {
        "id": "kgzeT5V4T2cc"
      },
      "outputs": [],
      "source": [
        "classify_texts(df_bloom1b7, \"classification_results_3b_1b7.csv\", \"bigscience/bloom-3b\")"
      ]
    },
    {
      "cell_type": "code",
      "execution_count": 7,
      "metadata": {
        "colab": {
          "base_uri": "https://localhost:8080/"
        },
        "id": "tIT7_PD_T8s9",
        "outputId": "31d92a1d-5fc8-4a64-802f-d3870dbf1588"
      },
      "outputs": [
        {
          "output_type": "stream",
          "name": "stdout",
          "text": [
            "predicted_label\n",
            "human        551\n",
            "generated    449\n",
            "Name: count, dtype: int64\n",
            "0.449\n",
            "              precision    recall  f1-score   support\n",
            "\n",
            "   generated       1.00      0.45      0.62      1000\n",
            "       human       0.00      1.00      0.00         0\n",
            "\n",
            "    accuracy                           0.45      1000\n",
            "   macro avg       0.50      0.72      0.31      1000\n",
            "weighted avg       1.00      0.45      0.62      1000\n",
            "\n"
          ]
        }
      ],
      "source": [
        "report, f1 = results_evaluation(\"classification_results_3b_1b7.csv\", \"generated\" )\n",
        "print(report)\n",
        "\n",
        "print(f1)"
      ]
    },
    {
      "cell_type": "markdown",
      "metadata": {
        "id": "v1FNIAfAUvsn"
      },
      "source": [
        "## BLOOM-3B texts classification"
      ]
    },
    {
      "cell_type": "code",
      "execution_count": null,
      "metadata": {
        "id": "dd59IbNednOY"
      },
      "outputs": [],
      "source": [
        "classify_texts(df_bloom3b, \"classification_results_1b7_3b.csv\", \"bigscience/bloom-1b7\", prompt_bloom_1b7)"
      ]
    },
    {
      "cell_type": "code",
      "source": [
        "report, f1 = results_evaluation(\"classification_results_1b7_3b.csv\", \"generated\" )\n",
        "print(report)\n",
        "\n",
        "print(f1)"
      ],
      "metadata": {
        "colab": {
          "base_uri": "https://localhost:8080/"
        },
        "id": "sB9Hp3RQ_vuO",
        "outputId": "e66854c8-a13a-4062-fe9e-9b6375492723"
      },
      "execution_count": 8,
      "outputs": [
        {
          "output_type": "stream",
          "name": "stdout",
          "text": [
            "predicted_label\n",
            "generated    609\n",
            "human        390\n",
            "Name: count, dtype: int64\n",
            "0.6096096096096096\n",
            "              precision    recall  f1-score   support\n",
            "\n",
            "   generated       1.00      0.61      0.76       999\n",
            "       human       0.00      1.00      0.00         0\n",
            "\n",
            "    accuracy                           0.61       999\n",
            "   macro avg       0.50      0.80      0.38       999\n",
            "weighted avg       1.00      0.61      0.76       999\n",
            "\n"
          ]
        }
      ]
    },
    {
      "cell_type": "code",
      "execution_count": null,
      "metadata": {
        "id": "GXq3CZumZfxP"
      },
      "outputs": [],
      "source": [
        "classify_texts(df_bloom3b, \"classification_results_3b_3b.csv\", \"bigscience/bloom-3b\", prompt_bloom3b)"
      ]
    },
    {
      "cell_type": "code",
      "execution_count": null,
      "metadata": {
        "colab": {
          "base_uri": "https://localhost:8080/"
        },
        "id": "DoHS_t7pUSuP",
        "outputId": "6b195e49-9f5b-4aa2-a074-f3cc4e531fa1"
      },
      "outputs": [
        {
          "name": "stdout",
          "output_type": "stream",
          "text": [
            "predicted_label\n",
            "human        571\n",
            "generated    429\n",
            "Name: count, dtype: int64\n",
            "0.429\n",
            "              precision    recall  f1-score   support\n",
            "\n",
            "   generated       1.00      0.43      0.60      1000\n",
            "       human       0.00      1.00      0.00         0\n",
            "\n",
            "    accuracy                           0.43      1000\n",
            "   macro avg       0.50      0.71      0.30      1000\n",
            "weighted avg       1.00      0.43      0.60      1000\n",
            "\n"
          ]
        }
      ],
      "source": [
        "report, f1 = results_evaluation(\"classification_results_3b_3b.csv\", \"generated\" )\n",
        "print(report)\n",
        "\n",
        "print(f1)"
      ]
    },
    {
      "cell_type": "markdown",
      "metadata": {
        "id": "MfHLuJ13UyTL"
      },
      "source": [
        "## GPT texts classification"
      ]
    },
    {
      "cell_type": "code",
      "source": [
        "classify_texts(df_gpt, \"classification_results_1b7_gpt.csv\", \"bigscience/bloom-1b7\", prompt_bloom1b7)"
      ],
      "metadata": {
        "id": "U66C7EZoxulE"
      },
      "execution_count": null,
      "outputs": []
    },
    {
      "cell_type": "code",
      "source": [
        "report, f1 = results_evaluation(\"classification_results_1b7_gpt.csv\", \"generated\" )\n",
        "print(report)\n",
        "\n",
        "print(f1)"
      ],
      "metadata": {
        "colab": {
          "base_uri": "https://localhost:8080/"
        },
        "id": "YS9BcRBg_zYa",
        "outputId": "25ca06b8-ef95-4564-d8b4-2138fb585512"
      },
      "execution_count": 9,
      "outputs": [
        {
          "output_type": "stream",
          "name": "stdout",
          "text": [
            "predicted_label\n",
            "generated    600\n",
            "human        399\n",
            "Name: count, dtype: int64\n",
            "0.6006006006006006\n",
            "              precision    recall  f1-score   support\n",
            "\n",
            "   generated       1.00      0.60      0.75       999\n",
            "       human       0.00      1.00      0.00         0\n",
            "\n",
            "    accuracy                           0.60       999\n",
            "   macro avg       0.50      0.80      0.38       999\n",
            "weighted avg       1.00      0.60      0.75       999\n",
            "\n"
          ]
        }
      ]
    },
    {
      "cell_type": "code",
      "execution_count": null,
      "metadata": {
        "id": "iMxkyRbEdn29"
      },
      "outputs": [],
      "source": [
        "classify_texts(df_gpt, \"classification_results_3b_gpt.csv\", \"bigscience/bloom-1b7\", prompt_bloom1b7)"
      ]
    },
    {
      "cell_type": "code",
      "source": [
        "report, f1 = results_evaluation(\"classification_results_3b_gpt.csv\", \"generated\" )\n",
        "print(report)\n",
        "\n",
        "print(f1)"
      ],
      "metadata": {
        "colab": {
          "base_uri": "https://localhost:8080/"
        },
        "id": "rycmHgBB_5xJ",
        "outputId": "32065cc9-828d-4657-d139-04cee126f54e"
      },
      "execution_count": 10,
      "outputs": [
        {
          "output_type": "stream",
          "name": "stdout",
          "text": [
            "predicted_label\n",
            "generated    507\n",
            "human        493\n",
            "Name: count, dtype: int64\n",
            "0.507\n",
            "              precision    recall  f1-score   support\n",
            "\n",
            "   generated       1.00      0.51      0.67      1000\n",
            "       human       0.00      1.00      0.00         0\n",
            "\n",
            "    accuracy                           0.51      1000\n",
            "   macro avg       0.50      0.75      0.34      1000\n",
            "weighted avg       1.00      0.51      0.67      1000\n",
            "\n"
          ]
        }
      ]
    }
  ],
  "metadata": {
    "colab": {
      "machine_shape": "hm",
      "provenance": []
    },
    "kernelspec": {
      "display_name": "Python 3",
      "name": "python3"
    },
    "language_info": {
      "name": "python"
    }
  },
  "nbformat": 4,
  "nbformat_minor": 0
}