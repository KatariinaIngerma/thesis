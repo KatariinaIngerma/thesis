{
  "nbformat": 4,
  "nbformat_minor": 0,
  "metadata": {
    "colab": {
      "provenance": [],
      "machine_shape": "hm"
    },
    "kernelspec": {
      "name": "python3",
      "display_name": "Python 3"
    },
    "language_info": {
      "name": "python"
    }
  },
  "cells": [
    {
      "cell_type": "code",
      "execution_count": null,
      "metadata": {
        "id": "HjwYQ89uI6sF",
        "colab": {
          "base_uri": "https://localhost:8080/"
        },
        "outputId": "f1a233f2-0711-4c07-f779-c7e39a1eb302"
      },
      "outputs": [
        {
          "output_type": "stream",
          "name": "stdout",
          "text": [
            "Mounted at /content/drive\n"
          ]
        }
      ],
      "source": [
        "from google.colab import drive\n",
        "drive.mount('/content/drive')\n",
        "import os\n",
        "os.chdir('/content/drive/My Drive/Colab Notebooks/code/data/train/subtask_1/en/')\n",
        "#os.chdir('/content/drive/My Drive/Colab Notebooks/code/data/test/subtask_1/en/')"
      ]
    },
    {
      "cell_type": "code",
      "source": [
        "%pip install openai"
      ],
      "metadata": {
        "id": "0Hgw2_GYOPEW",
        "colab": {
          "base_uri": "https://localhost:8080/"
        },
        "outputId": "518aa8a3-ac99-4cc7-8677-b5c0454dbd43"
      },
      "execution_count": null,
      "outputs": [
        {
          "output_type": "stream",
          "name": "stdout",
          "text": [
            "Collecting openai\n",
            "  Downloading openai-1.27.0-py3-none-any.whl (314 kB)\n",
            "\u001b[?25l     \u001b[90m━━━━━━━━━━━━━━━━━━━━━━━━━━━━━━━━━━━━━━━━\u001b[0m \u001b[32m0.0/314.1 kB\u001b[0m \u001b[31m?\u001b[0m eta \u001b[36m-:--:--\u001b[0m\r\u001b[2K     \u001b[91m━━━━━━━━━\u001b[0m\u001b[90m╺\u001b[0m\u001b[90m━━━━━━━━━━━━━━━━━━━━━━━━━━━━━━\u001b[0m \u001b[32m71.7/314.1 kB\u001b[0m \u001b[31m1.9 MB/s\u001b[0m eta \u001b[36m0:00:01\u001b[0m\r\u001b[2K     \u001b[90m━━━━━━━━━━━━━━━━━━━━━━━━━━━━━━━━━━━━━━━━\u001b[0m \u001b[32m314.1/314.1 kB\u001b[0m \u001b[31m4.8 MB/s\u001b[0m eta \u001b[36m0:00:00\u001b[0m\n",
            "\u001b[?25hRequirement already satisfied: anyio<5,>=3.5.0 in /usr/local/lib/python3.10/dist-packages (from openai) (3.7.1)\n",
            "Requirement already satisfied: distro<2,>=1.7.0 in /usr/lib/python3/dist-packages (from openai) (1.7.0)\n",
            "Collecting httpx<1,>=0.23.0 (from openai)\n",
            "  Downloading httpx-0.27.0-py3-none-any.whl (75 kB)\n",
            "\u001b[2K     \u001b[90m━━━━━━━━━━━━━━━━━━━━━━━━━━━━━━━━━━━━━━━━\u001b[0m \u001b[32m75.6/75.6 kB\u001b[0m \u001b[31m9.6 MB/s\u001b[0m eta \u001b[36m0:00:00\u001b[0m\n",
            "\u001b[?25hRequirement already satisfied: pydantic<3,>=1.9.0 in /usr/local/lib/python3.10/dist-packages (from openai) (2.7.1)\n",
            "Requirement already satisfied: sniffio in /usr/local/lib/python3.10/dist-packages (from openai) (1.3.1)\n",
            "Requirement already satisfied: tqdm>4 in /usr/local/lib/python3.10/dist-packages (from openai) (4.66.4)\n",
            "Requirement already satisfied: typing-extensions<5,>=4.7 in /usr/local/lib/python3.10/dist-packages (from openai) (4.11.0)\n",
            "Requirement already satisfied: idna>=2.8 in /usr/local/lib/python3.10/dist-packages (from anyio<5,>=3.5.0->openai) (3.7)\n",
            "Requirement already satisfied: exceptiongroup in /usr/local/lib/python3.10/dist-packages (from anyio<5,>=3.5.0->openai) (1.2.1)\n",
            "Requirement already satisfied: certifi in /usr/local/lib/python3.10/dist-packages (from httpx<1,>=0.23.0->openai) (2024.2.2)\n",
            "Collecting httpcore==1.* (from httpx<1,>=0.23.0->openai)\n",
            "  Downloading httpcore-1.0.5-py3-none-any.whl (77 kB)\n",
            "\u001b[2K     \u001b[90m━━━━━━━━━━━━━━━━━━━━━━━━━━━━━━━━━━━━━━━━\u001b[0m \u001b[32m77.9/77.9 kB\u001b[0m \u001b[31m8.9 MB/s\u001b[0m eta \u001b[36m0:00:00\u001b[0m\n",
            "\u001b[?25hCollecting h11<0.15,>=0.13 (from httpcore==1.*->httpx<1,>=0.23.0->openai)\n",
            "  Downloading h11-0.14.0-py3-none-any.whl (58 kB)\n",
            "\u001b[2K     \u001b[90m━━━━━━━━━━━━━━━━━━━━━━━━━━━━━━━━━━━━━━━━\u001b[0m \u001b[32m58.3/58.3 kB\u001b[0m \u001b[31m6.8 MB/s\u001b[0m eta \u001b[36m0:00:00\u001b[0m\n",
            "\u001b[?25hRequirement already satisfied: annotated-types>=0.4.0 in /usr/local/lib/python3.10/dist-packages (from pydantic<3,>=1.9.0->openai) (0.6.0)\n",
            "Requirement already satisfied: pydantic-core==2.18.2 in /usr/local/lib/python3.10/dist-packages (from pydantic<3,>=1.9.0->openai) (2.18.2)\n",
            "Installing collected packages: h11, httpcore, httpx, openai\n",
            "Successfully installed h11-0.14.0 httpcore-1.0.5 httpx-0.27.0 openai-1.27.0\n"
          ]
        }
      ]
    },
    {
      "cell_type": "code",
      "source": [
        "import pandas as pd\n",
        "import numpy as np\n",
        "import random\n",
        "import re\n",
        "import openai\n",
        "import matplotlib.pyplot as plt\n",
        "from sklearn.metrics import f1_score, classification_report, accuracy_score"
      ],
      "metadata": {
        "id": "IvWZimW5Ohsj"
      },
      "execution_count": null,
      "outputs": []
    },
    {
      "cell_type": "code",
      "source": [
        "from google.colab import userdata\n",
        "api_key = userdata.get('api-key')"
      ],
      "metadata": {
        "id": "zfFmbCCjOmJK"
      },
      "execution_count": null,
      "outputs": []
    },
    {
      "cell_type": "code",
      "source": [
        "df_human = pd.read_csv(\"df_human.tsv\", sep='\\t')\n",
        "df_bloom1b7 = pd.read_csv(\"df_bloom1b7.tsv\", sep='\\t')\n",
        "df_bloom3b = pd.read_csv(\"df_bloom3b.tsv\", sep='\\t')\n",
        "df_bloom7b1 = pd.read_csv(\"df_bloom7b1.tsv\", sep='\\t')\n",
        "df_gpt = pd.read_csv(\"gpt.csv\")"
      ],
      "metadata": {
        "id": "K58ZKL2vdGlL"
      },
      "execution_count": null,
      "outputs": []
    },
    {
      "cell_type": "code",
      "source": [
        "df_samples = []\n",
        "# 5 samples Bloom (classification outcome)\n",
        "sample = df_bloom1b7[df_bloom1b7['id'] == 11106]\n",
        "df_samples.append(sample)\n",
        "sample = df_bloom1b7[df_bloom1b7['id'] == 798]\n",
        "df_samples.append(sample)\n",
        "sample = df_bloom1b7[df_bloom1b7['id'] == 729]\n",
        "df_samples.append(sample)\n",
        "sample = df_bloom7b1[df_bloom7b1['id'] == 25290]\n",
        "df_samples.append(sample)\n",
        "sample = df_bloom3b[df_bloom3b['id'] == 1022]\n",
        "df_samples.append(sample)\n",
        "\n",
        "# 5 samples no classification outcome (Bloom/human)\n",
        "sample = df_bloom7b1[df_bloom7b1['id'] == 25349]\n",
        "df_samples.append(sample)\n",
        "sample = df_human[df_human['id'] == 18336]\n",
        "df_samples.append(sample)\n",
        "sample = df_human[df_human['id'] == 6804]\n",
        "df_samples.append(sample)\n",
        "sample = df_human[df_human['id'] == 26159]\n",
        "df_samples.append(sample)\n",
        "sample = df_bloom7b1[df_bloom7b1['id'] == 13024]\n",
        "df_samples.append(sample)\n",
        "\n",
        "# 5 samples human (classification outcome)\n",
        "sample = df_human[df_human['id'] == 18934]\n",
        "df_samples.append(sample)\n",
        "sample = df_human[df_human['id'] == 6703]\n",
        "df_samples.append(sample)\n",
        "sample = df_human[df_human['id'] == 30729]\n",
        "df_samples.append(sample)\n",
        "sample = df_human[df_human['id'] == 3691]\n",
        "df_samples.append(sample)\n",
        "sample = df_human[df_human['id'] == 28685]\n",
        "df_samples.append(sample)\n",
        "\n",
        "# Added 5 random samples from GPT dataset\n",
        "sample = df_gpt[df_gpt['id'] == 40000]\n",
        "df_samples.append(sample)\n",
        "sample = df_gpt[df_gpt['id'] == 40500]\n",
        "df_samples.append(sample)\n",
        "sample = df_gpt[df_gpt['id'] == 40770]\n",
        "df_samples.append(sample)\n",
        "sample = df_gpt[df_gpt['id'] == 40123]\n",
        "df_samples.append(sample)\n",
        "sample = df_gpt[df_gpt['id'] == 40990]\n",
        "df_samples.append(sample)\n",
        "\n",
        "df_samples = pd.concat(df_samples, ignore_index=True)"
      ],
      "metadata": {
        "id": "GC7c2gTVc7JA"
      },
      "execution_count": null,
      "outputs": []
    },
    {
      "cell_type": "code",
      "source": [
        "df_samples"
      ],
      "metadata": {
        "colab": {
          "base_uri": "https://localhost:8080/",
          "height": 677
        },
        "id": "kyZMx34ztl-G",
        "outputId": "8fbaf1a6-882e-4329-ccef-bc4d36bb4239"
      },
      "execution_count": null,
      "outputs": [
        {
          "output_type": "execute_result",
          "data": {
            "text/plain": [
              "       id                                             prompt  \\\n",
              "0   11106                           Extremely happy I got to   \n",
              "1     798  (2) It follows from applying the rules and cri...   \n",
              "2     729  3. Regulation (EC) No 1839/95 shall apply save...   \n",
              "3   25290  Dogs' fur is designed not only to keep them wa...   \n",
              "4    1022  The Management Committee for Milk and Milk Pro...   \n",
              "5   25349  The serial number should correspond to the ser...   \n",
              "6   18336                                          NO-PROMPT   \n",
              "7    6804                                          NO-PROMPT   \n",
              "8   26159                                          NO-PROMPT   \n",
              "9   13024                              @suziam I am SO proud   \n",
              "10  18934                                          NO-PROMPT   \n",
              "11   6703                                          NO-PROMPT   \n",
              "12  30729                                          NO-PROMPT   \n",
              "13   3691                                          NO-PROMPT   \n",
              "14  28685                                          NO-PROMPT   \n",
              "15  40000                           this tweet is for josie!   \n",
              "16  40500  Whereas the measures provided for in this Regu...   \n",
              "17  40770  If you don't already know your waist measureme...   \n",
              "18  40123                          @chloe_e zomg i know! its   \n",
              "19  40990  People with common sense make decisions based ...   \n",
              "\n",
              "                                                 text      label  \\\n",
              "0   Extremely happy I got to go down in the trench...  generated   \n",
              "1   */. Regulation annexed. */ If a Member State h...  generated   \n",
              "2   . Paragraph 6.1., amend to read: 1. This Regul...  generated   \n",
              "3   Their ears, tail and feet are also protected f...  generated   \n",
              "4   The Council of Ministers is entrusted with the...  generated   \n",
              "5   The problem is that I cant find anything in th...  generated   \n",
              "6   @DavidArchie ohmygosh that is SO COOL your sis...      human   \n",
              "7   Article 1. The standard import values referred...      human   \n",
              "8   Shuffle each set of cards, cut them and lay th...      human   \n",
              "9   @suziam I am SO proud of you. We are all so pr...  generated   \n",
              "10  . Just What I Needed, The Water Pump Fucked Up...      human   \n",
              "11  Mr Jonathan McIvor is hereby appointed Head of...      human   \n",
              "12  Each type has different characteristics, so th...      human   \n",
              "13  The provisions of Commission Regulation (EEC) ...      human   \n",
              "14  If possible, pick classes focused on financial...      human   \n",
              "15  this tweet is for josie! Hey Josie, just wante...  generated   \n",
              "16  This statement indicates that the Regulation b...  generated   \n",
              "17  One way to measure your waist is by using a me...  generated   \n",
              "18  @chloe_e zomg i know! its Sorry, it looks like...  generated   \n",
              "19  Common sense is the ability to make practical ...  generated   \n",
              "\n",
              "            model  domain  \n",
              "0               A  tweets  \n",
              "1               A   legal  \n",
              "2               A   legal  \n",
              "3               C    wiki  \n",
              "4               B   legal  \n",
              "5               C    wiki  \n",
              "6        NO-MODEL  tweets  \n",
              "7        NO-MODEL   legal  \n",
              "8        NO-MODEL    wiki  \n",
              "9               C  tweets  \n",
              "10       NO-MODEL  tweets  \n",
              "11       NO-MODEL   legal  \n",
              "12       NO-MODEL    wiki  \n",
              "13       NO-MODEL   legal  \n",
              "14       NO-MODEL    wiki  \n",
              "15  gpt-3.5-turbo  tweets  \n",
              "16  gpt-3.5-turbo   legal  \n",
              "17  gpt-3.5-turbo    wiki  \n",
              "18  gpt-3.5-turbo  tweets  \n",
              "19  gpt-3.5-turbo    wiki  "
            ],
            "text/html": [
              "\n",
              "  <div id=\"df-8321cc65-7ea5-4f72-b8d7-3c310c17f94f\" class=\"colab-df-container\">\n",
              "    <div>\n",
              "<style scoped>\n",
              "    .dataframe tbody tr th:only-of-type {\n",
              "        vertical-align: middle;\n",
              "    }\n",
              "\n",
              "    .dataframe tbody tr th {\n",
              "        vertical-align: top;\n",
              "    }\n",
              "\n",
              "    .dataframe thead th {\n",
              "        text-align: right;\n",
              "    }\n",
              "</style>\n",
              "<table border=\"1\" class=\"dataframe\">\n",
              "  <thead>\n",
              "    <tr style=\"text-align: right;\">\n",
              "      <th></th>\n",
              "      <th>id</th>\n",
              "      <th>prompt</th>\n",
              "      <th>text</th>\n",
              "      <th>label</th>\n",
              "      <th>model</th>\n",
              "      <th>domain</th>\n",
              "    </tr>\n",
              "  </thead>\n",
              "  <tbody>\n",
              "    <tr>\n",
              "      <th>0</th>\n",
              "      <td>11106</td>\n",
              "      <td>Extremely happy I got to</td>\n",
              "      <td>Extremely happy I got to go down in the trench...</td>\n",
              "      <td>generated</td>\n",
              "      <td>A</td>\n",
              "      <td>tweets</td>\n",
              "    </tr>\n",
              "    <tr>\n",
              "      <th>1</th>\n",
              "      <td>798</td>\n",
              "      <td>(2) It follows from applying the rules and cri...</td>\n",
              "      <td>*/. Regulation annexed. */ If a Member State h...</td>\n",
              "      <td>generated</td>\n",
              "      <td>A</td>\n",
              "      <td>legal</td>\n",
              "    </tr>\n",
              "    <tr>\n",
              "      <th>2</th>\n",
              "      <td>729</td>\n",
              "      <td>3. Regulation (EC) No 1839/95 shall apply save...</td>\n",
              "      <td>. Paragraph 6.1., amend to read: 1. This Regul...</td>\n",
              "      <td>generated</td>\n",
              "      <td>A</td>\n",
              "      <td>legal</td>\n",
              "    </tr>\n",
              "    <tr>\n",
              "      <th>3</th>\n",
              "      <td>25290</td>\n",
              "      <td>Dogs' fur is designed not only to keep them wa...</td>\n",
              "      <td>Their ears, tail and feet are also protected f...</td>\n",
              "      <td>generated</td>\n",
              "      <td>C</td>\n",
              "      <td>wiki</td>\n",
              "    </tr>\n",
              "    <tr>\n",
              "      <th>4</th>\n",
              "      <td>1022</td>\n",
              "      <td>The Management Committee for Milk and Milk Pro...</td>\n",
              "      <td>The Council of Ministers is entrusted with the...</td>\n",
              "      <td>generated</td>\n",
              "      <td>B</td>\n",
              "      <td>legal</td>\n",
              "    </tr>\n",
              "    <tr>\n",
              "      <th>5</th>\n",
              "      <td>25349</td>\n",
              "      <td>The serial number should correspond to the ser...</td>\n",
              "      <td>The problem is that I cant find anything in th...</td>\n",
              "      <td>generated</td>\n",
              "      <td>C</td>\n",
              "      <td>wiki</td>\n",
              "    </tr>\n",
              "    <tr>\n",
              "      <th>6</th>\n",
              "      <td>18336</td>\n",
              "      <td>NO-PROMPT</td>\n",
              "      <td>@DavidArchie ohmygosh that is SO COOL your sis...</td>\n",
              "      <td>human</td>\n",
              "      <td>NO-MODEL</td>\n",
              "      <td>tweets</td>\n",
              "    </tr>\n",
              "    <tr>\n",
              "      <th>7</th>\n",
              "      <td>6804</td>\n",
              "      <td>NO-PROMPT</td>\n",
              "      <td>Article 1. The standard import values referred...</td>\n",
              "      <td>human</td>\n",
              "      <td>NO-MODEL</td>\n",
              "      <td>legal</td>\n",
              "    </tr>\n",
              "    <tr>\n",
              "      <th>8</th>\n",
              "      <td>26159</td>\n",
              "      <td>NO-PROMPT</td>\n",
              "      <td>Shuffle each set of cards, cut them and lay th...</td>\n",
              "      <td>human</td>\n",
              "      <td>NO-MODEL</td>\n",
              "      <td>wiki</td>\n",
              "    </tr>\n",
              "    <tr>\n",
              "      <th>9</th>\n",
              "      <td>13024</td>\n",
              "      <td>@suziam I am SO proud</td>\n",
              "      <td>@suziam I am SO proud of you. We are all so pr...</td>\n",
              "      <td>generated</td>\n",
              "      <td>C</td>\n",
              "      <td>tweets</td>\n",
              "    </tr>\n",
              "    <tr>\n",
              "      <th>10</th>\n",
              "      <td>18934</td>\n",
              "      <td>NO-PROMPT</td>\n",
              "      <td>. Just What I Needed, The Water Pump Fucked Up...</td>\n",
              "      <td>human</td>\n",
              "      <td>NO-MODEL</td>\n",
              "      <td>tweets</td>\n",
              "    </tr>\n",
              "    <tr>\n",
              "      <th>11</th>\n",
              "      <td>6703</td>\n",
              "      <td>NO-PROMPT</td>\n",
              "      <td>Mr Jonathan McIvor is hereby appointed Head of...</td>\n",
              "      <td>human</td>\n",
              "      <td>NO-MODEL</td>\n",
              "      <td>legal</td>\n",
              "    </tr>\n",
              "    <tr>\n",
              "      <th>12</th>\n",
              "      <td>30729</td>\n",
              "      <td>NO-PROMPT</td>\n",
              "      <td>Each type has different characteristics, so th...</td>\n",
              "      <td>human</td>\n",
              "      <td>NO-MODEL</td>\n",
              "      <td>wiki</td>\n",
              "    </tr>\n",
              "    <tr>\n",
              "      <th>13</th>\n",
              "      <td>3691</td>\n",
              "      <td>NO-PROMPT</td>\n",
              "      <td>The provisions of Commission Regulation (EEC) ...</td>\n",
              "      <td>human</td>\n",
              "      <td>NO-MODEL</td>\n",
              "      <td>legal</td>\n",
              "    </tr>\n",
              "    <tr>\n",
              "      <th>14</th>\n",
              "      <td>28685</td>\n",
              "      <td>NO-PROMPT</td>\n",
              "      <td>If possible, pick classes focused on financial...</td>\n",
              "      <td>human</td>\n",
              "      <td>NO-MODEL</td>\n",
              "      <td>wiki</td>\n",
              "    </tr>\n",
              "    <tr>\n",
              "      <th>15</th>\n",
              "      <td>40000</td>\n",
              "      <td>this tweet is for josie!</td>\n",
              "      <td>this tweet is for josie! Hey Josie, just wante...</td>\n",
              "      <td>generated</td>\n",
              "      <td>gpt-3.5-turbo</td>\n",
              "      <td>tweets</td>\n",
              "    </tr>\n",
              "    <tr>\n",
              "      <th>16</th>\n",
              "      <td>40500</td>\n",
              "      <td>Whereas the measures provided for in this Regu...</td>\n",
              "      <td>This statement indicates that the Regulation b...</td>\n",
              "      <td>generated</td>\n",
              "      <td>gpt-3.5-turbo</td>\n",
              "      <td>legal</td>\n",
              "    </tr>\n",
              "    <tr>\n",
              "      <th>17</th>\n",
              "      <td>40770</td>\n",
              "      <td>If you don't already know your waist measureme...</td>\n",
              "      <td>One way to measure your waist is by using a me...</td>\n",
              "      <td>generated</td>\n",
              "      <td>gpt-3.5-turbo</td>\n",
              "      <td>wiki</td>\n",
              "    </tr>\n",
              "    <tr>\n",
              "      <th>18</th>\n",
              "      <td>40123</td>\n",
              "      <td>@chloe_e zomg i know! its</td>\n",
              "      <td>@chloe_e zomg i know! its Sorry, it looks like...</td>\n",
              "      <td>generated</td>\n",
              "      <td>gpt-3.5-turbo</td>\n",
              "      <td>tweets</td>\n",
              "    </tr>\n",
              "    <tr>\n",
              "      <th>19</th>\n",
              "      <td>40990</td>\n",
              "      <td>People with common sense make decisions based ...</td>\n",
              "      <td>Common sense is the ability to make practical ...</td>\n",
              "      <td>generated</td>\n",
              "      <td>gpt-3.5-turbo</td>\n",
              "      <td>wiki</td>\n",
              "    </tr>\n",
              "  </tbody>\n",
              "</table>\n",
              "</div>\n",
              "    <div class=\"colab-df-buttons\">\n",
              "\n",
              "  <div class=\"colab-df-container\">\n",
              "    <button class=\"colab-df-convert\" onclick=\"convertToInteractive('df-8321cc65-7ea5-4f72-b8d7-3c310c17f94f')\"\n",
              "            title=\"Convert this dataframe to an interactive table.\"\n",
              "            style=\"display:none;\">\n",
              "\n",
              "  <svg xmlns=\"http://www.w3.org/2000/svg\" height=\"24px\" viewBox=\"0 -960 960 960\">\n",
              "    <path d=\"M120-120v-720h720v720H120Zm60-500h600v-160H180v160Zm220 220h160v-160H400v160Zm0 220h160v-160H400v160ZM180-400h160v-160H180v160Zm440 0h160v-160H620v160ZM180-180h160v-160H180v160Zm440 0h160v-160H620v160Z\"/>\n",
              "  </svg>\n",
              "    </button>\n",
              "\n",
              "  <style>\n",
              "    .colab-df-container {\n",
              "      display:flex;\n",
              "      gap: 12px;\n",
              "    }\n",
              "\n",
              "    .colab-df-convert {\n",
              "      background-color: #E8F0FE;\n",
              "      border: none;\n",
              "      border-radius: 50%;\n",
              "      cursor: pointer;\n",
              "      display: none;\n",
              "      fill: #1967D2;\n",
              "      height: 32px;\n",
              "      padding: 0 0 0 0;\n",
              "      width: 32px;\n",
              "    }\n",
              "\n",
              "    .colab-df-convert:hover {\n",
              "      background-color: #E2EBFA;\n",
              "      box-shadow: 0px 1px 2px rgba(60, 64, 67, 0.3), 0px 1px 3px 1px rgba(60, 64, 67, 0.15);\n",
              "      fill: #174EA6;\n",
              "    }\n",
              "\n",
              "    .colab-df-buttons div {\n",
              "      margin-bottom: 4px;\n",
              "    }\n",
              "\n",
              "    [theme=dark] .colab-df-convert {\n",
              "      background-color: #3B4455;\n",
              "      fill: #D2E3FC;\n",
              "    }\n",
              "\n",
              "    [theme=dark] .colab-df-convert:hover {\n",
              "      background-color: #434B5C;\n",
              "      box-shadow: 0px 1px 3px 1px rgba(0, 0, 0, 0.15);\n",
              "      filter: drop-shadow(0px 1px 2px rgba(0, 0, 0, 0.3));\n",
              "      fill: #FFFFFF;\n",
              "    }\n",
              "  </style>\n",
              "\n",
              "    <script>\n",
              "      const buttonEl =\n",
              "        document.querySelector('#df-8321cc65-7ea5-4f72-b8d7-3c310c17f94f button.colab-df-convert');\n",
              "      buttonEl.style.display =\n",
              "        google.colab.kernel.accessAllowed ? 'block' : 'none';\n",
              "\n",
              "      async function convertToInteractive(key) {\n",
              "        const element = document.querySelector('#df-8321cc65-7ea5-4f72-b8d7-3c310c17f94f');\n",
              "        const dataTable =\n",
              "          await google.colab.kernel.invokeFunction('convertToInteractive',\n",
              "                                                    [key], {});\n",
              "        if (!dataTable) return;\n",
              "\n",
              "        const docLinkHtml = 'Like what you see? Visit the ' +\n",
              "          '<a target=\"_blank\" href=https://colab.research.google.com/notebooks/data_table.ipynb>data table notebook</a>'\n",
              "          + ' to learn more about interactive tables.';\n",
              "        element.innerHTML = '';\n",
              "        dataTable['output_type'] = 'display_data';\n",
              "        await google.colab.output.renderOutput(dataTable, element);\n",
              "        const docLink = document.createElement('div');\n",
              "        docLink.innerHTML = docLinkHtml;\n",
              "        element.appendChild(docLink);\n",
              "      }\n",
              "    </script>\n",
              "  </div>\n",
              "\n",
              "\n",
              "<div id=\"df-2f6df389-ec78-48bd-a230-50931153249d\">\n",
              "  <button class=\"colab-df-quickchart\" onclick=\"quickchart('df-2f6df389-ec78-48bd-a230-50931153249d')\"\n",
              "            title=\"Suggest charts\"\n",
              "            style=\"display:none;\">\n",
              "\n",
              "<svg xmlns=\"http://www.w3.org/2000/svg\" height=\"24px\"viewBox=\"0 0 24 24\"\n",
              "     width=\"24px\">\n",
              "    <g>\n",
              "        <path d=\"M19 3H5c-1.1 0-2 .9-2 2v14c0 1.1.9 2 2 2h14c1.1 0 2-.9 2-2V5c0-1.1-.9-2-2-2zM9 17H7v-7h2v7zm4 0h-2V7h2v10zm4 0h-2v-4h2v4z\"/>\n",
              "    </g>\n",
              "</svg>\n",
              "  </button>\n",
              "\n",
              "<style>\n",
              "  .colab-df-quickchart {\n",
              "      --bg-color: #E8F0FE;\n",
              "      --fill-color: #1967D2;\n",
              "      --hover-bg-color: #E2EBFA;\n",
              "      --hover-fill-color: #174EA6;\n",
              "      --disabled-fill-color: #AAA;\n",
              "      --disabled-bg-color: #DDD;\n",
              "  }\n",
              "\n",
              "  [theme=dark] .colab-df-quickchart {\n",
              "      --bg-color: #3B4455;\n",
              "      --fill-color: #D2E3FC;\n",
              "      --hover-bg-color: #434B5C;\n",
              "      --hover-fill-color: #FFFFFF;\n",
              "      --disabled-bg-color: #3B4455;\n",
              "      --disabled-fill-color: #666;\n",
              "  }\n",
              "\n",
              "  .colab-df-quickchart {\n",
              "    background-color: var(--bg-color);\n",
              "    border: none;\n",
              "    border-radius: 50%;\n",
              "    cursor: pointer;\n",
              "    display: none;\n",
              "    fill: var(--fill-color);\n",
              "    height: 32px;\n",
              "    padding: 0;\n",
              "    width: 32px;\n",
              "  }\n",
              "\n",
              "  .colab-df-quickchart:hover {\n",
              "    background-color: var(--hover-bg-color);\n",
              "    box-shadow: 0 1px 2px rgba(60, 64, 67, 0.3), 0 1px 3px 1px rgba(60, 64, 67, 0.15);\n",
              "    fill: var(--button-hover-fill-color);\n",
              "  }\n",
              "\n",
              "  .colab-df-quickchart-complete:disabled,\n",
              "  .colab-df-quickchart-complete:disabled:hover {\n",
              "    background-color: var(--disabled-bg-color);\n",
              "    fill: var(--disabled-fill-color);\n",
              "    box-shadow: none;\n",
              "  }\n",
              "\n",
              "  .colab-df-spinner {\n",
              "    border: 2px solid var(--fill-color);\n",
              "    border-color: transparent;\n",
              "    border-bottom-color: var(--fill-color);\n",
              "    animation:\n",
              "      spin 1s steps(1) infinite;\n",
              "  }\n",
              "\n",
              "  @keyframes spin {\n",
              "    0% {\n",
              "      border-color: transparent;\n",
              "      border-bottom-color: var(--fill-color);\n",
              "      border-left-color: var(--fill-color);\n",
              "    }\n",
              "    20% {\n",
              "      border-color: transparent;\n",
              "      border-left-color: var(--fill-color);\n",
              "      border-top-color: var(--fill-color);\n",
              "    }\n",
              "    30% {\n",
              "      border-color: transparent;\n",
              "      border-left-color: var(--fill-color);\n",
              "      border-top-color: var(--fill-color);\n",
              "      border-right-color: var(--fill-color);\n",
              "    }\n",
              "    40% {\n",
              "      border-color: transparent;\n",
              "      border-right-color: var(--fill-color);\n",
              "      border-top-color: var(--fill-color);\n",
              "    }\n",
              "    60% {\n",
              "      border-color: transparent;\n",
              "      border-right-color: var(--fill-color);\n",
              "    }\n",
              "    80% {\n",
              "      border-color: transparent;\n",
              "      border-right-color: var(--fill-color);\n",
              "      border-bottom-color: var(--fill-color);\n",
              "    }\n",
              "    90% {\n",
              "      border-color: transparent;\n",
              "      border-bottom-color: var(--fill-color);\n",
              "    }\n",
              "  }\n",
              "</style>\n",
              "\n",
              "  <script>\n",
              "    async function quickchart(key) {\n",
              "      const quickchartButtonEl =\n",
              "        document.querySelector('#' + key + ' button');\n",
              "      quickchartButtonEl.disabled = true;  // To prevent multiple clicks.\n",
              "      quickchartButtonEl.classList.add('colab-df-spinner');\n",
              "      try {\n",
              "        const charts = await google.colab.kernel.invokeFunction(\n",
              "            'suggestCharts', [key], {});\n",
              "      } catch (error) {\n",
              "        console.error('Error during call to suggestCharts:', error);\n",
              "      }\n",
              "      quickchartButtonEl.classList.remove('colab-df-spinner');\n",
              "      quickchartButtonEl.classList.add('colab-df-quickchart-complete');\n",
              "    }\n",
              "    (() => {\n",
              "      let quickchartButtonEl =\n",
              "        document.querySelector('#df-2f6df389-ec78-48bd-a230-50931153249d button');\n",
              "      quickchartButtonEl.style.display =\n",
              "        google.colab.kernel.accessAllowed ? 'block' : 'none';\n",
              "    })();\n",
              "  </script>\n",
              "</div>\n",
              "    </div>\n",
              "  </div>\n"
            ],
            "application/vnd.google.colaboratory.intrinsic+json": {
              "type": "dataframe",
              "variable_name": "df_samples",
              "summary": "{\n  \"name\": \"df_samples\",\n  \"rows\": 20,\n  \"fields\": [\n    {\n      \"column\": \"id\",\n      \"properties\": {\n        \"dtype\": \"number\",\n        \"std\": 14888,\n        \"min\": 729,\n        \"max\": 40990,\n        \"num_unique_values\": 20,\n        \"samples\": [\n          11106,\n          40770,\n          40000\n        ],\n        \"semantic_type\": \"\",\n        \"description\": \"\"\n      }\n    },\n    {\n      \"column\": \"prompt\",\n      \"properties\": {\n        \"dtype\": \"string\",\n        \"num_unique_values\": 13,\n        \"samples\": [\n          \"@chloe_e zomg i know! its\",\n          \"Whereas the measures provided for in this Regulation are in accordance with the opinion of the Standing Committee on Veterinary Medicinal Products. HAS ADOPTED THIS REGULATION:.\",\n          \"Extremely happy I got to\"\n        ],\n        \"semantic_type\": \"\",\n        \"description\": \"\"\n      }\n    },\n    {\n      \"column\": \"text\",\n      \"properties\": {\n        \"dtype\": \"string\",\n        \"num_unique_values\": 20,\n        \"samples\": [\n          \"Extremely happy I got to go down in the trenches and help save lives, he said. That\\u2019s what we\",\n          \"One way to measure your waist is by using a measuring tape. Simply wrap the tape around your natural waistline, which is typically the narrowest part of your torso. Make sure the tape is snug but not too tight, and take note of the measurement. This can help you determine your waist size for clothing or other purposes.\",\n          \"this tweet is for josie! Hey Josie, just wanted to say that you're amazing and I'm grateful to have you in my life! Keep shining bright \\u2728 #JosieAppreciationTweet\"\n        ],\n        \"semantic_type\": \"\",\n        \"description\": \"\"\n      }\n    },\n    {\n      \"column\": \"label\",\n      \"properties\": {\n        \"dtype\": \"category\",\n        \"num_unique_values\": 2,\n        \"samples\": [\n          \"human\",\n          \"generated\"\n        ],\n        \"semantic_type\": \"\",\n        \"description\": \"\"\n      }\n    },\n    {\n      \"column\": \"model\",\n      \"properties\": {\n        \"dtype\": \"category\",\n        \"num_unique_values\": 5,\n        \"samples\": [\n          \"C\",\n          \"gpt-3.5-turbo\"\n        ],\n        \"semantic_type\": \"\",\n        \"description\": \"\"\n      }\n    },\n    {\n      \"column\": \"domain\",\n      \"properties\": {\n        \"dtype\": \"category\",\n        \"num_unique_values\": 3,\n        \"samples\": [\n          \"tweets\",\n          \"legal\"\n        ],\n        \"semantic_type\": \"\",\n        \"description\": \"\"\n      }\n    }\n  ]\n}"
            }
          },
          "metadata": {},
          "execution_count": 9
        }
      ]
    },
    {
      "cell_type": "code",
      "source": [
        "def classify_texts(df, prompt_template, return_score='accuracy'):\n",
        "    openai.api_key = api_key\n",
        "\n",
        "    classification_results = []\n",
        "\n",
        "    for index, row in df.iterrows():\n",
        "        text_to_classify = row['text']\n",
        "        actual_label = row['label']\n",
        "\n",
        "        prompt = prompt_template.format(text_to_classify=text_to_classify)\n",
        "\n",
        "        completion = openai.chat.completions.create(\n",
        "            model=\"gpt-3.5-turbo\",\n",
        "            messages=[\n",
        "                {\"role\": \"system\", \"content\": \"You are a classification assistant.\"},\n",
        "                {\"role\": \"user\", \"content\": prompt},\n",
        "            ]\n",
        "        )\n",
        "\n",
        "        generated_text = completion.choices[0].message.content\n",
        "\n",
        "        predicted_label = 'generated' if ('machine' in generated_text.lower() or 'AI' in generated_text or 'Large Language' in generated_text) else 'human' if 'human' in generated_text.lower() else generated_text\n",
        "\n",
        "        classification_results.append((actual_label, predicted_label))\n",
        "        print(generated_text)\n",
        "\n",
        "    results_df = pd.DataFrame(classification_results, columns=['actual_label', 'predicted_label'])\n",
        "    print(results_df)\n",
        "\n",
        "    if return_score == 'accuracy':\n",
        "        # Calculate accuracy\n",
        "        accuracy = accuracy_score(results_df['actual_label'], results_df['predicted_label'])\n",
        "        return accuracy\n",
        "    elif return_score == 'f1':\n",
        "        # Calculate F1 score\n",
        "        f1 = f1_score(results_df['actual_label'], results_df['predicted_label'], average='weighted')\n",
        "        return f1\n",
        "    else:\n",
        "        return None\n"
      ],
      "metadata": {
        "id": "-oGvLqtWct4I"
      },
      "execution_count": null,
      "outputs": []
    },
    {
      "cell_type": "code",
      "source": [
        "prompt = \"Classify the text: {text_to_classify} into category human wirtten or category machine generated. Your prediction:\"\n",
        "classify_texts(df_samples, prompt)\n"
      ],
      "metadata": {
        "colab": {
          "base_uri": "https://localhost:8080/"
        },
        "id": "Xs8rDaWLdOzT",
        "outputId": "794d2c41-a67f-408a-bf33-44cb4d10170a"
      },
      "execution_count": null,
      "outputs": [
        {
          "output_type": "stream",
          "name": "stdout",
          "text": [
            "This text is likely to belong in the human-written category.\n",
            "Category: Human-written\n",
            "The text is related to regulations for light emissions from motor vehicles. It includes technical requirements, test procedures, and measurement limits. The text also mentions exemptions for certain types of motor vehicles. Based on this information, the text can be classified as related to \"Vehicle Emissions Regulations.\"\n",
            "Category: Human written\n",
            "Legal Text\n",
            "Category: Human written\n",
            "The text belongs to the human written category.\n",
            "Based on the text provided, the content falls under the category of human-written text, specifically legal or regulatory.\n",
            "This text is providing instructions for organizing and interpreting a tarot card reading. The text mentions using Major and Minor Arcana cards, laying them out in a specific pattern, making descriptions for each card, and identifying a narrative pattern. Based on this, the text falls under the category of a human-written guide or tutorial related to tarot card readings or divination practices. It involves a mix of organization, interpretation, and creative thinking to see patterns and narratives in the card layout.\n",
            "The text is categorized as human-written.\n",
            "Category: human written\n",
            "Category: Human written\n",
            "Category: human written\n",
            "Category: Human written\n",
            "Category: Human written\n",
            "Category: human written\n",
            "Category: Human written\n",
            "Category: Human written\n",
            "Category: Human written\n",
            "Category: Human-written\n",
            "   actual_label                                    predicted_label\n",
            "0     generated                                              human\n",
            "1     generated                                              human\n",
            "2     generated  The text is related to regulations for light e...\n",
            "3     generated                                              human\n",
            "4     generated                                         Legal Text\n",
            "5     generated                                              human\n",
            "6         human                                              human\n",
            "7         human                                              human\n",
            "8         human                                              human\n",
            "9     generated                                              human\n",
            "10        human                                              human\n",
            "11        human                                              human\n",
            "12        human                                              human\n",
            "13        human                                              human\n",
            "14        human                                              human\n",
            "15    generated                                              human\n",
            "16    generated                                              human\n",
            "17    generated                                              human\n",
            "18    generated                                              human\n",
            "19    generated                                              human\n"
          ]
        },
        {
          "output_type": "execute_result",
          "data": {
            "text/plain": [
              "0.4"
            ]
          },
          "metadata": {},
          "execution_count": 51
        }
      ]
    },
    {
      "cell_type": "code",
      "source": [
        "prompt = \"\"\"\n",
        "Zero-shot learning: Classify the following text as either generated by a machine or written by a human.\n",
        "\n",
        "Text to classify:\n",
        "{text_to_classify}\n",
        "\n",
        "Please provide your prediction:\n",
        "If you believe the text was generated by a machine, type 'machine'.\n",
        "If you believe the text was written by a human, type 'human'.\n",
        "Answer:\n",
        "\"\"\"\n",
        "classify_texts(df_samples, prompt)\n"
      ],
      "metadata": {
        "colab": {
          "base_uri": "https://localhost:8080/"
        },
        "id": "EVzD-OYZf0bt",
        "outputId": "aa7e690d-afd3-48f9-bd8c-a53777940d05"
      },
      "execution_count": null,
      "outputs": [
        {
          "output_type": "stream",
          "name": "stdout",
          "text": [
            "human\n",
            "The provided text appears to be generated by a machine.\n",
            "As an AI classification assistant, I predict that the text was generated by a human.\n",
            "human\n",
            "human\n",
            "I believe the text was written by a human.\n",
            "human\n",
            "Human\n",
            "Human\n",
            "human\n",
            "Human\n",
            "human\n",
            "Human\n",
            "human\n",
            "Human\n",
            "human\n",
            "human\n",
            "human\n",
            "human\n",
            "human\n",
            "   actual_label predicted_label\n",
            "0     generated           human\n",
            "1     generated       generated\n",
            "2     generated       generated\n",
            "3     generated           human\n",
            "4     generated           human\n",
            "5     generated           human\n",
            "6         human           human\n",
            "7         human           human\n",
            "8         human           human\n",
            "9     generated           human\n",
            "10        human           human\n",
            "11        human           human\n",
            "12        human           human\n",
            "13        human           human\n",
            "14        human           human\n",
            "15    generated           human\n",
            "16    generated           human\n",
            "17    generated           human\n",
            "18    generated           human\n",
            "19    generated           human\n"
          ]
        },
        {
          "output_type": "execute_result",
          "data": {
            "text/plain": [
              "0.5"
            ]
          },
          "metadata": {},
          "execution_count": 52
        }
      ]
    },
    {
      "cell_type": "code",
      "source": [
        "prompt = \"\"\"\n",
        "Zero-shot learning: Classify the following text as either generated by a AI or written by a human.\n",
        "Text to classify:\n",
        "{text_to_classify}\n",
        "Please provide your prediction:\n",
        "If you believe the text was generated by a machine, type 'machine'.\n",
        "If you believe the text was written by a human, type 'human'.\n",
        "Answer:\n",
        "\"\"\"\n",
        "classify_texts(df_samples, prompt)\n"
      ],
      "metadata": {
        "colab": {
          "base_uri": "https://localhost:8080/"
        },
        "id": "ulG0ajX4gBp9",
        "outputId": "bcf6fe0e-7e84-4455-cef2-ed8623357196"
      },
      "execution_count": null,
      "outputs": [
        {
          "output_type": "stream",
          "name": "stdout",
          "text": [
            "human\n",
            "I predict that the text was written by a human.\n",
            "machine\n",
            "human\n",
            "human\n",
            "This text appears to be written by a human.\n",
            "human\n",
            "The text provided appears to be more in line with a legal document or regulation, typically written by humans. Therefore, I would classify this text as \"human\".\n",
            "human\n",
            "human\n",
            "human\n",
            "human\n",
            "human\n",
            "human\n",
            "human\n",
            "human\n",
            "human\n",
            "human\n",
            "human\n",
            "human\n",
            "   actual_label predicted_label\n",
            "0     generated           human\n",
            "1     generated           human\n",
            "2     generated       generated\n",
            "3     generated           human\n",
            "4     generated           human\n",
            "5     generated           human\n",
            "6         human           human\n",
            "7         human           human\n",
            "8         human           human\n",
            "9     generated           human\n",
            "10        human           human\n",
            "11        human           human\n",
            "12        human           human\n",
            "13        human           human\n",
            "14        human           human\n",
            "15    generated           human\n",
            "16    generated           human\n",
            "17    generated           human\n",
            "18    generated           human\n",
            "19    generated           human\n"
          ]
        },
        {
          "output_type": "execute_result",
          "data": {
            "text/plain": [
              "0.45"
            ]
          },
          "metadata": {},
          "execution_count": 53
        }
      ]
    },
    {
      "cell_type": "code",
      "source": [
        "prompt = \"\"\"\n",
        "Determine whether the following text was generated by a machine learning model or written by a human: {text_to_classify} Answer:\n",
        "\"\"\"\n",
        "classify_texts(df_samples, prompt)"
      ],
      "metadata": {
        "colab": {
          "base_uri": "https://localhost:8080/"
        },
        "id": "fqU5ssL5gPRS",
        "outputId": "dcba8309-390a-4e46-e113-3d792fa57435"
      },
      "execution_count": null,
      "outputs": [
        {
          "output_type": "stream",
          "name": "stdout",
          "text": [
            "This text appears to have been written by a human.\n",
            "This text appears to be regulatory information or legal text. It is difficult to determine definitively whether it was generated by a machine learning model or written by a human without more context. It is possible that a human or a machine learning model generated this text based on legal regulations.\n",
            "The text you provided appears to be a section of technical regulations or guidelines, and it is likely not generated by a machine learning model. It seems to be a specific set of amendments or instructions related to motor vehicle regulations.\n",
            "It is likely that the given text was written by a human, as it describes a specific detail about how certain body parts of an animal are protected from harmful UV rays.\n",
            "This text appears to be written by a human rather than generated by a machine learning model.\n",
            "Based on the formatting and style of the text provided, it appears to be written by a human rather than generated by a machine learning model. The text includes code snippets and a response that is typical of a human-authored response.\n",
            "The text appears to have been written by a human, as it includes personal experiences and interactions that are typical of human communication.\n",
            "The text provided appears to be a legal document, specifically a regulation. It does not show clear indications of being generated by a machine learning model. Hence, it is likely written by a human.\n",
            "This text appears to have been written by a human, as it provides specific instructions on how to perform a tarot card reading and prompts the reader to reflect on the cards and identify a narrative pattern. It does not exhibit the typical language patterns and structure often seen in machine learning-generated text.\n",
            "This text appears to have been written by a human.\n",
            "This text appears to have been written by a human.\n",
            "This text appears to be a formal announcement or decision made by an organization, likely the European Union, regarding the appointment of Mr Jonathan McIvor as Head of Mission for the European Union Police Mission for the Palestinian Territories. Given the formal language and structure, it is less likely to have been generated by a machine learning model and more likely to have been written by a human.\n",
            "The text appears to have been written by a human due to the detailed and nuanced explanation provided about different types of wood treatments and finishes. It does not exhibit the typical patterns or language quirks often associated with machine learning-generated text.\n",
            "This text appears to be a legal document or regulation and is likely written by a human rather than generated by a machine learning model.\n",
            "The provided text appears to be written by a human, as it gives advice and recommendations regarding pursuing specific classes and further education in financial analysis.\n",
            "The text appears to have been written by a human, as it contains personal and emotional content that seems genuine and heartfelt.\n",
            "The text provided seems to be written by a human rather than generated by a machine learning model. It discusses legal procedures and considerations in a coherent and structured manner, which indicates human input and understanding of the topic.\n",
            "The text provided appears to have been written by a human as it provides clear and coherent instructions on how to measure one's waist using a measuring tape.\n",
            "This text seems to have been written by a human.\n",
            "The text provided appears to have been written by a human.\n",
            "   actual_label predicted_label\n",
            "0     generated           human\n",
            "1     generated       generated\n",
            "2     generated       generated\n",
            "3     generated           human\n",
            "4     generated       generated\n",
            "5     generated       generated\n",
            "6         human           human\n",
            "7         human       generated\n",
            "8         human       generated\n",
            "9     generated           human\n",
            "10        human           human\n",
            "11        human       generated\n",
            "12        human       generated\n",
            "13        human       generated\n",
            "14        human           human\n",
            "15    generated           human\n",
            "16    generated       generated\n",
            "17    generated           human\n",
            "18    generated           human\n",
            "19    generated           human\n"
          ]
        },
        {
          "output_type": "execute_result",
          "data": {
            "text/plain": [
              "0.4"
            ]
          },
          "metadata": {},
          "execution_count": 54
        }
      ]
    },
    {
      "cell_type": "code",
      "source": [
        "prompt = \"\"\"\n",
        "Decide whether the text below was written by a human or generated by a machine learning model: {text_to_classify} Answer:\n",
        "\"\"\"\n",
        "classify_texts(df_samples, prompt)\n"
      ],
      "metadata": {
        "colab": {
          "base_uri": "https://localhost:8080/"
        },
        "id": "JbAntb-IgdRp",
        "outputId": "de4a1c37-b426-4092-de61-e1cb5da8246f"
      },
      "execution_count": null,
      "outputs": [
        {
          "output_type": "stream",
          "name": "stdout",
          "text": [
            "Human\n",
            "The text provided appears to be a legal regulation and not generated by a machine learning model.\n",
            "This text is most likely written by a human, as it contains technical regulatory language related to motor vehicles and specific amendments to a regulation.\n",
            "This text was likely written by a human, as it describes features that would be relevant for an animal's protection from harmful UV rays.\n",
            "This text appears to have been written by a human given the specific legal references and details provided.\n",
            "This text seems to have been written by a human as it includes coding logic, errors, and feedback comments which are commonly found in human-produced programming examples.\n",
            "The text appears to have been written by a human, as it includes informal language and personal references that are typically seen in human communication.\n",
            "This text appears to be a legal document or regulation and not something likely to be generated by a machine learning model. Therefore, it was most likely written by a human.\n",
            "The text you provided appears to have been written by a human. It includes detailed instructions and prompts for interpreting a tarot card spread, which suggests a level of understanding and intentionality that is characteristic of human communication.\n",
            "This text appears to have been written by a human.\n",
            "The text appears to have been written by a human.\n",
            "This text appears to be a formal decision or announcement created by a human author, likely within the context of a political or diplomatic organization or institution.\n",
            "The text provided appears to have been written by a human, as it contains detailed information and advice regarding selecting the right wood treatment products based on specific characteristics and future treatment considerations. It also provides examples and comparisons for different types of products, such as oil-based and water-based polyurethanes, as well as considerations for glossy versus matte finishes.\n",
            "This text appears to be written by a human, referencing specific legal regulations and dates.\n",
            "This text seems like it was written by a human, as it provides practical advice and insights into pursuing a career in financial analysis. It emphasizes the importance of taking relevant classes and continuing education, which aligns with human knowledge and experience in the field.\n",
            "This text seems like it was written by a human, as it contains a personal and emotional message that is typically more common in human-generated content.\n",
            "This text was likely written by a human, as it shows a level of understanding of legal procedures and language commonly used in official documents. Machine-generated text may not exhibit this level of sophistication and knowledge of specific contexts.\n",
            "This text appears to have been written by a human.\n",
            "This text appears to have been written by a human.\n",
            "This text was written by a human.\n",
            "   actual_label predicted_label\n",
            "0     generated           human\n",
            "1     generated       generated\n",
            "2     generated           human\n",
            "3     generated           human\n",
            "4     generated           human\n",
            "5     generated           human\n",
            "6         human           human\n",
            "7         human       generated\n",
            "8         human           human\n",
            "9     generated           human\n",
            "10        human           human\n",
            "11        human           human\n",
            "12        human           human\n",
            "13        human           human\n",
            "14        human           human\n",
            "15    generated           human\n",
            "16    generated       generated\n",
            "17    generated           human\n",
            "18    generated           human\n",
            "19    generated           human\n"
          ]
        },
        {
          "output_type": "execute_result",
          "data": {
            "text/plain": [
              "0.45"
            ]
          },
          "metadata": {},
          "execution_count": 55
        }
      ]
    },
    {
      "cell_type": "code",
      "source": [
        "prompt = \"\"\"Machine vs. Human Text classification:\n",
        "Determine the text source. Was it produced by a machine learning model or composed by a human?\n",
        "Text to Classify:\n",
        "{text_to_classify}\n",
        "\n",
        "\n",
        "Type 'machine' if you believe that the text is AI-generated.\n",
        "Type 'human' if you think that the text is written by a human.\n",
        "\n",
        "\n",
        "Your Answer:\n",
        "\"\"\"\n",
        "classify_texts(df_samples, prompt)\n"
      ],
      "metadata": {
        "colab": {
          "base_uri": "https://localhost:8080/"
        },
        "id": "i-37dAfggshi",
        "outputId": "cd4cbdea-8095-4789-a20b-8dd0f5850a2b"
      },
      "execution_count": null,
      "outputs": [
        {
          "output_type": "stream",
          "name": "stdout",
          "text": [
            "human\n",
            "human\n",
            "Machine\n",
            "human\n",
            "human\n",
            "Your Answer: human\n",
            "human\n",
            "This text appears to be written by a human.\n",
            "human\n",
            "Your Answer: human\n",
            "human\n",
            "human\n",
            "Human\n",
            "human\n",
            "Human\n",
            "human\n",
            "The text appears to have been written by a human.\n",
            "human\n",
            "human\n",
            "human\n",
            "   actual_label predicted_label\n",
            "0     generated           human\n",
            "1     generated           human\n",
            "2     generated       generated\n",
            "3     generated           human\n",
            "4     generated           human\n",
            "5     generated           human\n",
            "6         human           human\n",
            "7         human           human\n",
            "8         human           human\n",
            "9     generated           human\n",
            "10        human           human\n",
            "11        human           human\n",
            "12        human           human\n",
            "13        human           human\n",
            "14        human           human\n",
            "15    generated           human\n",
            "16    generated           human\n",
            "17    generated           human\n",
            "18    generated           human\n",
            "19    generated           human\n"
          ]
        },
        {
          "output_type": "execute_result",
          "data": {
            "text/plain": [
              "0.45"
            ]
          },
          "metadata": {},
          "execution_count": 56
        }
      ]
    },
    {
      "cell_type": "markdown",
      "source": [
        "7"
      ],
      "metadata": {
        "id": "TCuaOWKNL--N"
      }
    },
    {
      "cell_type": "code",
      "source": [
        "prompt = \"\"\"AI vs. Human Text classification:\n",
        "Determine the text source. Was it produced by a machine learning model or composed by a human?\n",
        "Text to Classify:\n",
        "{text_to_classify}\n",
        "Type 'AI' if you believe that the text is AI-generated.\n",
        "Type 'human' if you think that the text is written by a human.\n",
        "\n",
        "Your Answer:\n",
        "\"\"\"\n",
        "\n",
        "classify_texts(df_samples, prompt)"
      ],
      "metadata": {
        "colab": {
          "base_uri": "https://localhost:8080/"
        },
        "id": "CayE2n2NhA61",
        "outputId": "bb115700-ef3d-471c-db10-9ec83a625e47"
      },
      "execution_count": null,
      "outputs": [
        {
          "output_type": "stream",
          "name": "stdout",
          "text": [
            "human\n",
            "human\n",
            "AI\n",
            "human\n",
            "human\n",
            "human\n",
            "human\n",
            "human\n",
            "human\n",
            "human\n",
            "human\n",
            "human\n",
            "human\n",
            "human\n",
            "human\n",
            "I would classify the text as 'human' since it appears to be a genuine message expressing appreciation for someone named Josie.\n",
            "human\n",
            "human\n",
            "Your answer: human\n",
            "human\n",
            "   actual_label predicted_label\n",
            "0     generated           human\n",
            "1     generated           human\n",
            "2     generated       generated\n",
            "3     generated           human\n",
            "4     generated           human\n",
            "5     generated           human\n",
            "6         human           human\n",
            "7         human           human\n",
            "8         human           human\n",
            "9     generated           human\n",
            "10        human           human\n",
            "11        human           human\n",
            "12        human           human\n",
            "13        human           human\n",
            "14        human           human\n",
            "15    generated           human\n",
            "16    generated           human\n",
            "17    generated           human\n",
            "18    generated           human\n",
            "19    generated           human\n"
          ]
        },
        {
          "output_type": "execute_result",
          "data": {
            "text/plain": [
              "0.45"
            ]
          },
          "metadata": {},
          "execution_count": 57
        }
      ]
    },
    {
      "cell_type": "markdown",
      "source": [
        "8"
      ],
      "metadata": {
        "id": "ZD75txULMAq6"
      }
    },
    {
      "cell_type": "code",
      "source": [
        "prompt = \"\"\"Machine vs Human Text Classification challenge: Determine if this text is written\n",
        "by a human or generated by a machine. Text to classify: {text_to_classify}\n",
        "To classify the text, type 'machine' if you think it was produced by a machine, or 'human' if you think it was written by a human.\n",
        "\n",
        "\n",
        "Your Answer:\n",
        "\"\"\"\n",
        "classify_texts(df_samples, prompt)"
      ],
      "metadata": {
        "colab": {
          "base_uri": "https://localhost:8080/"
        },
        "id": "MoyyD9HkhI3-",
        "outputId": "99bc665d-07c8-49ac-cdb8-71b324a2a3eb"
      },
      "execution_count": null,
      "outputs": [
        {
          "output_type": "stream",
          "name": "stdout",
          "text": [
            "human\n",
            "This text appears to be written by a human.\n",
            "machine\n",
            "human\n",
            "human\n",
            "machine\n",
            "human\n",
            "Technical/legal texts like the one provided are more likely to have been written by a human.\n",
            "To classify the text, I would say 'human'.\n",
            "human\n",
            "Human\n",
            "human\n",
            "Human\n",
            "human\n",
            "This text appears to be written by a human.\n",
            "human\n",
            "Human\n",
            "human\n",
            "Based on the text provided, this appears to be generated by a human.\n",
            "human\n",
            "   actual_label predicted_label\n",
            "0     generated           human\n",
            "1     generated           human\n",
            "2     generated       generated\n",
            "3     generated           human\n",
            "4     generated           human\n",
            "5     generated       generated\n",
            "6         human           human\n",
            "7         human           human\n",
            "8         human           human\n",
            "9     generated           human\n",
            "10        human           human\n",
            "11        human           human\n",
            "12        human           human\n",
            "13        human           human\n",
            "14        human           human\n",
            "15    generated           human\n",
            "16    generated           human\n",
            "17    generated           human\n",
            "18    generated           human\n",
            "19    generated           human\n"
          ]
        },
        {
          "output_type": "execute_result",
          "data": {
            "text/plain": [
              "0.5"
            ]
          },
          "metadata": {},
          "execution_count": 58
        }
      ]
    },
    {
      "cell_type": "markdown",
      "source": [
        "9"
      ],
      "metadata": {
        "id": "RumzT-wPMEGO"
      }
    },
    {
      "cell_type": "code",
      "source": [
        "prompt = \"\"\"Machine vs Human Text Classification challenge: Determine if this text is written\n",
        "by a human or generated by a using AI. Text to classify: {text_to_classify}\n",
        "To classify the text, type 'AI' if you think it was produced by a AI, or 'human' if you think it was written by a human.\n",
        "\n",
        "Your Answer:\n",
        "\"\"\"\n",
        "classify_texts(df_samples, prompt)"
      ],
      "metadata": {
        "colab": {
          "base_uri": "https://localhost:8080/"
        },
        "id": "afaOZuGUhQGE",
        "outputId": "91748bcb-3203-44eb-ae07-7222f86ebb5f"
      },
      "execution_count": null,
      "outputs": [
        {
          "output_type": "stream",
          "name": "stdout",
          "text": [
            "I would classify this text as 'human'.\n",
            "AI\n",
            "AI\n",
            "human\n",
            "human\n",
            "AI\n",
            "human\n",
            "AI\n",
            "human\n",
            "I believe the text was written by a human.\n",
            "AI\n",
            "human\n",
            "human\n",
            "human\n",
            "human\n",
            "Human\n",
            "human\n",
            "Human\n",
            "AI\n",
            "human\n",
            "   actual_label predicted_label\n",
            "0     generated           human\n",
            "1     generated       generated\n",
            "2     generated       generated\n",
            "3     generated           human\n",
            "4     generated           human\n",
            "5     generated       generated\n",
            "6         human           human\n",
            "7         human       generated\n",
            "8         human           human\n",
            "9     generated           human\n",
            "10        human       generated\n",
            "11        human           human\n",
            "12        human           human\n",
            "13        human           human\n",
            "14        human           human\n",
            "15    generated           human\n",
            "16    generated           human\n",
            "17    generated           human\n",
            "18    generated       generated\n",
            "19    generated           human\n"
          ]
        },
        {
          "output_type": "execute_result",
          "data": {
            "text/plain": [
              "0.5"
            ]
          },
          "metadata": {},
          "execution_count": 82
        }
      ]
    },
    {
      "cell_type": "markdown",
      "source": [
        "10"
      ],
      "metadata": {
        "id": "B9Vvu1QgMG62"
      }
    },
    {
      "cell_type": "code",
      "source": [
        "prompt = \"\"\"Text classification task: Classify the following text as either generated by a machine or written by a human.\n",
        "Text to classify:\n",
        "{text_to_classify}\n",
        "Do you think the text was produced by a machine or written by a human?\n",
        "\n",
        "\n",
        "Type 'machine' if you believe the text is machine-generated.\n",
        "Type 'human' if you think a human wrote the text.\n",
        "\n",
        "\n",
        "Your Answer:\n",
        "\"\"\"\n",
        "classify_texts(df_samples, prompt)"
      ],
      "metadata": {
        "colab": {
          "base_uri": "https://localhost:8080/"
        },
        "id": "9A-npBBmhf2T",
        "outputId": "95309db2-c98a-4227-ad8e-f20151d7f199"
      },
      "execution_count": null,
      "outputs": [
        {
          "output_type": "stream",
          "name": "stdout",
          "text": [
            "human\n",
            "human\n",
            "machine\n",
            "human\n",
            "human\n",
            "human\n",
            "Your Answer: human\n",
            "machine\n",
            "human\n",
            "human\n",
            "human\n",
            "human\n",
            "human\n",
            "human\n",
            "human\n",
            "   actual_label predicted_label\n",
            "0     generated           human\n",
            "1     generated           human\n",
            "2     generated       generated\n",
            "3     generated           human\n",
            "4     generated           human\n",
            "5     generated           human\n",
            "6         human           human\n",
            "7         human       generated\n",
            "8         human           human\n",
            "9     generated           human\n",
            "10        human           human\n",
            "11        human           human\n",
            "12        human           human\n",
            "13        human           human\n",
            "14        human           human\n"
          ]
        },
        {
          "output_type": "execute_result",
          "data": {
            "text/plain": [
              "0.5333333333333333"
            ]
          },
          "metadata": {},
          "execution_count": 41
        }
      ]
    },
    {
      "cell_type": "markdown",
      "source": [
        "11"
      ],
      "metadata": {
        "id": "9IJylxYVMODA"
      }
    },
    {
      "cell_type": "code",
      "source": [
        "prompt = \"\"\"Classification task: Identify whether the text provided below is machine-generated or human-written.\n",
        "Text for analysis:\n",
        "{text_to_classify}\n",
        "Input 'machine' if you suspect it's machine-generated. Input 'human' if you believe it's human-written. Your Answer:\n",
        "\"\"\"\n",
        "classify_texts(df_samples, prompt)"
      ],
      "metadata": {
        "colab": {
          "base_uri": "https://localhost:8080/"
        },
        "id": "KYW7Szdxhssi",
        "outputId": "999ddd2f-a63b-4349-b758-3bac875397cc"
      },
      "execution_count": null,
      "outputs": [
        {
          "output_type": "stream",
          "name": "stdout",
          "text": [
            "\"human\"\n",
            "Based on the structured and formal tone of the text with specific regulations and dates mentioned, it is likely that the text is machine-generated. Hence, I would categorize it as 'machine'.\n",
            "The provided text appears to be a regulatory amendment or a technical document, which is more likely to be human-written. Thus, I would classify it as 'human'.\n",
            "This text appears to be human-written.\n",
            "Your answer: human\n",
            "Your Answer: human\n",
            "human\n",
            "Machine\n",
            "Your text appears to be human-written.\n",
            "Human\n",
            "human\n",
            "human\n",
            "Your Answer: human\n",
            "human\n",
            "Your answer: human\n",
            "human\n",
            "human\n",
            "Human\n",
            "The text provided appears to be human-written.\n",
            "Human\n",
            "   actual_label predicted_label\n",
            "0     generated           human\n",
            "1     generated       generated\n",
            "2     generated           human\n",
            "3     generated           human\n",
            "4     generated           human\n",
            "5     generated           human\n",
            "6         human           human\n",
            "7         human       generated\n",
            "8         human           human\n",
            "9     generated           human\n",
            "10        human           human\n",
            "11        human           human\n",
            "12        human           human\n",
            "13        human           human\n",
            "14        human           human\n",
            "15    generated           human\n",
            "16    generated           human\n",
            "17    generated           human\n",
            "18    generated           human\n",
            "19    generated           human\n"
          ]
        },
        {
          "output_type": "execute_result",
          "data": {
            "text/plain": [
              "0.4"
            ]
          },
          "metadata": {},
          "execution_count": 60
        }
      ]
    },
    {
      "cell_type": "markdown",
      "source": [
        "12"
      ],
      "metadata": {
        "id": "g9MfOBDwMQL4"
      }
    },
    {
      "cell_type": "code",
      "source": [
        "prompt = \"\"\"Text classification: Determine if this text was written by a human or generated by a machine.\n",
        "\n",
        "Text to classify: {text_to_classify}\n",
        "\n",
        "How confident are you in your answer (scale of 1-5, with 1 being unsure and 5 being very confident)?\n",
        "\n",
        "Answer: (machine / human), Confidence: (number between 1 and 5)\n",
        "\"\"\"\n",
        "classify_texts(df_samples, prompt)"
      ],
      "metadata": {
        "colab": {
          "base_uri": "https://localhost:8080/"
        },
        "id": "Bl9FEmdDuw2o",
        "outputId": "cbd7133e-eec8-4b28-9bb5-8ce5126a3b19"
      },
      "execution_count": null,
      "outputs": [
        {
          "output_type": "stream",
          "name": "stdout",
          "text": [
            "Answer: Human, Confidence: 4\n",
            "Answer: machine, Confidence: 5\n",
            "Answer: Machine, Confidence: 4\n",
            "Answer: Human, Confidence: 4\n",
            "Answer: Human, Confidence: 4\n",
            "Answer: Human, Confidence: 5\n",
            "Answer: human, Confidence: 5\n",
            "Answer: human, Confidence: 5\n",
            "Answer: Human, Confidence: 4\n",
            "Answer: human, Confidence: 5\n",
            "Answer: human, Confidence: 4\n",
            "Answer: Human, Confidence: 4\n",
            "Answer: (human), Confidence: 4\n",
            "Answer: Human, Confidence: 4\n",
            "Answer: Human, Confidence: 5\n",
            "Answer: human, Confidence: 5\n",
            "Answer: human, Confidence: 4\n",
            "Answer: human, Confidence: 5\n",
            "Answer: human, Confidence: 5\n",
            "Answer: (human), Confidence: 5\n",
            "   actual_label predicted_label\n",
            "0     generated           human\n",
            "1     generated       generated\n",
            "2     generated       generated\n",
            "3     generated           human\n",
            "4     generated           human\n",
            "5     generated           human\n",
            "6         human           human\n",
            "7         human           human\n",
            "8         human           human\n",
            "9     generated           human\n",
            "10        human           human\n",
            "11        human           human\n",
            "12        human           human\n",
            "13        human           human\n",
            "14        human           human\n",
            "15    generated           human\n",
            "16    generated           human\n",
            "17    generated           human\n",
            "18    generated           human\n",
            "19    generated           human\n"
          ]
        },
        {
          "output_type": "execute_result",
          "data": {
            "text/plain": [
              "0.5"
            ]
          },
          "metadata": {},
          "execution_count": 84
        }
      ]
    },
    {
      "cell_type": "markdown",
      "source": [
        "13"
      ],
      "metadata": {
        "id": "1VrpTSeHMTCI"
      }
    },
    {
      "cell_type": "code",
      "source": [
        "prompt = \"\"\"Text classification: Determine if this text was written by a human or generated by a machine.\n",
        "\n",
        "Text to classify: {text_to_classify}\n",
        "\n",
        "Answer: (machine / human)\n",
        "\"\"\"\n",
        "classify_texts(df_samples, prompt)"
      ],
      "metadata": {
        "colab": {
          "base_uri": "https://localhost:8080/"
        },
        "id": "Axjs4RkXu9aF",
        "outputId": "70804d40-5682-4b08-8dc3-4aef2ea500bb"
      },
      "execution_count": null,
      "outputs": [
        {
          "output_type": "stream",
          "name": "stdout",
          "text": [
            "In this case, the text is classified as human-written.\n",
            "Answer: machine\n",
            "Machine\n",
            "Answer: Human\n",
            "Answer: Human\n",
            "Answer: Human\n",
            "Answer: Human\n",
            "Answer: Machine\n",
            "Answer: Human\n",
            "Answer: human\n",
            "Answer: Human\n",
            "Answer: human\n",
            "Answer: human\n",
            "Answer: human\n",
            "Answer: Human\n",
            "Answer: Human\n",
            "Answer: human\n",
            "Answer: human\n",
            "Human\n",
            "Answer: Human\n",
            "   actual_label predicted_label\n",
            "0     generated           human\n",
            "1     generated       generated\n",
            "2     generated       generated\n",
            "3     generated           human\n",
            "4     generated           human\n",
            "5     generated           human\n",
            "6         human           human\n",
            "7         human       generated\n",
            "8         human           human\n",
            "9     generated           human\n",
            "10        human           human\n",
            "11        human           human\n",
            "12        human           human\n",
            "13        human           human\n",
            "14        human           human\n",
            "15    generated           human\n",
            "16    generated           human\n",
            "17    generated           human\n",
            "18    generated           human\n",
            "19    generated           human\n"
          ]
        },
        {
          "output_type": "execute_result",
          "data": {
            "text/plain": [
              "0.45"
            ]
          },
          "metadata": {},
          "execution_count": 62
        }
      ]
    },
    {
      "cell_type": "markdown",
      "source": [
        "14"
      ],
      "metadata": {
        "id": "cSvLJ8RmMVgF"
      }
    },
    {
      "cell_type": "code",
      "source": [
        "prompt = \"\"\"Text classification: Determine if this text was written by a human or generated by a machine.\n",
        "\n",
        "Text to classify: {text_to_classify}\n",
        "\n",
        "Choose one:\n",
        "  - Machine-generated\n",
        "  - Human-written\n",
        "\n",
        "Answer: (machine / human)\n",
        "\"\"\"\n",
        "classify_texts(df_samples, prompt)"
      ],
      "metadata": {
        "colab": {
          "base_uri": "https://localhost:8080/"
        },
        "id": "Eeu-zAZ5vC2u",
        "outputId": "d7882acb-8f4f-4cd2-af2c-c56416431ab5"
      },
      "execution_count": null,
      "outputs": [
        {
          "output_type": "stream",
          "name": "stdout",
          "text": [
            "Human-written\n",
            "Answer: Machine-generated\n",
            "Machine-generated\n",
            "Human-written\n",
            "Answer: Human-written\n",
            "Answer: Human-written\n",
            "Answer: Human\n",
            "Answer: Machine-generated\n",
            "Answer: Human-written\n",
            "Answer: Human-written\n",
            "Since the text contains informal language and a potential expletive, it is more likely to be human-written. Therefore, the answer is **human**.\n",
            "Answer: Human-written\n",
            "Answer: Human-written\n",
            "Answer: Human-written\n",
            "Answer: Human-written\n",
            "Answer: Human\n",
            "Answer: Human-written\n",
            "Answer: Human-written\n",
            "Answer: Human-written\n",
            "Answer: Human-written\n",
            "   actual_label predicted_label\n",
            "0     generated           human\n",
            "1     generated       generated\n",
            "2     generated       generated\n",
            "3     generated           human\n",
            "4     generated           human\n",
            "5     generated           human\n",
            "6         human           human\n",
            "7         human       generated\n",
            "8         human           human\n",
            "9     generated           human\n",
            "10        human           human\n",
            "11        human           human\n",
            "12        human           human\n",
            "13        human           human\n",
            "14        human           human\n",
            "15    generated           human\n",
            "16    generated           human\n",
            "17    generated           human\n",
            "18    generated           human\n",
            "19    generated           human\n"
          ]
        },
        {
          "output_type": "execute_result",
          "data": {
            "text/plain": [
              "0.45"
            ]
          },
          "metadata": {},
          "execution_count": 63
        }
      ]
    },
    {
      "cell_type": "markdown",
      "source": [
        "15"
      ],
      "metadata": {
        "id": "3jrRfe7oMZwA"
      }
    },
    {
      "cell_type": "code",
      "source": [
        "prompt = \"\"\"Text classification: Determine if this text was written by a human or generated by an AI.\n",
        "\n",
        "Text to classify: {text_to_classify}\n",
        "\n",
        "Choose one:\n",
        "  - AI-generated\n",
        "  - Human-written\n",
        "\n",
        "Answer: (machine / human)\n",
        "\"\"\"\n",
        "classify_texts(df_samples, prompt)"
      ],
      "metadata": {
        "colab": {
          "base_uri": "https://localhost:8080/"
        },
        "id": "521TSxI8vMMD",
        "outputId": "20b37f14-fbbb-452a-ea04-0379920f0c90"
      },
      "execution_count": null,
      "outputs": [
        {
          "output_type": "stream",
          "name": "stdout",
          "text": [
            "Answer: Human-written\n",
            "Answer: AI-generated\n",
            "Based on the technical and formal nature of the text, it is more likely that this text was generated by an AI rather than written by a human. \n",
            "\n",
            "Answer: AI-generated\n",
            "Human-written\n",
            "Answer: Human-written\n",
            "Answer: Human-written\n",
            "Answer: Human-written\n",
            "Answer: Human-written\n",
            "Answer: human\n",
            "Answer: Human-written\n",
            "Answer: Human-written\n",
            "Answer: Human-written\n",
            "Answer: Human-written\n",
            "Answer: Human-written\n",
            "Answer: Human-written\n",
            "Answer: Human-written\n",
            "Answer: Human-written\n",
            "Answer: Human-written\n",
            "Human-written\n",
            "Answer: Human-written\n",
            "   actual_label predicted_label\n",
            "0     generated           human\n",
            "1     generated       generated\n",
            "2     generated       generated\n",
            "3     generated           human\n",
            "4     generated           human\n",
            "5     generated           human\n",
            "6         human           human\n",
            "7         human           human\n",
            "8         human           human\n",
            "9     generated           human\n",
            "10        human           human\n",
            "11        human           human\n",
            "12        human           human\n",
            "13        human           human\n",
            "14        human           human\n",
            "15    generated           human\n",
            "16    generated           human\n",
            "17    generated           human\n",
            "18    generated           human\n",
            "19    generated           human\n"
          ]
        },
        {
          "output_type": "execute_result",
          "data": {
            "text/plain": [
              "0.5"
            ]
          },
          "metadata": {},
          "execution_count": 64
        }
      ]
    },
    {
      "cell_type": "markdown",
      "source": [
        "16"
      ],
      "metadata": {
        "id": "tsLqBYZHMc_d"
      }
    },
    {
      "cell_type": "code",
      "source": [
        "prompt = \"\"\"Authorship Identification Task: Decide whether the following excerpt originates from a human or an artificial intelligence. Text to Evaluate: {text_to_classify}\n",
        "Select one:\n",
        "Generated by AI\n",
        "Authored by a Human\n",
        "Response: (AI / Human)\n",
        "\"\"\"\n",
        "classify_texts(df_samples, prompt)"
      ],
      "metadata": {
        "colab": {
          "base_uri": "https://localhost:8080/"
        },
        "id": "RHLK5HHzvh9x",
        "outputId": "355aad5b-bd64-4567-8fa2-8987127dc308"
      },
      "execution_count": null,
      "outputs": [
        {
          "output_type": "stream",
          "name": "stdout",
          "text": [
            "Response: Authored by a Human\n",
            "Generated by AI\n",
            "Generated by AI\n",
            "Response: (AI)\n",
            "Authored by a Human\n",
            "Response: (Human)\n",
            "Authored by a Human\n",
            "Generated by AI\n",
            "Response: Authored by a Human\n",
            "Response: (Human)\n",
            "Generated by AI\n",
            "Authored by a Human\n",
            "Response: Human\n",
            "Authored by a Human\n",
            "Authored by a Human\n",
            "Authored by a Human\n",
            "Authored by a Human\n",
            "Authored by a Human\n",
            "Authored by a Human\n",
            "Response: (Human)\n",
            "   actual_label predicted_label\n",
            "0     generated           human\n",
            "1     generated       generated\n",
            "2     generated       generated\n",
            "3     generated       generated\n",
            "4     generated           human\n",
            "5     generated           human\n",
            "6         human           human\n",
            "7         human       generated\n",
            "8         human           human\n",
            "9     generated           human\n",
            "10        human       generated\n",
            "11        human           human\n",
            "12        human           human\n",
            "13        human           human\n",
            "14        human           human\n",
            "15    generated           human\n",
            "16    generated           human\n",
            "17    generated           human\n",
            "18    generated           human\n",
            "19    generated           human\n"
          ]
        },
        {
          "output_type": "execute_result",
          "data": {
            "text/plain": [
              "0.45"
            ]
          },
          "metadata": {},
          "execution_count": 83
        }
      ]
    },
    {
      "cell_type": "markdown",
      "source": [
        "17"
      ],
      "metadata": {
        "id": "WvAzmcBZMh1S"
      }
    },
    {
      "cell_type": "code",
      "source": [
        "prompt = \"\"\"Authorship Identification Task: Decide whether the following text originates from a human or an artificial intelligence. Text to Evaluate: {text_to_classify}\n",
        "Select one:\n",
        "Generated by AI\n",
        "Authored by a Human\n",
        "Response: (AI / Human)\n",
        "\"\"\"\n",
        "classify_texts(df_samples, prompt)"
      ],
      "metadata": {
        "colab": {
          "base_uri": "https://localhost:8080/"
        },
        "id": "IHjf24eXvqfr",
        "outputId": "d5c0a29e-2285-439e-a2dc-3c265655cc0a"
      },
      "execution_count": null,
      "outputs": [
        {
          "output_type": "stream",
          "name": "stdout",
          "text": [
            "Response: (Human)\n",
            "Generated by AI\n",
            "Generated by AI\n",
            "Response: (AI)\n",
            "Authored by a Human\n",
            "Response: Authored by a Human\n",
            "Response: Authored by a Human\n",
            "Generated by AI\n",
            "Response: Authored by a Human\n",
            "Response: (Human)\n",
            "Generated by AI\n",
            "Authored by a Human\n",
            "Authored by a Human\n",
            "Generated by AI\n",
            "Authored by a Human\n",
            "Authored by a Human\n",
            "Authored by a Human\n",
            "Response: (Human)\n",
            "Authored by a Human\n",
            "Response: Authored by a Human\n",
            "   actual_label predicted_label\n",
            "0     generated           human\n",
            "1     generated       generated\n",
            "2     generated       generated\n",
            "3     generated       generated\n",
            "4     generated           human\n",
            "5     generated           human\n",
            "6         human           human\n",
            "7         human       generated\n",
            "8         human           human\n",
            "9     generated           human\n",
            "10        human       generated\n",
            "11        human           human\n",
            "12        human           human\n",
            "13        human       generated\n",
            "14        human           human\n",
            "15    generated           human\n",
            "16    generated           human\n",
            "17    generated           human\n",
            "18    generated           human\n",
            "19    generated           human\n"
          ]
        },
        {
          "output_type": "execute_result",
          "data": {
            "text/plain": [
              "0.4"
            ]
          },
          "metadata": {},
          "execution_count": 66
        }
      ]
    },
    {
      "cell_type": "markdown",
      "source": [
        "18"
      ],
      "metadata": {
        "id": "UW9EF_NoMxPW"
      }
    },
    {
      "cell_type": "code",
      "source": [
        "prompt = \"\"\"Authorship Identification Task: Decide whether the following excerpt originates from a human or an artificial intelligence.Text to Evaluate: {text_to_classify}\n",
        "Select one:\n",
        "Generated by AI or Machine\n",
        "Authored by a Human\n",
        "Response: (AI / Human)\n",
        "\"\"\"\n",
        "classify_texts(df_samples, prompt)"
      ],
      "metadata": {
        "colab": {
          "base_uri": "https://localhost:8080/"
        },
        "id": "EXBYp6o-vySb",
        "outputId": "2a533727-e0ec-44a2-a52f-d22261d5a21b"
      },
      "execution_count": null,
      "outputs": [
        {
          "output_type": "stream",
          "name": "stdout",
          "text": [
            "Response: Authored by a Human\n",
            "Response: (Human)\n",
            "Generated by AI or Machine\n",
            "Response: (AI)\n",
            "Authored by a Human\n",
            "Response: Human\n",
            "Response: (Human)\n",
            "Response: (Human)\n",
            "Authored by a Human\n",
            "Authored by a Human\n",
            "Response: (Human)\n",
            "Response: Human\n",
            "Response: Authored by a Human\n",
            "Response: (Human)\n",
            "Authored by a Human\n",
            "Authored by a Human\n",
            "Response: (Human)\n",
            "Response: (Human)\n",
            "Response: Authored by a Human\n",
            "Response: Authored by a Human\n",
            "   actual_label predicted_label\n",
            "0     generated           human\n",
            "1     generated           human\n",
            "2     generated       generated\n",
            "3     generated       generated\n",
            "4     generated           human\n",
            "5     generated           human\n",
            "6         human           human\n",
            "7         human           human\n",
            "8         human           human\n",
            "9     generated           human\n",
            "10        human           human\n",
            "11        human           human\n",
            "12        human           human\n",
            "13        human           human\n",
            "14        human           human\n",
            "15    generated           human\n",
            "16    generated           human\n",
            "17    generated           human\n",
            "18    generated           human\n",
            "19    generated           human\n"
          ]
        },
        {
          "output_type": "execute_result",
          "data": {
            "text/plain": [
              "0.5"
            ]
          },
          "metadata": {},
          "execution_count": 67
        }
      ]
    },
    {
      "cell_type": "markdown",
      "source": [
        "19"
      ],
      "metadata": {
        "id": "78mXlSzLM0Ox"
      }
    },
    {
      "cell_type": "code",
      "source": [
        "prompt = \"\"\"Text classification: Is this text more likely written by a human (True) or generated by a machine (False)?\n",
        "\n",
        "Text to classify: {text_to_classify}\n",
        "\n",
        "Answer: True (human) / False (machine)\n",
        "\"\"\"\n",
        "classify_texts(df_samples, prompt)"
      ],
      "metadata": {
        "colab": {
          "base_uri": "https://localhost:8080/"
        },
        "id": "E9gYZsQpv66B",
        "outputId": "232416a3-0e4e-4f3d-cc8f-aaee10029f6c"
      },
      "execution_count": null,
      "outputs": [
        {
          "output_type": "stream",
          "name": "stdout",
          "text": [
            "True (human)\n",
            "Answer: True (human)\n",
            "False (machine)\n",
            "True (human)\n",
            "True (human)\n",
            "True (human)\n",
            "True (human)\n",
            "True (human)\n",
            "True (human)\n",
            "True (human)\n",
            "True (human)\n",
            "True (human)\n",
            "True (human)\n",
            "True (human)\n",
            "True (human)\n",
            "True (human)\n",
            "True (human)\n",
            "True (human)\n",
            "True (human)\n",
            "True (human)\n",
            "   actual_label predicted_label\n",
            "0     generated           human\n",
            "1     generated           human\n",
            "2     generated       generated\n",
            "3     generated           human\n",
            "4     generated           human\n",
            "5     generated           human\n",
            "6         human           human\n",
            "7         human           human\n",
            "8         human           human\n",
            "9     generated           human\n",
            "10        human           human\n",
            "11        human           human\n",
            "12        human           human\n",
            "13        human           human\n",
            "14        human           human\n",
            "15    generated           human\n",
            "16    generated           human\n",
            "17    generated           human\n",
            "18    generated           human\n",
            "19    generated           human\n"
          ]
        },
        {
          "output_type": "execute_result",
          "data": {
            "text/plain": [
              "0.45"
            ]
          },
          "metadata": {},
          "execution_count": 68
        }
      ]
    },
    {
      "cell_type": "markdown",
      "source": [
        "20"
      ],
      "metadata": {
        "id": "oLbkJqb0M6FP"
      }
    },
    {
      "cell_type": "code",
      "source": [
        "prompt = \"\"\"Text classification: Is this text more likely written by a human (True) or generated by a machine (False)?\n",
        "\n",
        "Text to classify: {text_to_classify}\n",
        "\n",
        "Answer: True (human) / False (machine)\n",
        "\"\"\"\n",
        "classify_texts(df_samples, prompt)"
      ],
      "metadata": {
        "id": "D6WFNINdwAj8"
      },
      "execution_count": null,
      "outputs": []
    },
    {
      "cell_type": "markdown",
      "source": [
        "21"
      ],
      "metadata": {
        "id": "1XI3ayqoM7GR"
      }
    },
    {
      "cell_type": "code",
      "source": [
        "prompt = \"\"\"Identifying Text Origin: Determine if the following text is authored by a human or generated by AI. Text for Identification: {text_to_classify} Select:\n",
        "Generated by AI\n",
        "Authored by a Human\n",
        "Indicate: (AI / Human)\n",
        "\"\"\"\n",
        "classify_texts(df_samples, prompt)"
      ],
      "metadata": {
        "colab": {
          "base_uri": "https://localhost:8080/"
        },
        "id": "hATvvJJuwD-f",
        "outputId": "1fb16142-20a4-429d-cd28-dc706579beba"
      },
      "execution_count": null,
      "outputs": [
        {
          "output_type": "stream",
          "name": "stdout",
          "text": [
            "Authored by a Human\n",
            "AI\n",
            "Generated by AI. (AI)\n",
            "Indicate: (Human)\n",
            "Authored by a Human\n",
            "Indicate: (Human)\n",
            "Authored by a Human\n",
            "Authored by a Human\n",
            "Identified: Authored by a Human\n",
            "\n",
            "Explanation: The text provides detailed instructions on how to lay out tarot cards and analyze them, indicating a human touch in terms of understanding of the subject matter and ability to give specific instructions.\n",
            "Indicate: (Human)\n",
            "Authored by a Human\n",
            "Authored by a Human\n",
            "Indicate: (Human)\n",
            "Authored by a Human\n",
            "Authored by a Human\n",
            "Indicate: Human\n",
            "Indicate: (Human)\n",
            "Authored by a Human\n",
            "Text Origin: Human\n",
            "Indicate: (Human)\n",
            "   actual_label predicted_label\n",
            "0     generated           human\n",
            "1     generated       generated\n",
            "2     generated       generated\n",
            "3     generated           human\n",
            "4     generated           human\n",
            "5     generated           human\n",
            "6         human           human\n",
            "7         human           human\n",
            "8         human           human\n",
            "9     generated           human\n",
            "10        human           human\n",
            "11        human           human\n",
            "12        human           human\n",
            "13        human           human\n",
            "14        human           human\n",
            "15    generated           human\n",
            "16    generated           human\n",
            "17    generated           human\n",
            "18    generated           human\n",
            "19    generated           human\n"
          ]
        },
        {
          "output_type": "execute_result",
          "data": {
            "text/plain": [
              "0.5"
            ]
          },
          "metadata": {},
          "execution_count": 71
        }
      ]
    },
    {
      "cell_type": "markdown",
      "source": [
        "22"
      ],
      "metadata": {
        "id": "0254Yh4TM_HQ"
      }
    },
    {
      "cell_type": "code",
      "source": [
        "prompt = \"\"\"Authorship Attribution Task: Determine the origin of the following text: human or artificial intelligence.\n",
        "\n",
        "Text for Evaluation: {text_to_classify}\n",
        "\n",
        "Choose the most fitting option:\n",
        "\n",
        "Created by AI\n",
        "Written by a Human\n",
        "Respond with your choice: (AI / Human)\n",
        "\"\"\"\n",
        "classify_texts(df_samples, prompt)"
      ],
      "metadata": {
        "colab": {
          "base_uri": "https://localhost:8080/"
        },
        "id": "A5GTggLZwQmJ",
        "outputId": "d0ef4a4b-f8e3-41a5-87f9-0a94db1c8a5c"
      },
      "execution_count": null,
      "outputs": [
        {
          "output_type": "stream",
          "name": "stdout",
          "text": [
            "Written by a Human\n",
            "AI\n",
            "Created by AI\n",
            "Written by a Human\n",
            "Written by a Human\n",
            "Written by a Human\n",
            "Written by a Human\n",
            "AI\n",
            "Written by a Human\n",
            "Respond with your choice: (AI / Human)\n",
            "AI\n",
            "Written by a Human\n",
            "Respond with your choice: (AI / Human)\n",
            "Written by a Human\n",
            "Written by a Human\n",
            "Written by a Human\n",
            "Written by a Human\n",
            "Written by a Human\n",
            "Written by a Human\n",
            "Respond with your choice: Human\n",
            "   actual_label predicted_label\n",
            "0     generated           human\n",
            "1     generated       generated\n",
            "2     generated       generated\n",
            "3     generated           human\n",
            "4     generated           human\n",
            "5     generated           human\n",
            "6         human           human\n",
            "7         human       generated\n",
            "8         human           human\n",
            "9     generated       generated\n",
            "10        human       generated\n",
            "11        human           human\n",
            "12        human       generated\n",
            "13        human           human\n",
            "14        human           human\n",
            "15    generated           human\n",
            "16    generated           human\n",
            "17    generated           human\n",
            "18    generated           human\n",
            "19    generated           human\n"
          ]
        },
        {
          "output_type": "execute_result",
          "data": {
            "text/plain": [
              "0.4"
            ]
          },
          "metadata": {},
          "execution_count": 72
        }
      ]
    },
    {
      "cell_type": "markdown",
      "source": [
        "23"
      ],
      "metadata": {
        "id": "jv1BPwNwNDq8"
      }
    },
    {
      "cell_type": "code",
      "source": [
        "prompt = \"\"\"Authorship Attribution Task: Determine the origin of the following text: human or artificial intelligence.\n",
        "\n",
        "Text for Evaluation: {text_to_classify}\n",
        "\n",
        "Choose the most fitting option:\n",
        "\n",
        "Created by AI\n",
        "Written by a Human\n",
        "Response: (AI / Human)\n",
        "\"\"\"\n",
        "classify_texts(df_samples, prompt)"
      ],
      "metadata": {
        "colab": {
          "base_uri": "https://localhost:8080/"
        },
        "id": "JcryDNBgwhRs",
        "outputId": "bf6ce7cd-f994-4d27-95bd-069444311d6a"
      },
      "execution_count": null,
      "outputs": [
        {
          "output_type": "stream",
          "name": "stdout",
          "text": [
            "Human\n",
            "Response: AI\n",
            "Response: (Human)\n",
            "Created by AI\n",
            "Response: (Human)\n",
            "Response: Human\n",
            "Written by a Human\n",
            "Response: (Human)\n",
            "Response: (Human)\n",
            "Response: Human\n",
            "Written by a Human\n",
            "Response: Human\n",
            "Response: Human\n",
            "Response: (Human)\n",
            "Response: Human\n",
            "Written by a Human\n",
            "Response: Written by a Human\n",
            "Response: Human\n",
            "Response: Written by a Human\n",
            "Response: Human\n",
            "   actual_label predicted_label\n",
            "0     generated           human\n",
            "1     generated       generated\n",
            "2     generated           human\n",
            "3     generated       generated\n",
            "4     generated           human\n",
            "5     generated           human\n",
            "6         human           human\n",
            "7         human           human\n",
            "8         human           human\n",
            "9     generated           human\n",
            "10        human           human\n",
            "11        human           human\n",
            "12        human           human\n",
            "13        human           human\n",
            "14        human           human\n",
            "15    generated           human\n",
            "16    generated           human\n",
            "17    generated           human\n",
            "18    generated           human\n",
            "19    generated           human\n"
          ]
        },
        {
          "output_type": "execute_result",
          "data": {
            "text/plain": [
              "0.5"
            ]
          },
          "metadata": {},
          "execution_count": 73
        }
      ]
    },
    {
      "cell_type": "markdown",
      "source": [
        "24"
      ],
      "metadata": {
        "id": "FLtfTamKNSah"
      }
    },
    {
      "cell_type": "code",
      "source": [
        "prompt = \"\"\"Authorship Attribution Task Instructions:In this task, you'll be evaluating text to determine whether it was created by a human or an artificial intelligence system. Follow these steps:\n",
        "Read the provided text carefully.\n",
        "Text to classify:\n",
        "{text_to_classify}\n",
        "Consider the style, language, and coherence of the text.\n",
        "Decide whether you believe the text was generated by AI or authored by a human.\n",
        "Select the appropriate option: \"AI\" or \"Human\".\n",
        "Response:\n",
        "\"\"\"\n",
        "classify_texts(df_samples, prompt)"
      ],
      "metadata": {
        "colab": {
          "base_uri": "https://localhost:8080/"
        },
        "id": "gFSr2EzNwqle",
        "outputId": "85709d9d-5111-423d-b9d3-c0d257d44322"
      },
      "execution_count": null,
      "outputs": [
        {
          "output_type": "stream",
          "name": "stdout",
          "text": [
            "Human\n",
            "Human\n",
            "Human\n",
            "Human\n",
            "Human\n",
            "Human\n",
            "Human\n",
            "Based on the technical and formal nature of the text, as well as the use of legal terminology, it is likely that the text was authored by a human.\n",
            "Based on the style and language of the provided text, the text appears to be authored by a human.\n",
            "Human\n",
            "Human\n",
            "Human\n",
            "Based on the style, language, and coherence of the text provided, it appears to be authored by a human.\n",
            "Human\n",
            "Human\n",
            "Human\n",
            "Human\n",
            "Human\n",
            "Human\n",
            "Human\n",
            "   actual_label predicted_label\n",
            "0     generated           human\n",
            "1     generated           human\n",
            "2     generated           human\n",
            "3     generated           human\n",
            "4     generated           human\n",
            "5     generated           human\n",
            "6         human           human\n",
            "7         human           human\n",
            "8         human           human\n",
            "9     generated           human\n",
            "10        human           human\n",
            "11        human           human\n",
            "12        human           human\n",
            "13        human           human\n",
            "14        human           human\n",
            "15    generated           human\n",
            "16    generated           human\n",
            "17    generated           human\n",
            "18    generated           human\n",
            "19    generated           human\n"
          ]
        },
        {
          "output_type": "execute_result",
          "data": {
            "text/plain": [
              "0.4"
            ]
          },
          "metadata": {},
          "execution_count": 78
        }
      ]
    },
    {
      "cell_type": "markdown",
      "source": [
        "25"
      ],
      "metadata": {
        "id": "j3AeLDSnNRNQ"
      }
    },
    {
      "cell_type": "code",
      "source": [
        "prompt = \"\"\"Text classification: Determine if this text was written by a human or made by an AI.\n",
        "\n",
        "Text to classify: {text_to_classify}\n",
        "\n",
        "Choose one:\n",
        "  - AI-generated\n",
        "  - Human-written\n",
        "\n",
        "Answer: (machine / human)\n",
        "\"\"\"\n",
        "classify_texts(df_samples, prompt)"
      ],
      "metadata": {
        "colab": {
          "base_uri": "https://localhost:8080/"
        },
        "id": "qDy2reTrxBDs",
        "outputId": "b61fa729-b59c-41d6-eeab-2d6538a480e2"
      },
      "execution_count": null,
      "outputs": [
        {
          "output_type": "stream",
          "name": "stdout",
          "text": [
            "Human-written\n",
            "Answer: Human-written\n",
            "This text looks like it was machine-generated. \n",
            "\n",
            "Answer: AI-generated\n",
            "Human-written\n",
            "Answer: Human-written\n",
            "Answer: Human-written\n",
            "Answer: Human-written\n",
            "Answer: AI-generated\n",
            "Human-written\n",
            "Answer: Human-written\n",
            "Human-written\n",
            "Answer: Human-written\n",
            "Answer: Human-written\n",
            "Answer: Human-written\n",
            "Answer: Human-written\n",
            "Answer: Human-written\n",
            "Answer: Human-written\n",
            "Answer: Human-written\n",
            "Human-written\n",
            "Answer: Human-written\n",
            "   actual_label predicted_label\n",
            "0     generated           human\n",
            "1     generated           human\n",
            "2     generated       generated\n",
            "3     generated           human\n",
            "4     generated           human\n",
            "5     generated           human\n",
            "6         human           human\n",
            "7         human       generated\n",
            "8         human           human\n",
            "9     generated           human\n",
            "10        human           human\n",
            "11        human           human\n",
            "12        human           human\n",
            "13        human           human\n",
            "14        human           human\n",
            "15    generated           human\n",
            "16    generated           human\n",
            "17    generated           human\n",
            "18    generated           human\n",
            "19    generated           human\n"
          ]
        },
        {
          "output_type": "execute_result",
          "data": {
            "text/plain": [
              "0.4"
            ]
          },
          "metadata": {},
          "execution_count": 79
        }
      ]
    },
    {
      "cell_type": "markdown",
      "source": [
        "26"
      ],
      "metadata": {
        "id": "e6c3MMcvNXSN"
      }
    },
    {
      "cell_type": "code",
      "source": [
        "prompt = \"\"\"Text classification: Determine if this text was written by a human or made by an AI.\n",
        "\n",
        "Text to classify: {text_to_classify}\n",
        "\n",
        "Choose one:\n",
        "  - AI-generated\n",
        "  - Human-written\n",
        "\n",
        "Answer:\n",
        "\"\"\"\n",
        "classify_texts(df_samples, prompt)"
      ],
      "metadata": {
        "colab": {
          "base_uri": "https://localhost:8080/"
        },
        "id": "xsVleDkV4J1G",
        "outputId": "cc9eb623-d3d8-452c-8074-62a8ddbdf344"
      },
      "execution_count": null,
      "outputs": [
        {
          "output_type": "stream",
          "name": "stdout",
          "text": [
            "Human-written\n",
            "Human-written\n",
            "AI-generated\n",
            "Human-written\n",
            "Human-written\n",
            "Human-written\n",
            "Human-written\n",
            "AI-generated\n",
            "This text appears to be human-written as it involves instructions for shuffling and laying out cards in a tarot card reading, as well as suggesting a narrative pattern based on the cards.\n",
            "Human-written\n",
            "Human-written\n",
            "Human-written\n",
            "Human-written\n",
            "Human-written\n",
            "Human-written\n",
            "Human-written\n",
            "Human-written\n",
            "Human-written\n",
            "Human-written\n",
            "Human-written\n",
            "   actual_label predicted_label\n",
            "0     generated           human\n",
            "1     generated           human\n",
            "2     generated       generated\n",
            "3     generated           human\n",
            "4     generated           human\n",
            "5     generated           human\n",
            "6         human           human\n",
            "7         human       generated\n",
            "8         human           human\n",
            "9     generated           human\n",
            "10        human           human\n",
            "11        human           human\n",
            "12        human           human\n",
            "13        human           human\n",
            "14        human           human\n",
            "15    generated           human\n",
            "16    generated           human\n",
            "17    generated           human\n",
            "18    generated           human\n",
            "19    generated           human\n"
          ]
        },
        {
          "output_type": "execute_result",
          "data": {
            "text/plain": [
              "0.4"
            ]
          },
          "metadata": {},
          "execution_count": 80
        }
      ]
    },
    {
      "cell_type": "markdown",
      "source": [
        "27"
      ],
      "metadata": {
        "id": "KoeUkogONgDj"
      }
    },
    {
      "cell_type": "code",
      "source": [
        "prompt = \"\"\"Machine vs Human Text Classification challenge: Determine if this text is written\n",
        "by a human or generated by a using AI. Text to classify: {text_to_classify}\n",
        "\n",
        "Your Answer (AI/Human):\n",
        "\"\"\"\n",
        "classify_texts(df_samples, prompt)"
      ],
      "metadata": {
        "colab": {
          "base_uri": "https://localhost:8080/"
        },
        "id": "K4WONrJW6R8u",
        "outputId": "d9a48792-4b37-47ea-deae-229e082ce547"
      },
      "execution_count": null,
      "outputs": [
        {
          "output_type": "stream",
          "name": "stdout",
          "text": [
            "Human\n",
            "AI\n",
            "AI\n",
            "Human\n",
            "Human\n",
            "This text appears to be written by a human.\n",
            "Human\n",
            "AI\n",
            "This text is likely written by a human.\n",
            "This text appears to have been written by a human.\n",
            "Based on the content provided, it is more likely that the text was written by a human.\n",
            "This text appears to be written by a human.\n",
            "It is written by a Human.\n",
            "AI\n",
            "AI\n",
            "Human\n",
            "Human\n",
            "Human\n",
            "AI\n",
            "This text is written by a human.\n",
            "   actual_label predicted_label\n",
            "0     generated           human\n",
            "1     generated       generated\n",
            "2     generated       generated\n",
            "3     generated           human\n",
            "4     generated           human\n",
            "5     generated           human\n",
            "6         human           human\n",
            "7         human       generated\n",
            "8         human           human\n",
            "9     generated           human\n",
            "10        human           human\n",
            "11        human           human\n",
            "12        human           human\n",
            "13        human       generated\n",
            "14        human       generated\n",
            "15    generated           human\n",
            "16    generated           human\n",
            "17    generated           human\n",
            "18    generated       generated\n",
            "19    generated           human\n"
          ]
        },
        {
          "output_type": "execute_result",
          "data": {
            "text/plain": [
              "0.4"
            ]
          },
          "metadata": {},
          "execution_count": 86
        }
      ]
    },
    {
      "cell_type": "markdown",
      "source": [
        "28"
      ],
      "metadata": {
        "id": "CFHzA82bNhkM"
      }
    },
    {
      "cell_type": "code",
      "source": [
        "prompt = \"\"\"Machine vs Human Text Classification challenge: Determine if this text is written\n",
        "by a human or generated by a using AI. Text to classify: {text_to_classify}\n",
        "\n",
        "Your Answer (AI or Human):\n",
        "\"\"\"\n",
        "classify_texts(df_samples, prompt)"
      ],
      "metadata": {
        "colab": {
          "base_uri": "https://localhost:8080/"
        },
        "id": "c2kAOaEr6jDu",
        "outputId": "b448a2bd-bbfc-42de-ab3b-6d60d5ba5cde"
      },
      "execution_count": null,
      "outputs": [
        {
          "output_type": "stream",
          "name": "stdout",
          "text": [
            "Human\n",
            "AI\n",
            "AI\n",
            "Human\n",
            "Human\n",
            "This text appears to be written by a human.\n",
            "Human\n",
            "AI\n",
            "This text is most likely written by a human.\n",
            "Based on the text provided, it appears to be written by a human.\n",
            "Based on the text provided, it seems more likely to have been written by a human due to the informal language and slang used (\"Holla @ Yall Later\").\n",
            "AI\n",
            "This text appears to be written by a human.\n",
            "AI\n",
            "This text was written by a human.\n",
            "Human\n",
            "Human\n",
            "Human\n",
            "While I cannot determine with absolute certainty whether this text was written by a human or generated by AI, some aspects to consider for classification could be analyzing the language complexity, coherence, and context. In this case, the text appears to be a typical message or response on social media, lacking complex structure or significant context. This could indicate that it was written by a human rather than generated by AI trained for more formal or structured text. Ultimately, a more in-depth analysis would be needed for a more definitive classification.\n",
            "Human\n",
            "   actual_label predicted_label\n",
            "0     generated           human\n",
            "1     generated       generated\n",
            "2     generated       generated\n",
            "3     generated           human\n",
            "4     generated           human\n",
            "5     generated           human\n",
            "6         human           human\n",
            "7         human       generated\n",
            "8         human           human\n",
            "9     generated           human\n",
            "10        human           human\n",
            "11        human       generated\n",
            "12        human           human\n",
            "13        human       generated\n",
            "14        human           human\n",
            "15    generated           human\n",
            "16    generated           human\n",
            "17    generated           human\n",
            "18    generated       generated\n",
            "19    generated           human\n"
          ]
        },
        {
          "output_type": "execute_result",
          "data": {
            "text/plain": [
              "0.4"
            ]
          },
          "metadata": {},
          "execution_count": 87
        }
      ]
    },
    {
      "cell_type": "markdown",
      "source": [
        "29"
      ],
      "metadata": {
        "id": "2ZqCcs9BNu5b"
      }
    },
    {
      "cell_type": "code",
      "source": [
        "prompt = \"\"\"AI vs Human Text Classification challenge: Determine if this text is written by a human or generated by a using machine learning models. Text to classify: {text_to_classify}\n",
        "\n",
        "Your Answer: (AI or Human)\n",
        "\"\"\"\n",
        "classify_texts(df_samples, prompt)"
      ],
      "metadata": {
        "colab": {
          "base_uri": "https://localhost:8080/"
        },
        "id": "TGFocRQ4Cbj6",
        "outputId": "493112b5-90c4-43f5-e558-1d4af3b1cd9f"
      },
      "execution_count": null,
      "outputs": [
        {
          "output_type": "stream",
          "name": "stdout",
          "text": [
            "Human\n",
            "AI\n",
            "AI\n",
            "Human\n",
            "Human\n",
            "AI\n",
            "Human\n",
            "AI\n",
            "Human\n",
            "Human\n",
            "Human\n",
            "AI\n",
            "The text appears to be written by a human.\n",
            "This text is likely generated by a machine learning model (AI).\n",
            "Human\n",
            "Human\n",
            "Human.\n",
            "Human\n",
            "I need more context or the complete text to determine if it was written by a human or generated by an AI model. Please provide the full text for better classification.\n",
            "Based on the text provided, it appears to be written by a human as it conveys logical reasoning, experience, and good judgment in a coherent and structured manner.\n",
            "   actual_label predicted_label\n",
            "0     generated           human\n",
            "1     generated       generated\n",
            "2     generated       generated\n",
            "3     generated           human\n",
            "4     generated           human\n",
            "5     generated       generated\n",
            "6         human           human\n",
            "7         human       generated\n",
            "8         human           human\n",
            "9     generated           human\n",
            "10        human           human\n",
            "11        human       generated\n",
            "12        human           human\n",
            "13        human       generated\n",
            "14        human           human\n",
            "15    generated           human\n",
            "16    generated           human\n",
            "17    generated           human\n",
            "18    generated       generated\n",
            "19    generated           human\n"
          ]
        },
        {
          "output_type": "execute_result",
          "data": {
            "text/plain": [
              "0.45"
            ]
          },
          "metadata": {},
          "execution_count": 104
        }
      ]
    },
    {
      "cell_type": "markdown",
      "source": [
        "30"
      ],
      "metadata": {
        "id": "2dn4cNdvN-fr"
      }
    },
    {
      "cell_type": "code",
      "source": [
        "prompt = \"\"\"AI vs Human Text Classification challenge: Determine if this text is written by a human or generated by a using AI. Text to classify: {text_to_classify}\n",
        "\n",
        "Your Answer: (AI or Human)\n",
        "\"\"\"\n",
        "classify_texts(df_samples, prompt)"
      ],
      "metadata": {
        "colab": {
          "base_uri": "https://localhost:8080/"
        },
        "id": "_WXuK453CW6h",
        "outputId": "b0c4f2f6-630c-4328-f669-89386ee0fc33"
      },
      "execution_count": null,
      "outputs": [
        {
          "output_type": "stream",
          "name": "stdout",
          "text": [
            "Human\n",
            "AI\n",
            "AI\n",
            "Human\n",
            "Human\n",
            "AI\n",
            "Human\n",
            "This text appears to have been generated by AI.\n",
            "This text is most likely written by a human.\n",
            "This text seems more likely to have been written by a human due to the emotional expression and personal touch in the message.\n",
            "AI\n",
            "Human\n",
            "This text appears to be written by a human.\n",
            "AI\n",
            "Human\n",
            "Human\n",
            "Human\n",
            "This text appears to be written by a human.\n",
            "Human\n",
            "Human\n",
            "   actual_label predicted_label\n",
            "0     generated           human\n",
            "1     generated       generated\n",
            "2     generated       generated\n",
            "3     generated           human\n",
            "4     generated           human\n",
            "5     generated       generated\n",
            "6         human           human\n",
            "7         human       generated\n",
            "8         human           human\n",
            "9     generated           human\n",
            "10        human       generated\n",
            "11        human           human\n",
            "12        human           human\n",
            "13        human       generated\n",
            "14        human           human\n",
            "15    generated           human\n",
            "16    generated           human\n",
            "17    generated           human\n",
            "18    generated           human\n",
            "19    generated           human\n"
          ]
        },
        {
          "output_type": "execute_result",
          "data": {
            "text/plain": [
              "0.4"
            ]
          },
          "metadata": {},
          "execution_count": 103
        }
      ]
    },
    {
      "cell_type": "markdown",
      "source": [
        "31"
      ],
      "metadata": {
        "id": "_NZFeAJLN_qc"
      }
    },
    {
      "cell_type": "code",
      "source": [
        "prompt = \"\"\"Machine vs Human Text Classification challenge: Determine if this text is written by a human or generated by a using AI. Text to classify: {text_to_classify}\n",
        "\n",
        "Your Answer: (AI or Human)\n",
        "\"\"\"\n",
        "classify_texts(df_samples, prompt)"
      ],
      "metadata": {
        "colab": {
          "base_uri": "https://localhost:8080/"
        },
        "id": "wB5jLCl66lVp",
        "outputId": "e377d552-808c-4cad-e538-639e89e72964"
      },
      "execution_count": null,
      "outputs": [
        {
          "output_type": "stream",
          "name": "stdout",
          "text": [
            "Human\n",
            "AI\n",
            "AI\n",
            "AI\n",
            "Human\n",
            "AI\n",
            "Human\n",
            "AI\n",
            "(AI)\n",
            "It is likely written by a human.\n",
            "Human\n",
            "Human\n",
            "Human\n",
            "AI\n",
            "This text appears to be written by a human.\n",
            "Human\n",
            "Human\n",
            "Human\n",
            "Human\n",
            "Human\n",
            "   actual_label predicted_label\n",
            "0     generated           human\n",
            "1     generated       generated\n",
            "2     generated       generated\n",
            "3     generated       generated\n",
            "4     generated           human\n",
            "5     generated       generated\n",
            "6         human           human\n",
            "7         human       generated\n",
            "8         human       generated\n",
            "9     generated           human\n",
            "10        human           human\n",
            "11        human           human\n",
            "12        human           human\n",
            "13        human       generated\n",
            "14        human           human\n",
            "15    generated           human\n",
            "16    generated           human\n",
            "17    generated           human\n",
            "18    generated           human\n",
            "19    generated           human\n"
          ]
        },
        {
          "output_type": "execute_result",
          "data": {
            "text/plain": [
              "0.45"
            ]
          },
          "metadata": {},
          "execution_count": 102
        }
      ]
    },
    {
      "cell_type": "markdown",
      "source": [
        "32"
      ],
      "metadata": {
        "id": "oN7KCVi0OO-r"
      }
    },
    {
      "cell_type": "code",
      "source": [
        "prompt = \"\"\"Machine vs Human Text Classification challenge: Determine if this text is written by a human or generated by a using AI. Text to classify: {text_to_classify}\n",
        "\n",
        "Your Answer: This text is likely written by (AI or Human)\n",
        "\"\"\"\n",
        "classify_texts(df_samples, prompt)"
      ],
      "metadata": {
        "colab": {
          "base_uri": "https://localhost:8080/"
        },
        "id": "BTJRallTCP3q",
        "outputId": "499cf5b9-85e3-466b-f4ac-4e48e33f15c4"
      },
      "execution_count": null,
      "outputs": [
        {
          "output_type": "stream",
          "name": "stdout",
          "text": [
            "This text is likely written by a human.\n",
            "This text is likely written by an AI.\n",
            "This text is likely written by AI.\n",
            "This text is likely written by a human.\n",
            "This text is likely written by a human.\n",
            "This text is likely written by a human.\n",
            "This text is likely written by a human.\n",
            "This text is likely written by AI.\n",
            "This text is likely written by a human.\n",
            "This text is likely written by a human.\n",
            "This text is likely written by a human.\n",
            "This text is likely written by a human.\n",
            "This text is likely written by a human.\n",
            "This text is likely written by an AI.\n",
            "This text is likely written by a human.\n",
            "This text is likely written by a human.\n",
            "This text is likely written by a human.\n",
            "This text is likely written by a human.\n",
            "This text is likely written by a Human.\n",
            "This text is likely written by a human.\n",
            "   actual_label predicted_label\n",
            "0     generated           human\n",
            "1     generated       generated\n",
            "2     generated       generated\n",
            "3     generated           human\n",
            "4     generated           human\n",
            "5     generated           human\n",
            "6         human           human\n",
            "7         human       generated\n",
            "8         human           human\n",
            "9     generated           human\n",
            "10        human           human\n",
            "11        human           human\n",
            "12        human           human\n",
            "13        human       generated\n",
            "14        human           human\n",
            "15    generated           human\n",
            "16    generated           human\n",
            "17    generated           human\n",
            "18    generated           human\n",
            "19    generated           human\n"
          ]
        },
        {
          "output_type": "execute_result",
          "data": {
            "text/plain": [
              "0.4"
            ]
          },
          "metadata": {},
          "execution_count": 101
        }
      ]
    },
    {
      "cell_type": "markdown",
      "source": [
        "33"
      ],
      "metadata": {
        "id": "_zXKioUOOSp5"
      }
    },
    {
      "cell_type": "code",
      "source": [
        "prompt = \"\"\"Text Origin Detection: Was this text crafted by a human writer or created by artificial intelligence?\n",
        "\n",
        "Text to Analyze: {text_to_classify}\n",
        "\n",
        "Response: (Human/AI)\n",
        "\"\"\"\n",
        "classify_texts(df_samples, prompt)"
      ],
      "metadata": {
        "colab": {
          "base_uri": "https://localhost:8080/"
        },
        "id": "Hnfr3-rU6uLe",
        "outputId": "9b5d904b-62b6-4730-d7c4-3873e0ab0a86"
      },
      "execution_count": null,
      "outputs": [
        {
          "output_type": "stream",
          "name": "stdout",
          "text": [
            "Human\n",
            "Response: AI\n",
            "AI\n",
            "Human\n",
            "Response: Human\n",
            "The text provided appears to have errors in grammar and syntax, suggesting that it was likely created by artificial intelligence rather than a human writer.\n",
            "Human\n",
            "AI\n",
            "Response: Human\n",
            "Human\n",
            "Response: Human\n",
            "Response: Human\n",
            "Response: Human\n",
            "Response: This text appears to be crafted by a human writer.\n",
            "Response: Human\n",
            "Human\n",
            "Human\n",
            "Human\n",
            "Human\n",
            "This text appears to have been crafted by a human writer.\n",
            "   actual_label predicted_label\n",
            "0     generated           human\n",
            "1     generated       generated\n",
            "2     generated       generated\n",
            "3     generated           human\n",
            "4     generated           human\n",
            "5     generated           human\n",
            "6         human           human\n",
            "7         human       generated\n",
            "8         human           human\n",
            "9     generated           human\n",
            "10        human           human\n",
            "11        human           human\n",
            "12        human           human\n",
            "13        human           human\n",
            "14        human           human\n",
            "15    generated           human\n",
            "16    generated           human\n",
            "17    generated           human\n",
            "18    generated           human\n",
            "19    generated           human\n"
          ]
        },
        {
          "output_type": "execute_result",
          "data": {
            "text/plain": [
              "0.45"
            ]
          },
          "metadata": {},
          "execution_count": 91
        }
      ]
    },
    {
      "cell_type": "markdown",
      "source": [
        "34"
      ],
      "metadata": {
        "id": "nb6G23ytBWsQ"
      }
    },
    {
      "cell_type": "code",
      "source": [
        "prompt = \"\"\"\"Machine versus Human Text Classification challenge: Identify whether the given text is authored by a human or generated by an AI system. Text for classification: {text_to_classify}\n",
        "\n",
        "Your Response: (AI or Human)\"\n",
        "\"\"\"\n",
        "\n",
        "classify_texts(df_samples, prompt)"
      ],
      "metadata": {
        "colab": {
          "base_uri": "https://localhost:8080/"
        },
        "id": "-hD8iTGw66Re",
        "outputId": "c9fb8456-4759-4a27-c596-aeb2eda15d0c"
      },
      "execution_count": null,
      "outputs": [
        {
          "output_type": "stream",
          "name": "stdout",
          "text": [
            "Based on the text provided, this is more likely to be authored by a human.\n",
            "This text appears to be authored by a human, as it contains specific legal language and references to regulations and deadlines that are unlikely to be generated by an AI system.\n",
            "It is likely that the given text is generated by an AI system.\n",
            "This text appears to have been generated by an AI system.\n",
            "Human\n",
            "Human\n",
            "Based on the text provided, it appears to be authored by a human.\n",
            "Human\n",
            "Based on the given text, it is likely authored by a Human. The detailed instructions on shuffling and laying out cards, as well as the creative and narrative elements mentioned, suggest a human touch in the writing style.\n",
            "Based on the given text, it appears to be authored by a human.\n",
            "It is challenging to determine if the given text is authored by a human or generated by an AI system based on the provided information alone. The text seems informal and contains a mix of casual language and technical reference to a water pump issue, which could be written by either a human or an AI system programmed to generate conversational text. More context or additional text examples may be needed to make a more accurate classification.\n",
            "Human\n",
            "This text appears to be authored by a human.\n",
            "AI\n",
            "Human\n",
            "Human\n",
            "Human\n",
            "Given the nature of the text provided and the topic of measuring waist size, it is more likely that this text was authored by a human.\n",
            "This text appears to be authored by a human.\n",
            "Human\n",
            "   actual_label predicted_label\n",
            "0     generated           human\n",
            "1     generated       generated\n",
            "2     generated       generated\n",
            "3     generated       generated\n",
            "4     generated           human\n",
            "5     generated           human\n",
            "6         human           human\n",
            "7         human           human\n",
            "8         human           human\n",
            "9     generated           human\n",
            "10        human       generated\n",
            "11        human           human\n",
            "12        human           human\n",
            "13        human       generated\n",
            "14        human           human\n",
            "15    generated           human\n",
            "16    generated           human\n",
            "17    generated           human\n",
            "18    generated           human\n",
            "19    generated           human\n"
          ]
        },
        {
          "output_type": "execute_result",
          "data": {
            "text/plain": [
              "0.45"
            ]
          },
          "metadata": {},
          "execution_count": 92
        }
      ]
    },
    {
      "cell_type": "markdown",
      "source": [
        "35"
      ],
      "metadata": {
        "id": "R8Tzj1PgOcBB"
      }
    },
    {
      "cell_type": "code",
      "source": [
        "prompt = \"\"\"Text Origin Detection: Was this text crafted by a human writer or created by artificial intelligence?\n",
        "\n",
        "Text to Analyze: {text_to_classify}\n",
        "\n",
        "Response: (Human/AI)\n",
        "\"\"\"\n",
        "classify_texts(df_samples, prompt)"
      ],
      "metadata": {
        "colab": {
          "base_uri": "https://localhost:8080/"
        },
        "id": "GLRmRzuU7ZC-",
        "outputId": "56b2b9d1-6888-4e02-8418-de7a5d398aa8"
      },
      "execution_count": null,
      "outputs": [
        {
          "output_type": "stream",
          "name": "stdout",
          "text": [
            "Human\n",
            "This text appears to be written by a human.\n",
            "AI\n",
            "This text appears to have been crafted by a human writer.\n",
            "Given the formal and regulatory nature of the text, it is likely that this text was crafted by a human writer rather than created by artificial intelligence. So, my prediction is \"Human\".\n",
            "Human\n",
            "Human\n",
            "AI\n",
            "Based on the complexity and creativity of the text provided, as well as the task it describes, it is likely crafted by a human writer. \n",
            "\n",
            "Prediction: Human\n",
            "Human\n",
            "Human\n",
            "Human\n",
            "Human\n",
            "Human\n",
            "Human\n",
            "Human\n",
            "Human\n",
            "Human\n",
            "Human\n",
            "Human\n",
            "   actual_label predicted_label\n",
            "0     generated           human\n",
            "1     generated           human\n",
            "2     generated       generated\n",
            "3     generated           human\n",
            "4     generated           human\n",
            "5     generated           human\n",
            "6         human           human\n",
            "7         human       generated\n",
            "8         human           human\n",
            "9     generated           human\n",
            "10        human           human\n",
            "11        human           human\n",
            "12        human           human\n",
            "13        human           human\n",
            "14        human           human\n",
            "15    generated           human\n",
            "16    generated           human\n",
            "17    generated           human\n",
            "18    generated           human\n",
            "19    generated           human\n"
          ]
        },
        {
          "output_type": "execute_result",
          "data": {
            "text/plain": [
              "0.4"
            ]
          },
          "metadata": {},
          "execution_count": 93
        }
      ]
    },
    {
      "cell_type": "markdown",
      "source": [
        "36"
      ],
      "metadata": {
        "id": "J8bZTlV8OdOe"
      }
    },
    {
      "cell_type": "code",
      "source": [
        "prompt = \"\"\"Text classification task: Does this text exhibit a human writing style or characteristics typically associated with AI generation?\n",
        "\n",
        "Text Sample: {text_to_classify}\n",
        "\n",
        "Predicted Style: Human / Machine\n",
        "\"\"\"\n",
        "classify_texts(df_samples, prompt)"
      ],
      "metadata": {
        "colab": {
          "base_uri": "https://localhost:8080/"
        },
        "id": "RfHPu6dh7lnk",
        "outputId": "8786529e-412c-4658-a76b-e8d9d5a15d4c"
      },
      "execution_count": null,
      "outputs": [
        {
          "output_type": "stream",
          "name": "stdout",
          "text": [
            "Predicted Style: Human\n",
            "Predicted Style: Machine\n",
            "Predicted Style: Machine\n",
            "Predicted Style: Human\n",
            "Predicted Style: Human\n",
            "Predicted Style: Human\n",
            "Predicted Style: Human\n",
            "Predicted Style: Machine\n",
            "Predicted Style: Human\n",
            "Predicted Style: Human\n",
            "Predicted Style: Human\n",
            "Predicted Style: Human\n",
            "Predicted Style: Human\n",
            "Predicted Style: Human\n",
            "Predicted Style: Human\n",
            "Predicted Style: Human\n",
            "Predicted Style: Human\n",
            "Predicted Style: Human\n",
            "Predicted Style: Human\n",
            "Predicted Style: Human\n",
            "   actual_label predicted_label\n",
            "0     generated           human\n",
            "1     generated       generated\n",
            "2     generated       generated\n",
            "3     generated           human\n",
            "4     generated           human\n",
            "5     generated           human\n",
            "6         human           human\n",
            "7         human       generated\n",
            "8         human           human\n",
            "9     generated           human\n",
            "10        human           human\n",
            "11        human           human\n",
            "12        human           human\n",
            "13        human           human\n",
            "14        human           human\n",
            "15    generated           human\n",
            "16    generated           human\n",
            "17    generated           human\n",
            "18    generated           human\n",
            "19    generated           human\n"
          ]
        },
        {
          "output_type": "execute_result",
          "data": {
            "text/plain": [
              "0.45"
            ]
          },
          "metadata": {},
          "execution_count": 95
        }
      ]
    },
    {
      "cell_type": "markdown",
      "source": [
        "37"
      ],
      "metadata": {
        "id": "ivycP88GBZA6"
      }
    },
    {
      "cell_type": "code",
      "source": [
        "prompt = \"\"\"Text classification task: Determine the origin of the text: AI or human? {text_to_classify} Your prediction: (machine or human)\n",
        "\"\"\"\n",
        "classify_texts(df_samples, prompt)"
      ],
      "metadata": {
        "id": "RKjWHct0KwmJ",
        "colab": {
          "base_uri": "https://localhost:8080/"
        },
        "outputId": "005bdfbe-e75a-4c49-f43a-e43ceaadf5ab"
      },
      "execution_count": null,
      "outputs": [
        {
          "output_type": "stream",
          "name": "stdout",
          "text": [
            "Based on the given text \"Extremely happy I got to go down in the trenches and help save lives, he said. That’s what we\", it is likely that the origin is human.\n",
            "This text is likely of human origin, as it pertains to regulations, deadlines, and decisions made by governing bodies.\n",
            "This text appears to be generated by a machine, specifically related to regulations and technical specifications for motor vehicles.\n",
            "AI\n",
            "This text seems to be discussing legal regulations and enforcement related to the management of milk products. Based on the content and formality of the text, it is likely generated by a human.\n",
            "Machine\n",
            "Human\n",
            "Machine\n",
            "This text is related to tarot card reading instructions and divination techniques. The task is to determine whether the text was written by AI or a human. Based on the content and style, this text seems to be generated by a human. This is due to the specific instructions given for laying out tarot cards, using terms related to divination, and the personal touch in suggesting a narrative pattern. Therefore, I predict this text was written by a human.\n",
            "Prediction: Human\n",
            "Prediction: Human\n",
            "Human\n",
            "Human\n",
            "Based on the text provided, it appears to be a legal text referring to Commission Regulation (EEC) No 409/86, which is likely to be written by a human for legal purposes. Therefore, the prediction is human.\n",
            "This text appears to be discussing guidance related to career development in the field of financial analysis and could be attributed to a human providing advice on pursuing a degree in finance or a related field. Therefore, the origin of the text is most likely human.\n",
            "Human\n",
            "Based on the language used and context provided in the statement, it is likely that the text originates from a human, particularly from a legal or regulatory document.\n",
            "Human\n",
            "This text appears to have originated from a human source.\n",
            "The text you provided is likely of human origin as it discusses the concept of common sense, which is a human characteristic associated with logic, experience, and judgment.\n",
            "   actual_label predicted_label\n",
            "0     generated           human\n",
            "1     generated           human\n",
            "2     generated       generated\n",
            "3     generated       generated\n",
            "4     generated           human\n",
            "5     generated       generated\n",
            "6         human           human\n",
            "7         human       generated\n",
            "8         human       generated\n",
            "9     generated           human\n",
            "10        human           human\n",
            "11        human           human\n",
            "12        human           human\n",
            "13        human           human\n",
            "14        human           human\n",
            "15    generated           human\n",
            "16    generated           human\n",
            "17    generated           human\n",
            "18    generated           human\n",
            "19    generated           human\n"
          ]
        },
        {
          "output_type": "execute_result",
          "data": {
            "text/plain": [
              "0.45"
            ]
          },
          "metadata": {},
          "execution_count": 10
        }
      ]
    },
    {
      "cell_type": "markdown",
      "source": [
        "38"
      ],
      "metadata": {
        "id": "7lIbghtwBazU"
      }
    },
    {
      "cell_type": "code",
      "source": [
        "prompt = \"\"\"Determine the origin of the text: AI or human?\n",
        "{text_to_classify}\n",
        "Choose machine or human:\n",
        "\"\"\"\n",
        "classify_texts(df_samples, prompt)"
      ],
      "metadata": {
        "colab": {
          "base_uri": "https://localhost:8080/"
        },
        "id": "3cp3UXXnmZ6v",
        "outputId": "190656d2-1b9b-4082-ec78-1924a562ddbe"
      },
      "execution_count": null,
      "outputs": [
        {
          "output_type": "stream",
          "name": "stdout",
          "text": [
            "This text is classified as human-originated.\n",
            "Human\n",
            "Machine\n",
            "Machine\n",
            "Human\n",
            "The text appears to be machine-generated (AI).\n",
            "Human\n",
            "Machine\n",
            "This text appears to be of human origin. It contains instructions and prompts related to laying out tarot cards, suggesting a process that involves creativity and interpretation in making sense of the card combinations.\n",
            "Human\n",
            "Human\n",
            "This text is most likely from a legal or official document, written by a human.\n",
            "Human\n",
            "Machine\n",
            "Human\n",
            "Human\n",
            "Human\n",
            "Human\n",
            "Human\n",
            "Human\n",
            "   actual_label predicted_label\n",
            "0     generated           human\n",
            "1     generated           human\n",
            "2     generated       generated\n",
            "3     generated       generated\n",
            "4     generated           human\n",
            "5     generated       generated\n",
            "6         human           human\n",
            "7         human       generated\n",
            "8         human           human\n",
            "9     generated           human\n",
            "10        human           human\n",
            "11        human           human\n",
            "12        human           human\n",
            "13        human       generated\n",
            "14        human           human\n",
            "15    generated           human\n",
            "16    generated           human\n",
            "17    generated           human\n",
            "18    generated           human\n",
            "19    generated           human\n"
          ]
        },
        {
          "output_type": "execute_result",
          "data": {
            "text/plain": [
              "0.45"
            ]
          },
          "metadata": {},
          "execution_count": 11
        }
      ]
    },
    {
      "cell_type": "markdown",
      "source": [
        "40"
      ],
      "metadata": {
        "id": "8VeUMRn2Bbyv"
      }
    },
    {
      "cell_type": "code",
      "source": [
        "prompt = \"\"\"Rate the likelihood of this text being generated by a large language model on a scale of 1 (very unlikely) to 5 (very likely). Please provide your conclusion: was this text likely generated by a machine or a human?\n",
        "Text: {text_to_classify}\n",
        "Your Answer: Likelihood, Machine or Human\n",
        "\"\"\"\n",
        "classify_texts(df_samples, prompt)"
      ],
      "metadata": {
        "colab": {
          "base_uri": "https://localhost:8080/"
        },
        "id": "EMy0P2lumi1L",
        "outputId": "7ebc2215-231c-48fb-ecf3-8d575e376714"
      },
      "execution_count": null,
      "outputs": [
        {
          "output_type": "stream",
          "name": "stdout",
          "text": [
            "Likelihood: 4 (Very likely)\n",
            "\n",
            "Conclusion: This text was likely generated by a machine.\n",
            "Likelihood: 5 (very likely)\n",
            "Conclusion: This text is likely generated by a machine.\n",
            "Likelihood: 5 (very likely)\n",
            "\n",
            "Conclusion: This text was likely generated by a machine, as it appears to be technical regulations or specifications that are commonly found in legal documents or technical manuals.\n",
            "Likelihood: 5 (very likely)\n",
            "\n",
            "Conclusion: This text was likely generated by a machine.\n",
            "Likelihood: 4\n",
            "Conclusion: This text is very likely generated by a machine.\n",
            "Likelihood: 5 (very likely)\n",
            "Conclusion: This text is likely generated by a human, as it contains a specific programming problem and code snippet that seems to be written by someone with programming knowledge and experience. The text does not exhibit the typical characteristics or patterns associated with being generated by a large language model.\n",
            "Likelihood: 4 (likely)\n",
            "Conclusion: This text was likely generated by a human.\n",
            "Likelihood: 5 (very likely)\n",
            "Conclusion: This text was likely generated by a machine, possibly a legal document generated by a language model.\n",
            "Likelihood: 4\n",
            "Conclusion: This text is very likely generated by a machine.\n",
            "Likelihood: 4\n",
            "\n",
            "Conclusion: This text is likely generated by a human.\n",
            "Likelihood: 4 (quite likely)\n",
            "Conclusion: This text was likely generated by a human.\n",
            "Likelihood: 5 (Very likely)\n",
            "\n",
            "Conclusion: This text was likely generated by a machine.\n",
            "Likelihood: 5 (very likely)\n",
            "Conclusion: This text was likely generated by a human.\n",
            "Likelihood: 5 (very likely)\n",
            "Conclusion: This text was likely generated by a machine.\n",
            "Likelihood: 3 (somewhat likely)\n",
            "\n",
            "Conclusion: This text was likely generated by a human.\n",
            "Likelihood: 4\n",
            "Conclusion: This text is likely generated by a human.\n",
            "Likelihood: 5 (very likely)\n",
            "Conclusion: This text was likely generated by a human, as it demonstrates a deep understanding of legal procedures and terminology, which is less likely to be accurately reproduced by a machine learning model.\n",
            "Likelihood: 5 (very likely)\n",
            "\n",
            "Conclusion: This text is highly likely to have been generated by a machine, specifically a large language model.\n",
            "Likelihood: 5 (very likely)\n",
            "\n",
            "Conclusion: This text is very likely to have been generated by a machine, especially considering the use of internet slang like \"zomg\" and the prompt-like structure of the message.\n",
            "Likelihood: 2\n",
            "Conclusion: This text is likely generated by a human.\n",
            "   actual_label predicted_label\n",
            "0     generated       generated\n",
            "1     generated       generated\n",
            "2     generated       generated\n",
            "3     generated       generated\n",
            "4     generated       generated\n",
            "5     generated           human\n",
            "6         human           human\n",
            "7         human       generated\n",
            "8         human       generated\n",
            "9     generated           human\n",
            "10        human           human\n",
            "11        human       generated\n",
            "12        human           human\n",
            "13        human       generated\n",
            "14        human           human\n",
            "15    generated           human\n",
            "16    generated       generated\n",
            "17    generated       generated\n",
            "18    generated       generated\n",
            "19    generated           human\n"
          ]
        },
        {
          "output_type": "execute_result",
          "data": {
            "text/plain": [
              "0.6"
            ]
          },
          "metadata": {},
          "execution_count": 14
        }
      ]
    },
    {
      "cell_type": "markdown",
      "source": [
        "41"
      ],
      "metadata": {
        "id": "nkABO9VHBc6F"
      }
    },
    {
      "cell_type": "code",
      "source": [
        "prompt = \"\"\"Rate the likelihood of this text being generated by a large language model on a scale of 1 (very unlikely) to 5 (very likely). Please provide your conclusion: was this text likely generated by an AI or a human?\n",
        "Text: {text_to_classify}\n",
        "Your Answer: Likelihood, AI or Human\n",
        "\"\"\"\n",
        "classify_texts(df_samples, prompt)"
      ],
      "metadata": {
        "colab": {
          "base_uri": "https://localhost:8080/"
        },
        "id": "V7na-cRvrNQK",
        "outputId": "27f6784b-cb70-4549-f209-e235485f2d2f"
      },
      "execution_count": null,
      "outputs": [
        {
          "output_type": "stream",
          "name": "stdout",
          "text": [
            "Likelihood: 4\n",
            "Conclusion: This text is likely generated by an AI language model.\n",
            "Likelihood: 5 (very likely)\n",
            "\n",
            "Conclusion: This text is very likely generated by a human due to the complex and specific regulatory language related to customs procedures and the European Council's decision-making processes.\n",
            "Likelihood: 4\n",
            "\n",
            "Conclusion: This text is likely generated by an AI, specifically a language model trained on legal or technical documents.\n",
            "Likelihood: 5 (very likely)\n",
            "\n",
            "Conclusion: This text was likely generated by an AI.\n",
            "Likelihood: 4 (likely)\n",
            "Conclusion: This text was likely generated by an AI language model.\n",
            "Likelihood: 4 (likely)\n",
            "Conclusion: This text is likely generated by a human, as it contains specific coding instructions and an explanation, which is less likely to be generated by a large language model.\n",
            "Likelihood: 4\n",
            "Conclusion: This text is likely to have been generated by a human because it includes personal experiences and interactions that are less likely to be generated by an AI.\n",
            "Likelihood: 4 (likely)\n",
            "Conclusion: This text is likely generated by an AI.\n",
            "Likelihood: 5 (very likely)\n",
            "\n",
            "Conclusion: This text is very likely generated by a large language model (AI).\n",
            "Likelihood: 5 (very likely)\n",
            "\n",
            "Conclusion: This text was likely generated by a human.\n",
            "Likelihood: 4\n",
            "Conclusion: This text is likely generated by a human.\n",
            "Likelihood: 5 (very likely)\n",
            "\n",
            "Conclusion: This text is very likely generated by an AI language model.\n",
            "Likelihood: 4 (likely)\n",
            "Conclusion: This text is likely generated by an AI language model.\n",
            "Likelihood: 5 (very likely)\n",
            "\n",
            "Conclusion: This text is very likely to have been generated by a large language model AI system. The technical and formal nature of the content, as well as the mention of specific regulations and dates, align with the capabilities of AI language models.\n",
            "Likelihood: 4 (likely)\n",
            "\n",
            "Conclusion: This text was likely generated by a human.\n",
            "Likelihood: 5 (very likely)\n",
            "Conclusion: This text was likely generated by a human.\n",
            "Likelihood: 5 (very likely)\n",
            "\n",
            "Conclusion: This text is very likely generated by an AI language model, given its formal and technical language that is commonly found in legal documents.\n",
            "Likelihood: 5 (very likely)\n",
            "\n",
            "Conclusion: This text is likely generated by a human.\n",
            "Likelihood: 5 (very likely)\n",
            "\n",
            "Conclusion: This text is likely generated by a human, as it shows understanding and empathy in responding to a message that got cut off.\n",
            "Likelihood: 1 (very unlikely)\n",
            "\n",
            "Conclusion: This text is likely generated by a human.\n",
            "   actual_label predicted_label\n",
            "0     generated       generated\n",
            "1     generated           human\n",
            "2     generated       generated\n",
            "3     generated       generated\n",
            "4     generated       generated\n",
            "5     generated           human\n",
            "6         human       generated\n",
            "7         human       generated\n",
            "8         human       generated\n",
            "9     generated           human\n",
            "10        human           human\n",
            "11        human       generated\n",
            "12        human       generated\n",
            "13        human       generated\n",
            "14        human           human\n",
            "15    generated           human\n",
            "16    generated       generated\n",
            "17    generated           human\n",
            "18    generated           human\n",
            "19    generated           human\n"
          ]
        },
        {
          "output_type": "execute_result",
          "data": {
            "text/plain": [
              "0.35"
            ]
          },
          "metadata": {},
          "execution_count": 15
        }
      ]
    },
    {
      "cell_type": "markdown",
      "source": [
        "42"
      ],
      "metadata": {
        "id": "mgDQu_9yBeDc"
      }
    },
    {
      "cell_type": "code",
      "source": [
        "prompt = \"\"\"Rate the likelihood of this text being generated by a large language model on a scale of 1 (very unlikely) to 5 (very likely). Please provide your conclusion: was this text likely generated by a machine or a human?\n",
        "Text: {text_to_classify}\n",
        "Response format: Likelihood, Machine or Human\n",
        "\"\"\"\n",
        "classify_texts(df_samples, prompt)"
      ],
      "metadata": {
        "colab": {
          "base_uri": "https://localhost:8080/"
        },
        "id": "-kE-Nh1Zrkbv",
        "outputId": "ec59f31a-ab45-4e0d-fb7b-22c7f70b5da0"
      },
      "execution_count": null,
      "outputs": [
        {
          "output_type": "stream",
          "name": "stdout",
          "text": [
            "Likelihood: 4\n",
            "Conclusion: This text was likely generated by a machine.\n",
            "Likelihood: 5 (very likely)\n",
            "Conclusion: This text was likely generated by a machine.\n",
            "Likelihood: 5 (very likely)\n",
            "Conclusion: This text was likely generated by a machine.\n",
            "Likelihood: 4\n",
            "Conclusion: This text was likely generated by a machine.\n",
            "Likelihood: 5 (very likely)\n",
            "Conclusion: This text was likely generated by a machine.\n",
            "Likelihood: 5\n",
            "Conclusion: This text is likely generated by a machine.\n",
            "Likelihood: 5 (very likely)\n",
            "\n",
            "Conclusion: This text is likely generated by a human.\n",
            "Likelihood: 5\n",
            "Conclusion: The text is likely generated by a machine.\n",
            "Likelihood: 4\n",
            "Conclusion: This text is likely generated by a machine.\n",
            "Likelihood: 5\n",
            "Conclusion: Likely generated by a human\n",
            "Likelihood: 5\n",
            "Conclusion: This text is very likely generated by a human.\n",
            "Likelihood: 5 (very likely)\n",
            "\n",
            "Conclusion: This text was likely generated by a machine.\n",
            "Likelihood: 4\n",
            "Conclusion: This text is likely generated by a human.\n",
            "Likelihood: 5 (very likely)\n",
            "Conclusion: This text was likely generated by a machine.\n",
            "Likelihood: 3 (likely)\n",
            "Conclusion: The text was likely generated by a human.\n",
            "Likelihood: 4\n",
            "Conclusion: This text was likely generated by a human.\n",
            "Likelihood: 5  \n",
            "Conclusion: This text was likely generated by a machine.\n",
            "Likelihood: 5 (very likely)\n",
            "Conclusion: This text was likely generated by a human.\n",
            "Likelihood: 5 (very likely)\n",
            "Conclusion: Machine\n",
            "Likelihood: 1\n",
            "\n",
            "Conclusion: This text was likely generated by a human.\n",
            "   actual_label predicted_label\n",
            "0     generated       generated\n",
            "1     generated       generated\n",
            "2     generated       generated\n",
            "3     generated       generated\n",
            "4     generated       generated\n",
            "5     generated       generated\n",
            "6         human           human\n",
            "7         human       generated\n",
            "8         human       generated\n",
            "9     generated           human\n",
            "10        human           human\n",
            "11        human       generated\n",
            "12        human           human\n",
            "13        human       generated\n",
            "14        human           human\n",
            "15    generated           human\n",
            "16    generated       generated\n",
            "17    generated           human\n",
            "18    generated       generated\n",
            "19    generated           human\n"
          ]
        },
        {
          "output_type": "execute_result",
          "data": {
            "text/plain": [
              "0.6"
            ]
          },
          "metadata": {},
          "execution_count": 16
        }
      ]
    },
    {
      "cell_type": "markdown",
      "source": [
        "43"
      ],
      "metadata": {
        "id": "2_4kZhCyBfkM"
      }
    },
    {
      "cell_type": "code",
      "source": [
        "prompt = \"\"\"Rate the likelihood of this text being generated by a large language model on a scale of 1 (very unlikely) to 5 (very likely). Please provide your conclusion: was this text likely generated by a Large Language Model or a human?\n",
        "Text: {text_to_classify}\n",
        "Response format: Likelihood, Machine or Human\n",
        "\"\"\"\n",
        "classify_texts(df_samples, prompt)"
      ],
      "metadata": {
        "colab": {
          "base_uri": "https://localhost:8080/"
        },
        "id": "h1ndPZBe7LXO",
        "outputId": "e0fa8af9-5bb5-4b2c-88da-8407d8e7d12f"
      },
      "execution_count": null,
      "outputs": [
        {
          "output_type": "stream",
          "name": "stdout",
          "text": [
            "Likelihood: 5\n",
            "Conclusion: Likely generated by a Large Language Model\n",
            "Likelihood: 5 (very likely)\n",
            "Conclusion: Machine\n",
            "Likelihood: 5 (very likely)\n",
            "Conclusion: This text was likely generated by a Large Language Model\n",
            "Likelihood: 5 (very likely)\n",
            "Conclusion: This text was likely generated by a Large Language Model\n",
            "Likelihood: 4\n",
            "Conclusion: This text was likely generated by a Large Language Model\n",
            "Likelihood: 5 (very likely)\n",
            "Conclusion: This text was likely generated by a Large Language Model\n",
            "Likelihood: 5 (very likely)\n",
            "Conclusion: This text was likely generated by a human.\n",
            "Likelihood: 5 (very likely)\n",
            "Conclusion: This text was likely generated by a Large Language Model\n",
            "Likelihood: 5 (very likely)\n",
            "Conclusion: Machine\n",
            "Likelihood: 4 (very likely)\n",
            "Conclusion: This text was likely generated by a Large Language Model\n",
            "Likelihood: 5 (very likely)\n",
            "Conclusion: This text was likely generated by a Large Language Model.\n",
            "Likelihood: 5 (very likely)\n",
            "Conclusion: This text was likely generated by a Large Language Model\n",
            "Likelihood: 4\n",
            "Conclusion: This text was likely generated by a Large Language Model\n",
            "Likelihood: 1 (very unlikely)\n",
            "Conclusion: Human\n",
            "Likelihood: 2\n",
            "Conclusion: Human\n",
            "Likelihood: 4\n",
            "Conclusion: This text was likely generated by a human.\n",
            "Likelihood: 5 (very likely)\n",
            "Conclusion: This text was likely generated by a Large Language Model\n",
            "Likelihood: 5\n",
            "Conclusion: This text was likely generated by a Large Language Model\n",
            "Likelihood: 5 (very likely)\n",
            "Conclusion: This text was likely generated by a Large Language Model\n",
            "Likelihood: 1 (very unlikely)\n",
            "Conclusion: Human\n",
            "   actual_label predicted_label\n",
            "0     generated       generated\n",
            "1     generated       generated\n",
            "2     generated       generated\n",
            "3     generated       generated\n",
            "4     generated       generated\n",
            "5     generated       generated\n",
            "6         human           human\n",
            "7         human       generated\n",
            "8         human       generated\n",
            "9     generated       generated\n",
            "10        human       generated\n",
            "11        human       generated\n",
            "12        human       generated\n",
            "13        human           human\n",
            "14        human           human\n",
            "15    generated           human\n",
            "16    generated       generated\n",
            "17    generated       generated\n",
            "18    generated       generated\n",
            "19    generated           human\n"
          ]
        },
        {
          "output_type": "execute_result",
          "data": {
            "text/plain": [
              "0.65"
            ]
          },
          "metadata": {},
          "execution_count": 21
        }
      ]
    },
    {
      "cell_type": "markdown",
      "source": [
        "44"
      ],
      "metadata": {
        "id": "cbg-LuvpBgvS"
      }
    },
    {
      "cell_type": "code",
      "source": [
        "prompt = \"\"\"Rate the likelihood of this text being generated by a large language model on a scale of 1 (very unlikely) to 5 (very likely). Please provide your conclusion: was this text likely generated by a Large Language Model or a human?\n",
        "Text: {text_to_classify}\n",
        "Response format: Likelihood (1-5), Machine or Human\n",
        "\"\"\"\n",
        "classify_texts(df_samples, prompt)"
      ],
      "metadata": {
        "id": "ohD_h-E4-qqs",
        "outputId": "a597fc9f-4e06-49a1-ff10-33d5d1cb037b",
        "colab": {
          "base_uri": "https://localhost:8080/"
        }
      },
      "execution_count": null,
      "outputs": [
        {
          "output_type": "stream",
          "name": "stdout",
          "text": [
            "Likelihood: 4\n",
            "Conclusion: Likely generated by a Large Language Model\n",
            "Likelihood: 5\n",
            "Conclusion: This text was likely generated by a Large Language Model.\n",
            "Likelihood: 5\n",
            "Conclusion: Machine\n",
            "Likelihood: 5\n",
            "Generated by Machine\n",
            "Likelihood: 5\n",
            "Conclusion: This text was likely generated by a Large Language Model\n",
            "Likelihood: 3, Human\n",
            "Likelihood: 5\n",
            "Conclusion: This text was likely generated by a human.\n",
            "Likelihood: 5\n",
            "Generated by Machine\n",
            "Likelihood: 5\n",
            "Likely generated by a Large Language Model\n",
            "Likelihood: 4\n",
            "Conclusion: This text is likely generated by a human.\n",
            "Likelihood: 5\n",
            "Conclusion: This text was likely generated by a Large Language Model.\n",
            "Likelihood: 4\n",
            "Conclusion: This text was likely generated by a Human.\n",
            "Likelihood: 4\n",
            "Likely generated by a Human\n",
            "Likelihood: 5\n",
            "Conclusion: It is very likely that this text was generated by a Large Language Model.\n",
            "Likelihood: 1\n",
            "Conclusion: Human\n",
            "Likelihood: 5\n",
            "Machine\n",
            "Likelihood: 5\n",
            "Conclusion: Likely generated by a Large Language Model\n",
            "Likelihood: 5\n",
            "Conclusion: This text was very likely generated by a Large Language Model.\n",
            "Likelihood: 5 (very likely)\n",
            "Generated by: Machine\n",
            "Likelihood: 2\n",
            "Conclusion: The text is likely generated by a human.\n",
            "   actual_label predicted_label\n",
            "0     generated       generated\n",
            "1     generated       generated\n",
            "2     generated       generated\n",
            "3     generated       generated\n",
            "4     generated       generated\n",
            "5     generated           human\n",
            "6         human           human\n",
            "7         human       generated\n",
            "8         human       generated\n",
            "9     generated           human\n",
            "10        human       generated\n",
            "11        human           human\n",
            "12        human           human\n",
            "13        human       generated\n",
            "14        human           human\n",
            "15    generated       generated\n",
            "16    generated       generated\n",
            "17    generated       generated\n",
            "18    generated       generated\n",
            "19    generated           human\n"
          ]
        },
        {
          "output_type": "execute_result",
          "data": {
            "text/plain": [
              "0.65"
            ]
          },
          "metadata": {},
          "execution_count": 25
        }
      ]
    },
    {
      "cell_type": "markdown",
      "source": [
        "45"
      ],
      "metadata": {
        "id": "bULHqTy1Bh0n"
      }
    },
    {
      "cell_type": "code",
      "source": [
        "prompt = \"\"\"Rate the likelihood of this text being generated by an AI model on a scale of 1 (very unlikely) to 5 (very likely). Please provide your conclusion: was this text likely generated by an AI model or a human?\n",
        "Text: {text_to_classify}\n",
        "Response format: Likelihood (1-5) Human or AI\n",
        "\"\"\"\n",
        "classify_texts(df_samples, prompt)"
      ],
      "metadata": {
        "colab": {
          "base_uri": "https://localhost:8080/"
        },
        "id": "Uvkb-tny74dV",
        "outputId": "a7a3e70b-4fe3-4740-d055-f64e8e80636d"
      },
      "execution_count": null,
      "outputs": [
        {
          "output_type": "stream",
          "name": "stdout",
          "text": [
            "Likelihood: 4\n",
            "Conclusion: This text was likely generated by a human.\n",
            "Likelihood: 5\n",
            "Conclusion: This text is very likely generated by an AI model, given the technical and specific regulatory nature of the content.\n",
            "Likelihood: 5\n",
            "Conclusion: This text was very likely generated by an AI model.\n",
            "Likelihood: 4\n",
            "Conclusion: This text was likely generated by an AI model.\n",
            "Likelihood: 3\n",
            "Conclusion: It is somewhat likely that this text was generated by an AI model, as it contains specific legalistic language and regulations that AI models can easily simulate.\n",
            "Likelihood: 3\n",
            "Conclusion: This text was likely generated by a human.\n",
            "Likelihood: 4\n",
            "Conclusion: This text was likely generated by a human.\n",
            "Likelihood: 5\n",
            "Conclusion: This text was likely generated by an AI model.\n",
            "Likelihood: 3\n",
            "Conclusion: This text could have been generated by either a human or an AI model. It contains instructions and prompts for a specific activity, which are commonly found in both AI-generated and human-authored texts.\n",
            "Likelihood: 5\n",
            "Conclusion: This text was very likely generated by an AI model.\n",
            "Likelihood: 4\n",
            "Conclusion: This text is likely generated by a human, given the informal language and personal context used.\n",
            "Likelihood: 5\n",
            "Conclusion: This text was likely generated by an AI model.\n",
            "Likelihood: 4\n",
            "Conclusion: The text was likely generated by a human.\n",
            "Likelihood: 5\n",
            "Conclusion: AI\n",
            "Likelihood: 2\n",
            "\n",
            "Conclusion: Human\n",
            "Likelihood: 4\n",
            "Conclusion: Likely generated by a human\n",
            "Likelihood: 4\n",
            "Conclusion: AI\n",
            "Likelihood: 4\n",
            "Conclusion: This text is likely generated by a human.\n",
            "Likelihood: 5\n",
            "Conclusion: This text is likely generated by an AI model.\n",
            "Likelihood: 2\n",
            "Conclusion: Likely generated by a human\n",
            "   actual_label predicted_label\n",
            "0     generated           human\n",
            "1     generated       generated\n",
            "2     generated       generated\n",
            "3     generated       generated\n",
            "4     generated       generated\n",
            "5     generated           human\n",
            "6         human           human\n",
            "7         human       generated\n",
            "8         human       generated\n",
            "9     generated       generated\n",
            "10        human           human\n",
            "11        human       generated\n",
            "12        human           human\n",
            "13        human       generated\n",
            "14        human           human\n",
            "15    generated           human\n",
            "16    generated       generated\n",
            "17    generated           human\n",
            "18    generated       generated\n",
            "19    generated           human\n"
          ]
        },
        {
          "output_type": "execute_result",
          "data": {
            "text/plain": [
              "0.55"
            ]
          },
          "metadata": {},
          "execution_count": 24
        }
      ]
    },
    {
      "cell_type": "markdown",
      "source": [
        "46"
      ],
      "metadata": {
        "id": "JbJiKNbyBi-v"
      }
    },
    {
      "cell_type": "code",
      "source": [
        "prompt = \"\"\"Text classification: Rate the likelihood of this text being generated by an AI model on a scale of 1 (very unlikely) to 5 (very likely). Please provide your conclusion: was this text likely generated by an AI model or a human?\n",
        "Text: {text_to_classify}\n",
        "Response format: Likelihood (1-5) Human or AI\n",
        "\"\"\"\n",
        "classify_texts(df_samples, prompt)"
      ],
      "metadata": {
        "id": "ScYRjdL58Zg0",
        "colab": {
          "base_uri": "https://localhost:8080/"
        },
        "outputId": "9774a5d2-e3d3-48fd-926f-8460a59cfb17"
      },
      "execution_count": null,
      "outputs": [
        {
          "output_type": "stream",
          "name": "stdout",
          "text": [
            "Likelihood: 4\n",
            "Conclusion: This text is likely generated by a human.\n",
            "Likelihood: 4\n",
            "Conclusion: This text is likely generated by a human.\n",
            "Likelihood: 5\n",
            "Conclusion: This text is likely generated by an AI model.\n",
            "Likelihood: 5\n",
            "Conclusion: This text was likely generated by an AI model.\n",
            "Likelihood: 4\n",
            "Conclusion: This text was likely generated by a human.\n",
            "Likelihood: 4\n",
            "Conclusion: This text is likely generated by a human.\n",
            "Likelihood: 4\n",
            "Conclusion: This text was likely generated by a human.\n",
            "Likelihood: 5\n",
            "Conclusion: This text was very likely generated by an AI model.\n",
            "Likelihood: 5\n",
            "Conclusion: This text is very likely generated by an AI model.\n",
            "Likelihood: 2\n",
            "Conclusion: This text was most likely written by a human.\n",
            "Likelihood: 4\n",
            "Conclusion: This text is likely generated by a human.\n",
            "Likelihood: 5\n",
            "Conclusion: This text was very likely generated by an AI model.\n",
            "Likelihood: 3\n",
            "Conclusion: It is uncertain whether this text was generated by an AI model or a human, as it seems like a fairly straightforward informative passage.\n",
            "Likelihood: 5\n",
            "Conclusion: This text is very likely generated by an AI model.\n",
            "Likelihood: 4\n",
            "Conclusion: This text was likely generated by a human.\n",
            "Likelihood: 4\n",
            "Conclusion: This text was likely generated by a human.\n",
            "Likelihood: 4\n",
            "Conclusion: This text is likely generated by a human.\n",
            "Likelihood: 4\n",
            "Conclusion: This text was likely generated by a human.\n",
            "Likelihood: 4\n",
            "Conclusion: This text is likely generated by a human.\n",
            "Likelihood: 2\n",
            "Conclusion: This text is likely written by a human.\n",
            "   actual_label predicted_label\n",
            "0     generated           human\n",
            "1     generated           human\n",
            "2     generated       generated\n",
            "3     generated       generated\n",
            "4     generated           human\n",
            "5     generated           human\n",
            "6         human           human\n",
            "7         human       generated\n",
            "8         human       generated\n",
            "9     generated           human\n",
            "10        human           human\n",
            "11        human       generated\n",
            "12        human       generated\n",
            "13        human       generated\n",
            "14        human           human\n",
            "15    generated           human\n",
            "16    generated           human\n",
            "17    generated           human\n",
            "18    generated           human\n",
            "19    generated           human\n"
          ]
        },
        {
          "output_type": "execute_result",
          "data": {
            "text/plain": [
              "0.25"
            ]
          },
          "metadata": {},
          "execution_count": 9
        }
      ]
    },
    {
      "cell_type": "markdown",
      "source": [
        "47"
      ],
      "metadata": {
        "id": "-Jtz6XVPL144"
      }
    },
    {
      "cell_type": "code",
      "source": [
        "prompt = \"\"\"Rate the probability that this text was generated by a large language model, from 1 (unlikely) to 5 (very likely). Please state your conclusion: do you believe this text was created by a machine or a human?\n",
        "Text: {text_to_classify}\n",
        "Response format: Probability (1-5), Machine or Human\n",
        "\"\"\"\n",
        "classify_texts(df_samples, prompt)"
      ],
      "metadata": {
        "colab": {
          "base_uri": "https://localhost:8080/"
        },
        "id": "u8NiPywkBo9L",
        "outputId": "dded55c0-e8ea-4d65-f728-69a8916bd98f"
      },
      "execution_count": null,
      "outputs": [
        {
          "output_type": "stream",
          "name": "stdout",
          "text": [
            "4, Human\n",
            "Probability: 5\n",
            "Conclusion: Machine\n",
            "Probability: 5\n",
            "Conclusion: Machine\n",
            "Probability: 5\n",
            "Conclusion: Machine\n",
            "Probability: 4 (very likely)\n",
            "Conclusion: This text was likely created by a human.\n",
            "Probability: 4, Machine\n",
            "Probability: 5\n",
            "Conclusion: Machine\n",
            "Probability: 5\n",
            "Conclusion: Machine\n",
            "Probability: 1\n",
            "Conclusion: Human\n",
            "Probability: 2, Human\n",
            "Probability: 5\n",
            "Conclusion: Machine\n",
            "Probability: 5\n",
            "Conclusion: Machine\n",
            "Probability: 3 (likely)\n",
            "Conclusion: Human\n",
            "Probability: 4\n",
            "Conclusion: Machine\n",
            "Probability: 2\n",
            "Conclusion: Human\n",
            "Probability: 4\n",
            "Conclusion: Machine\n",
            "Probability: 5\n",
            "Conclusion: Machine\n",
            "Probability: 2\n",
            "Conclusion: Human\n",
            "Probability: 5\n",
            "Conclusion: Machine\n",
            "Probability: 1\n",
            "Conclusion: Human\n",
            "   actual_label predicted_label\n",
            "0     generated           human\n",
            "1     generated       generated\n",
            "2     generated       generated\n",
            "3     generated       generated\n",
            "4     generated           human\n",
            "5     generated       generated\n",
            "6         human       generated\n",
            "7         human       generated\n",
            "8         human           human\n",
            "9     generated           human\n",
            "10        human       generated\n",
            "11        human       generated\n",
            "12        human           human\n",
            "13        human       generated\n",
            "14        human           human\n",
            "15    generated       generated\n",
            "16    generated       generated\n",
            "17    generated           human\n",
            "18    generated       generated\n",
            "19    generated           human\n"
          ]
        },
        {
          "output_type": "execute_result",
          "data": {
            "text/plain": [
              "0.5"
            ]
          },
          "metadata": {},
          "execution_count": 10
        }
      ]
    },
    {
      "cell_type": "markdown",
      "source": [
        "48"
      ],
      "metadata": {
        "id": "0Jeq4AU3L4D0"
      }
    },
    {
      "cell_type": "code",
      "source": [
        "prompt = \"\"\"On a scale of 1 to 5, assess the likelihood that this text was produced by an AI language model. Additionally, state your determination: was it likely created by a machine or a human?\n",
        "Text: {text_to_classify}\n",
        "Response format: Likelihood (1-5), Machine or Human\n",
        "\"\"\"\n",
        "classify_texts(df_samples, prompt)"
      ],
      "metadata": {
        "colab": {
          "base_uri": "https://localhost:8080/"
        },
        "id": "YmI05hKZB3eE",
        "outputId": "791246b1-dfd4-4ac7-a573-312aa2eb2cc6"
      },
      "execution_count": null,
      "outputs": [
        {
          "output_type": "stream",
          "name": "stdout",
          "text": [
            "Likelihood: 2\n",
            "Determination: Likely created by a human\n",
            "Likelihood: 5\n",
            "Determination: Machine\n",
            "Likelihood: 5\n",
            "Determination: Machine\n",
            "Likelihood: 4  \n",
            "Determination: Likely created by a human\n",
            "Likelihood: 3\n",
            "Determination: Likely created by a human\n",
            "Likelihood: 4\n",
            "Determination: Machine\n",
            "Likelihood: 4 \n",
            "Determination: Machine\n",
            "Likelihood: 5\n",
            "Determination: Machine\n",
            "Likelihood: 2\n",
            "Determination: Likely created by a human\n",
            "Likelihood: 2, Human\n",
            "Likelihood: 3\n",
            "Determination: Human\n",
            "Likelihood: 3\n",
            "Determination: Human\n",
            "Likelihood: 3\n",
            "Determination: Likely created by a human\n",
            "Likelihood: 4  \n",
            "Determination: Likely created by a human\n",
            "Likelihood: 2\n",
            "Determination: Human\n",
            "Likelihood: 2\n",
            "Determination: Human\n",
            "Likelihood: 5 \n",
            "Determination: Machine\n",
            "Likelihood: 3\n",
            "Determination: Human\n",
            "Likelihood: 5\n",
            "Determination: Machine\n",
            "Likelihood: 1\n",
            "Determination: Human\n",
            "   actual_label predicted_label\n",
            "0     generated           human\n",
            "1     generated       generated\n",
            "2     generated       generated\n",
            "3     generated           human\n",
            "4     generated           human\n",
            "5     generated       generated\n",
            "6         human       generated\n",
            "7         human       generated\n",
            "8         human           human\n",
            "9     generated           human\n",
            "10        human           human\n",
            "11        human           human\n",
            "12        human           human\n",
            "13        human           human\n",
            "14        human           human\n",
            "15    generated           human\n",
            "16    generated       generated\n",
            "17    generated           human\n",
            "18    generated       generated\n",
            "19    generated           human\n"
          ]
        },
        {
          "output_type": "execute_result",
          "data": {
            "text/plain": [
              "0.55"
            ]
          },
          "metadata": {},
          "execution_count": 11
        }
      ]
    },
    {
      "cell_type": "markdown",
      "source": [
        "49"
      ],
      "metadata": {
        "id": "HASinw6-L5aK"
      }
    },
    {
      "cell_type": "code",
      "source": [
        "prompt = \"\"\"Considering the style and content, rate from 1 to 5 the probability that this text originated from an AI language model. Also, please indicate your judgment: do you think it was generated by a machine or a human?\n",
        "Text: {text_to_classify}\n",
        "Response format: Probability (1-5), Machine or Human\n",
        "\"\"\"\n",
        "classify_texts(df_samples, prompt)"
      ],
      "metadata": {
        "colab": {
          "base_uri": "https://localhost:8080/"
        },
        "id": "jM8KNUiVCGYv",
        "outputId": "bfc62c3f-04fd-456f-cb6e-ed61abd43fb5"
      },
      "execution_count": null,
      "outputs": [
        {
          "output_type": "stream",
          "name": "stdout",
          "text": [
            "Probability: 2  \n",
            "Judgment: Human\n",
            "Probability: 5\n",
            "Judgment: Machine\n",
            "Probability: 5\n",
            "Judgment: Machine\n",
            "Probability: 4\n",
            "Judgment: Machine\n",
            "Probability: 4\n",
            "Judgment: Machine\n",
            "Probability: 4\n",
            "Judgment: Machine\n",
            "Probability: 4\n",
            "Judgment: Machine\n",
            "Probability: 5\n",
            "Judgment: Machine\n",
            "Probability: 4\n",
            "Judgment: Machine\n",
            "Probability: 2\n",
            "Judgment: Human\n",
            "Probability: 4\n",
            "Judgment: Machine\n",
            "Probability: 1\n",
            "Judgment: Human\n",
            "Probability: 2\n",
            "Judgment: Human\n",
            "Probability: 5\n",
            "Judgment: Machine\n",
            "Probability: 2\n",
            "Judgment: Human\n",
            "Probability: 2\n",
            "Judgment: Human\n",
            "Probability: 2\n",
            "Judgment: Human\n",
            "Probability: 2\n",
            "Judgment: Human\n",
            "Probability: 4\n",
            "Judgment: Machine\n",
            "Probability: 2\n",
            "Judgment: Human\n",
            "   actual_label predicted_label\n",
            "0     generated           human\n",
            "1     generated       generated\n",
            "2     generated       generated\n",
            "3     generated       generated\n",
            "4     generated       generated\n",
            "5     generated       generated\n",
            "6         human       generated\n",
            "7         human       generated\n",
            "8         human       generated\n",
            "9     generated           human\n",
            "10        human       generated\n",
            "11        human           human\n",
            "12        human           human\n",
            "13        human       generated\n",
            "14        human           human\n",
            "15    generated           human\n",
            "16    generated           human\n",
            "17    generated           human\n",
            "18    generated       generated\n",
            "19    generated           human\n"
          ]
        },
        {
          "output_type": "execute_result",
          "data": {
            "text/plain": [
              "0.45"
            ]
          },
          "metadata": {},
          "execution_count": 12
        }
      ]
    },
    {
      "cell_type": "markdown",
      "source": [
        "50"
      ],
      "metadata": {
        "id": "7wfh_sj-L8hr"
      }
    },
    {
      "cell_type": "code",
      "source": [
        "prompt = \"\"\"Evaluate your confidence level in the classification of this text as either machine-generated or human-written. Rate it from 1 to 5, where 1 indicates low confidence and 5 indicates high confidence. Additionally, provide your conclusion: do you believe this text was likely generated by a machine or a human?\n",
        "Text: {text_to_classify}\n",
        "Response format: Confidence (1-5), Machine or Human\n",
        "\"\"\"\n",
        "classify_texts(df_samples, prompt)"
      ],
      "metadata": {
        "colab": {
          "base_uri": "https://localhost:8080/"
        },
        "id": "l7x_uk0yCfXT",
        "outputId": "5f47f96f-4035-4afc-ca05-4d1df7adabb5"
      },
      "execution_count": null,
      "outputs": [
        {
          "output_type": "stream",
          "name": "stdout",
          "text": [
            "Confidence: 4\n",
            "Conclusion: Human\n",
            "Confidence: 3\n",
            "Conclusion: Human\n",
            "Confidence: 5\n",
            "Conclusion: Machine\n",
            "Confidence: 5\n",
            "Classification: Human\n",
            "Confidence: 4\n",
            "Conclusion: Human\n",
            "Confidence: 4\n",
            "Conclusion: Human\n",
            "Confidence: 5\n",
            "Conclusion: Human\n",
            "Confidence: 5\n",
            "Conclusion: The text is likely human-written.\n",
            "Confidence: 4\n",
            "Conclusion: Human\n",
            "Confidence: 5\n",
            "Conclusion: Human\n",
            "Confidence: 2\n",
            "Likely Human\n",
            "Confidence: 5\n",
            "Classification: Human\n",
            "Confidence: 4\n",
            "Conclusion: Human\n",
            "Confidence: 5\n",
            "Conclusion: Human\n",
            "Confidence: 4\n",
            "Conclusion: Human\n",
            "Confidence: 5\n",
            "Conclusion: Human\n",
            "Confidence: 5\n",
            "Conclusion: Human\n",
            "Confidence: 5\n",
            "Conclusion: Human\n",
            "Confidence: 5\n",
            "Classification: Human\n",
            "Confidence: 5 \n",
            "Conclusion: Human\n",
            "   actual_label predicted_label\n",
            "0     generated           human\n",
            "1     generated           human\n",
            "2     generated       generated\n",
            "3     generated           human\n",
            "4     generated           human\n",
            "5     generated           human\n",
            "6         human           human\n",
            "7         human           human\n",
            "8         human           human\n",
            "9     generated           human\n",
            "10        human           human\n",
            "11        human           human\n",
            "12        human           human\n",
            "13        human           human\n",
            "14        human           human\n",
            "15    generated           human\n",
            "16    generated           human\n",
            "17    generated           human\n",
            "18    generated           human\n",
            "19    generated           human\n"
          ]
        },
        {
          "output_type": "execute_result",
          "data": {
            "text/plain": [
              "0.45"
            ]
          },
          "metadata": {},
          "execution_count": 13
        }
      ]
    },
    {
      "cell_type": "markdown",
      "source": [
        "51"
      ],
      "metadata": {
        "id": "KbrsDj6YL9m5"
      }
    },
    {
      "cell_type": "code",
      "source": [
        "prompt = \"\"\"Examine the provided text and determine its origin. Rate the likelihood of this text being generated by a large language model on a scale of 1 (very unlikely) to 5 (very likely).\n",
        "Text: {text_to_classify}\n",
        "Response format: Likelihood (1-5), followed by your conclusion (Machine or Human)\n",
        "\"\"\"\n",
        "classify_texts(df_samples, prompt)"
      ],
      "metadata": {
        "colab": {
          "base_uri": "https://localhost:8080/"
        },
        "id": "a82CY4RdCmMZ",
        "outputId": "4b0cfc03-0b72-430e-f145-bfb4d0a2f42a"
      },
      "execution_count": null,
      "outputs": [
        {
          "output_type": "stream",
          "name": "stdout",
          "text": [
            "Likelihood: 3\n",
            "Conclusion: It is uncertain if the text was generated by a large language model or written by a human.\n",
            "Likelihood: 2\n",
            "Conclusion: Human\n",
            "Likelihood: 4\n",
            "Conclusion: Machine\n",
            "Likelihood: 5\n",
            "Conclusion: Machine\n",
            "Likelihood: 2\n",
            "\n",
            "Conclusion: Human\n",
            "Likelihood: 3  \n",
            "Conclusion: Machine\n",
            "Likelihood: 4\n",
            "Conclusion: Machine\n",
            "Likelihood: 1\n",
            "Conclusion: Human\n",
            "Likelihood: 3\n",
            "\n",
            "Conclusion: Likely human based on the detailed instructions and narrative approach.\n",
            "Likelihood: 4\n",
            "Conclusion: Human\n",
            "Likelihood: 5  \n",
            "Conclusion: Machine\n",
            "Likelihood: 1\n",
            "Conclusion: Human\n",
            "Likelihood: 4\n",
            "Conclusion: Machine\n",
            "Likelihood: 1\n",
            "\n",
            "Conclusion: Human\n",
            "Likelihood: 3\n",
            "Conclusion: Human\n",
            "Likelihood: 5\n",
            "Conclusion: Machine\n",
            "Likelihood: 4\n",
            "Conclusion: Machine\n",
            "Likelihood: 4\n",
            "Conclusion: Machine\n",
            "Likelihood: 4\n",
            "Conclusion: Machine\n",
            "Likelihood: 2\n",
            "Conclusion: Human\n",
            "   actual_label predicted_label\n",
            "0     generated           human\n",
            "1     generated           human\n",
            "2     generated       generated\n",
            "3     generated       generated\n",
            "4     generated           human\n",
            "5     generated       generated\n",
            "6         human       generated\n",
            "7         human           human\n",
            "8         human           human\n",
            "9     generated           human\n",
            "10        human       generated\n",
            "11        human           human\n",
            "12        human       generated\n",
            "13        human           human\n",
            "14        human           human\n",
            "15    generated       generated\n",
            "16    generated       generated\n",
            "17    generated       generated\n",
            "18    generated       generated\n",
            "19    generated           human\n"
          ]
        },
        {
          "output_type": "execute_result",
          "data": {
            "text/plain": [
              "0.6"
            ]
          },
          "metadata": {},
          "execution_count": 15
        }
      ]
    },
    {
      "cell_type": "markdown",
      "source": [
        "52"
      ],
      "metadata": {
        "id": "UONuPkGeL-kn"
      }
    },
    {
      "cell_type": "code",
      "source": [
        "prompt = \"\"\"Evaluate the likelihood of this text being generated by a large language model on a scale of 1 (very unlikely) to 4 (very likely). Based on your assessment:\n",
        "- If the likelihood is rated 1 or 2, conclude that the text was likely written by a human.\n",
        "- If the likelihood is rated 3, or 4, conclude that the text was likely generated by a machine.\n",
        "Text: {text_to_classify}\n",
        "Response format: Likelihood (1-5), machine or human\n",
        "\"\"\"\n",
        "classify_texts(df_samples, prompt),"
      ],
      "metadata": {
        "colab": {
          "base_uri": "https://localhost:8080/"
        },
        "id": "MTKYQCAfDShR",
        "outputId": "f1b771c3-1aea-4fbc-fa92-19a6f77a6ec3"
      },
      "execution_count": null,
      "outputs": [
        {
          "output_type": "stream",
          "name": "stdout",
          "text": [
            "Likelihood: 1 (very unlikely), human\n",
            "Likelihood: 1, human\n",
            "Likelihood: 4, machine\n",
            "Likelihood: 1, human\n",
            "Likelihood: 1, Human\n",
            "Likelihood: 1, human\n",
            "Likelihood: 1, human\n",
            "Likelihood: 4, machine\n",
            "Likelihood: 3, machine\n",
            "Likelihood: 1, human\n",
            "Likelihood: 1, human\n",
            "Likelihood: 3, machine\n",
            "Likelihood: 1 (very unlikely)\n",
            "Conclusion: Human\n",
            "Likelihood: 3, machine\n",
            "Likelihood: 1, human\n",
            "Likelihood: 1\n",
            "Conclusion: The text was likely written by a human\n",
            "Likelihood: 3, machine\n",
            "Likelihood: 1, human\n",
            "Likelihood: 1, human\n",
            "Likelihood: 1\n",
            "Conclusion: Human\n",
            "   actual_label predicted_label\n",
            "0     generated           human\n",
            "1     generated           human\n",
            "2     generated       generated\n",
            "3     generated           human\n",
            "4     generated           human\n",
            "5     generated           human\n",
            "6         human           human\n",
            "7         human       generated\n",
            "8         human       generated\n",
            "9     generated           human\n",
            "10        human           human\n",
            "11        human       generated\n",
            "12        human           human\n",
            "13        human       generated\n",
            "14        human           human\n",
            "15    generated           human\n",
            "16    generated       generated\n",
            "17    generated           human\n",
            "18    generated           human\n",
            "19    generated           human\n"
          ]
        },
        {
          "output_type": "execute_result",
          "data": {
            "text/plain": [
              "(0.3,)"
            ]
          },
          "metadata": {},
          "execution_count": 18
        }
      ]
    }
  ]
}